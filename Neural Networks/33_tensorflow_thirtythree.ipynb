{
 "cells": [
  {
   "cell_type": "code",
   "execution_count": 1,
   "metadata": {},
   "outputs": [],
   "source": [
    "import tensorflow as tf\n",
    "import numpy as np\n",
    "import matplotlib.pyplot as plt"
   ]
  },
  {
   "cell_type": "code",
   "execution_count": 2,
   "metadata": {},
   "outputs": [
    {
     "data": {
      "text/plain": [
       "<tf.Tensor: shape=(50,), dtype=int32, numpy=\n",
       "array([-100,  -96,  -92,  -88,  -84,  -80,  -76,  -72,  -68,  -64,  -60,\n",
       "        -56,  -52,  -48,  -44,  -40,  -36,  -32,  -28,  -24,  -20,  -16,\n",
       "        -12,   -8,   -4,    0,    4,    8,   12,   16,   20,   24,   28,\n",
       "         32,   36,   40,   44,   48,   52,   56,   60,   64,   68,   72,\n",
       "         76,   80,   84,   88,   92,   96])>"
      ]
     },
     "execution_count": 2,
     "metadata": {},
     "output_type": "execute_result"
    }
   ],
   "source": [
    "# Lets Create data\n",
    "X = tf.range(-100,100,4)\n",
    "X"
   ]
  },
  {
   "cell_type": "code",
   "execution_count": 3,
   "metadata": {},
   "outputs": [
    {
     "data": {
      "text/plain": [
       "<tf.Tensor: shape=(50,), dtype=int32, numpy=\n",
       "array([-90, -86, -82, -78, -74, -70, -66, -62, -58, -54, -50, -46, -42,\n",
       "       -38, -34, -30, -26, -22, -18, -14, -10,  -6,  -2,   2,   6,  10,\n",
       "        14,  18,  22,  26,  30,  34,  38,  42,  46,  50,  54,  58,  62,\n",
       "        66,  70,  74,  78,  82,  86,  90,  94,  98, 102, 106])>"
      ]
     },
     "execution_count": 3,
     "metadata": {},
     "output_type": "execute_result"
    }
   ],
   "source": [
    "y = X + 10\n",
    "y"
   ]
  },
  {
   "cell_type": "code",
   "execution_count": 5,
   "metadata": {},
   "outputs": [],
   "source": [
    "X_train = X[:40]\n",
    "y_train = y[:40]\n",
    "\n",
    "X_test = X[40:]\n",
    "y_test = y[40:]"
   ]
  },
  {
   "cell_type": "code",
   "execution_count": 6,
   "metadata": {},
   "outputs": [
    {
     "data": {
      "text/plain": [
       "(40, 10, 40, 10)"
      ]
     },
     "execution_count": 6,
     "metadata": {},
     "output_type": "execute_result"
    }
   ],
   "source": [
    "len(X_train), len(X_test), len(y_train), len(y_test)"
   ]
  },
  {
   "cell_type": "code",
   "execution_count": 7,
   "metadata": {},
   "outputs": [
    {
     "name": "stdout",
     "output_type": "stream",
     "text": [
      "Epoch 1/100\n",
      "2/2 [==============================] - 0s 5ms/step - loss: 71.0820 - mae: 71.0820\n",
      "Epoch 2/100\n",
      "2/2 [==============================] - 0s 2ms/step - loss: 35.8376 - mae: 35.8376\n",
      "Epoch 3/100\n",
      "2/2 [==============================] - 0s 2ms/step - loss: 7.6572 - mae: 7.6572\n",
      "Epoch 4/100\n",
      "2/2 [==============================] - 0s 3ms/step - loss: 9.6793 - mae: 9.6793\n",
      "Epoch 5/100\n",
      "2/2 [==============================] - 0s 2ms/step - loss: 11.1211 - mae: 11.1211\n",
      "Epoch 6/100\n",
      "2/2 [==============================] - 0s 2ms/step - loss: 10.2719 - mae: 10.2719\n",
      "Epoch 7/100\n",
      "2/2 [==============================] - 0s 3ms/step - loss: 9.2764 - mae: 9.2764\n",
      "Epoch 8/100\n",
      "2/2 [==============================] - 0s 2ms/step - loss: 9.1931 - mae: 9.1931\n",
      "Epoch 9/100\n",
      "2/2 [==============================] - 0s 2ms/step - loss: 11.8326 - mae: 11.8326\n",
      "Epoch 10/100\n",
      "2/2 [==============================] - 0s 3ms/step - loss: 13.7665 - mae: 13.7665\n",
      "Epoch 11/100\n",
      "2/2 [==============================] - 0s 3ms/step - loss: 11.8567 - mae: 11.8567\n",
      "Epoch 12/100\n",
      "2/2 [==============================] - 0s 2ms/step - loss: 16.3421 - mae: 16.3421\n",
      "Epoch 13/100\n",
      "2/2 [==============================] - 0s 2ms/step - loss: 11.9028 - mae: 11.9028\n",
      "Epoch 14/100\n",
      "2/2 [==============================] - 0s 2ms/step - loss: 13.8136 - mae: 13.8136\n",
      "Epoch 15/100\n",
      "2/2 [==============================] - 0s 2ms/step - loss: 11.1991 - mae: 11.1991\n",
      "Epoch 16/100\n",
      "2/2 [==============================] - 0s 3ms/step - loss: 8.6220 - mae: 8.6220\n",
      "Epoch 17/100\n",
      "2/2 [==============================] - 0s 3ms/step - loss: 13.8065 - mae: 13.8065\n",
      "Epoch 18/100\n",
      "2/2 [==============================] - 0s 2ms/step - loss: 11.6729 - mae: 11.6729\n",
      "Epoch 19/100\n",
      "2/2 [==============================] - 0s 2ms/step - loss: 17.6961 - mae: 17.6961\n",
      "Epoch 20/100\n",
      "2/2 [==============================] - 0s 1ms/step - loss: 14.8324 - mae: 14.8324\n",
      "Epoch 21/100\n",
      "2/2 [==============================] - 0s 2ms/step - loss: 10.7501 - mae: 10.7501\n",
      "Epoch 22/100\n",
      "2/2 [==============================] - 0s 2ms/step - loss: 8.4885 - mae: 8.4885\n",
      "Epoch 23/100\n",
      "2/2 [==============================] - 0s 3ms/step - loss: 9.8269 - mae: 9.8269\n",
      "Epoch 24/100\n",
      "2/2 [==============================] - 0s 2ms/step - loss: 10.8458 - mae: 10.8458\n",
      "Epoch 25/100\n",
      "2/2 [==============================] - 0s 4ms/step - loss: 9.1263 - mae: 9.1263\n",
      "Epoch 26/100\n",
      "2/2 [==============================] - 0s 3ms/step - loss: 13.0734 - mae: 13.0734\n",
      "Epoch 27/100\n",
      "2/2 [==============================] - 0s 2ms/step - loss: 10.4135 - mae: 10.4135\n",
      "Epoch 28/100\n",
      "2/2 [==============================] - 0s 2ms/step - loss: 13.4139 - mae: 13.4139\n",
      "Epoch 29/100\n",
      "2/2 [==============================] - 0s 2ms/step - loss: 9.6277 - mae: 9.6277\n",
      "Epoch 30/100\n",
      "2/2 [==============================] - 0s 4ms/step - loss: 17.2252 - mae: 17.2252\n",
      "Epoch 31/100\n",
      "2/2 [==============================] - 0s 2ms/step - loss: 22.8528 - mae: 22.8528\n",
      "Epoch 32/100\n",
      "2/2 [==============================] - 0s 2ms/step - loss: 7.9329 - mae: 7.9329\n",
      "Epoch 33/100\n",
      "2/2 [==============================] - 0s 1ms/step - loss: 14.1631 - mae: 14.1631\n",
      "Epoch 34/100\n",
      "2/2 [==============================] - 0s 2ms/step - loss: 12.4135 - mae: 12.4135\n",
      "Epoch 35/100\n",
      "2/2 [==============================] - 0s 3ms/step - loss: 8.2708 - mae: 8.2708\n",
      "Epoch 36/100\n",
      "2/2 [==============================] - 0s 2ms/step - loss: 10.4868 - mae: 10.4868\n",
      "Epoch 37/100\n",
      "2/2 [==============================] - 0s 2ms/step - loss: 10.1342 - mae: 10.1342\n",
      "Epoch 38/100\n",
      "2/2 [==============================] - 0s 1ms/step - loss: 11.3211 - mae: 11.3211\n",
      "Epoch 39/100\n",
      "2/2 [==============================] - 0s 2ms/step - loss: 14.7865 - mae: 14.7865\n",
      "Epoch 40/100\n",
      "2/2 [==============================] - 0s 2ms/step - loss: 12.9166 - mae: 12.9166\n",
      "Epoch 41/100\n",
      "2/2 [==============================] - 0s 2ms/step - loss: 9.3094 - mae: 9.3094\n",
      "Epoch 42/100\n",
      "2/2 [==============================] - 0s 3ms/step - loss: 11.0058 - mae: 11.0058\n",
      "Epoch 43/100\n",
      "2/2 [==============================] - 0s 2ms/step - loss: 8.3468 - mae: 8.3468\n",
      "Epoch 44/100\n",
      "2/2 [==============================] - 0s 3ms/step - loss: 13.0353 - mae: 13.0353\n",
      "Epoch 45/100\n",
      "2/2 [==============================] - 0s 2ms/step - loss: 13.7095 - mae: 13.7095\n",
      "Epoch 46/100\n",
      "2/2 [==============================] - 0s 3ms/step - loss: 8.4165 - mae: 8.4165\n",
      "Epoch 47/100\n",
      "2/2 [==============================] - 0s 3ms/step - loss: 9.1955 - mae: 9.1955\n",
      "Epoch 48/100\n",
      "2/2 [==============================] - 0s 4ms/step - loss: 10.7049 - mae: 10.7049\n",
      "Epoch 49/100\n",
      "2/2 [==============================] - 0s 2ms/step - loss: 7.8061 - mae: 7.8061\n",
      "Epoch 50/100\n",
      "2/2 [==============================] - 0s 2ms/step - loss: 9.6200 - mae: 9.6200\n",
      "Epoch 51/100\n",
      "2/2 [==============================] - 0s 2ms/step - loss: 9.1885 - mae: 9.1885\n",
      "Epoch 52/100\n",
      "2/2 [==============================] - 0s 2ms/step - loss: 16.5060 - mae: 16.5060\n",
      "Epoch 53/100\n",
      "2/2 [==============================] - 0s 3ms/step - loss: 14.0816 - mae: 14.0816\n",
      "Epoch 54/100\n",
      "2/2 [==============================] - 0s 2ms/step - loss: 20.9798 - mae: 20.9798\n",
      "Epoch 55/100\n",
      "2/2 [==============================] - 0s 2ms/step - loss: 16.5292 - mae: 16.5292\n",
      "Epoch 56/100\n",
      "2/2 [==============================] - 0s 2ms/step - loss: 9.8573 - mae: 9.8573\n",
      "Epoch 57/100\n",
      "2/2 [==============================] - 0s 2ms/step - loss: 9.6874 - mae: 9.6874\n",
      "Epoch 58/100\n",
      "2/2 [==============================] - 0s 1ms/step - loss: 9.0032 - mae: 9.0032\n",
      "Epoch 59/100\n",
      "2/2 [==============================] - 0s 2ms/step - loss: 10.2197 - mae: 10.2197\n",
      "Epoch 60/100\n",
      "2/2 [==============================] - 0s 1ms/step - loss: 8.4231 - mae: 8.4231\n",
      "Epoch 61/100\n",
      "2/2 [==============================] - 0s 2ms/step - loss: 9.2544 - mae: 9.2544\n",
      "Epoch 62/100\n",
      "2/2 [==============================] - 0s 2ms/step - loss: 7.2932 - mae: 7.2932\n",
      "Epoch 63/100\n",
      "2/2 [==============================] - 0s 2ms/step - loss: 8.1971 - mae: 8.1971\n",
      "Epoch 64/100\n",
      "2/2 [==============================] - 0s 2ms/step - loss: 12.5590 - mae: 12.5590\n",
      "Epoch 65/100\n",
      "2/2 [==============================] - 0s 2ms/step - loss: 10.6457 - mae: 10.6457\n",
      "Epoch 66/100\n",
      "2/2 [==============================] - 0s 2ms/step - loss: 15.4748 - mae: 15.4748\n",
      "Epoch 67/100\n",
      "2/2 [==============================] - 0s 3ms/step - loss: 9.9206 - mae: 9.9206\n",
      "Epoch 68/100\n",
      "2/2 [==============================] - 0s 2ms/step - loss: 8.6951 - mae: 8.6951\n",
      "Epoch 69/100\n",
      "2/2 [==============================] - 0s 2ms/step - loss: 13.3503 - mae: 13.3503\n",
      "Epoch 70/100\n",
      "2/2 [==============================] - 0s 5ms/step - loss: 7.4898 - mae: 7.4898\n",
      "Epoch 71/100\n",
      "2/2 [==============================] - 0s 4ms/step - loss: 12.3726 - mae: 12.3726\n",
      "Epoch 72/100\n",
      "2/2 [==============================] - 0s 4ms/step - loss: 8.4681 - mae: 8.4681\n",
      "Epoch 73/100\n",
      "2/2 [==============================] - 0s 4ms/step - loss: 6.8947 - mae: 6.8947\n",
      "Epoch 74/100\n",
      "2/2 [==============================] - 0s 2ms/step - loss: 11.0669 - mae: 11.0669\n",
      "Epoch 75/100\n",
      "2/2 [==============================] - 0s 3ms/step - loss: 9.4353 - mae: 9.4353\n",
      "Epoch 76/100\n",
      "2/2 [==============================] - 0s 3ms/step - loss: 10.8910 - mae: 10.8910\n",
      "Epoch 77/100\n",
      "2/2 [==============================] - 0s 2ms/step - loss: 14.8271 - mae: 14.8271\n",
      "Epoch 78/100\n",
      "2/2 [==============================] - 0s 2ms/step - loss: 10.8965 - mae: 10.8965\n",
      "Epoch 79/100\n",
      "2/2 [==============================] - 0s 2ms/step - loss: 15.3369 - mae: 15.3369\n",
      "Epoch 80/100\n",
      "2/2 [==============================] - 0s 2ms/step - loss: 11.7929 - mae: 11.7929\n",
      "Epoch 81/100\n",
      "2/2 [==============================] - 0s 2ms/step - loss: 9.2181 - mae: 9.2181\n",
      "Epoch 82/100\n",
      "2/2 [==============================] - 0s 2ms/step - loss: 12.8765 - mae: 12.8765\n",
      "Epoch 83/100\n",
      "2/2 [==============================] - 0s 3ms/step - loss: 10.3406 - mae: 10.3406\n",
      "Epoch 84/100\n",
      "2/2 [==============================] - 0s 3ms/step - loss: 10.6006 - mae: 10.6006\n",
      "Epoch 85/100\n",
      "2/2 [==============================] - 0s 2ms/step - loss: 9.3198 - mae: 9.3198\n",
      "Epoch 86/100\n",
      "2/2 [==============================] - 0s 2ms/step - loss: 9.1743 - mae: 9.1743\n",
      "Epoch 87/100\n",
      "2/2 [==============================] - 0s 1ms/step - loss: 11.8901 - mae: 11.8901\n",
      "Epoch 88/100\n",
      "2/2 [==============================] - 0s 2ms/step - loss: 10.5017 - mae: 10.5017\n",
      "Epoch 89/100\n",
      "2/2 [==============================] - 0s 2ms/step - loss: 6.9960 - mae: 6.9960\n",
      "Epoch 90/100\n",
      "2/2 [==============================] - 0s 3ms/step - loss: 13.8282 - mae: 13.8282\n",
      "Epoch 91/100\n",
      "2/2 [==============================] - 0s 1ms/step - loss: 7.9039 - mae: 7.9039\n",
      "Epoch 92/100\n",
      "2/2 [==============================] - 0s 3ms/step - loss: 7.4775 - mae: 7.4775\n",
      "Epoch 93/100\n",
      "2/2 [==============================] - 0s 3ms/step - loss: 9.1842 - mae: 9.1842\n",
      "Epoch 94/100\n",
      "2/2 [==============================] - 0s 2ms/step - loss: 8.5853 - mae: 8.5853\n",
      "Epoch 95/100\n",
      "2/2 [==============================] - 0s 3ms/step - loss: 11.5303 - mae: 11.5303\n",
      "Epoch 96/100\n",
      "2/2 [==============================] - 0s 2ms/step - loss: 10.3014 - mae: 10.3014\n",
      "Epoch 97/100\n",
      "2/2 [==============================] - 0s 2ms/step - loss: 7.7104 - mae: 7.7104\n",
      "Epoch 98/100\n",
      "2/2 [==============================] - 0s 2ms/step - loss: 8.6455 - mae: 8.6455\n",
      "Epoch 99/100\n",
      "2/2 [==============================] - 0s 1ms/step - loss: 9.4259 - mae: 9.4259\n",
      "Epoch 100/100\n",
      "2/2 [==============================] - 0s 3ms/step - loss: 8.8678 - mae: 8.8678\n"
     ]
    },
    {
     "data": {
      "text/plain": [
       "<keras.src.callbacks.History at 0x1a4b28e3710>"
      ]
     },
     "execution_count": 7,
     "metadata": {},
     "output_type": "execute_result"
    }
   ],
   "source": [
    "# Lets build our model_1 with 1 layer and 100 epochs\n",
    "\n",
    "tf.random.set_seed(42)\n",
    "\n",
    "# 1. Create a model\n",
    "model_1 = tf.keras.Sequential([\n",
    "    tf.keras.layers.Dense(1)\n",
    "])\n",
    "\n",
    "# 2. Compile the model\n",
    "model_1.compile(loss=tf.keras.losses.mae,\n",
    "                optimizer=tf.keras.optimizers.SGD(),\n",
    "                metrics=['mae'])\n",
    "\n",
    "# 3. Fit the model\n",
    "model_1.fit(tf.expand_dims(X_train, axis= -1), y_train, epochs=100)"
   ]
  },
  {
   "cell_type": "code",
   "execution_count": 8,
   "metadata": {},
   "outputs": [
    {
     "name": "stdout",
     "output_type": "stream",
     "text": [
      "1/1 [==============================] - 0s 60ms/step\n"
     ]
    },
    {
     "data": {
      "text/plain": [
       "array([[ 74.59939 ],\n",
       "       [ 79.488266],\n",
       "       [ 84.377144],\n",
       "       [ 89.26602 ],\n",
       "       [ 94.15489 ],\n",
       "       [ 99.04377 ],\n",
       "       [103.93265 ],\n",
       "       [108.82152 ],\n",
       "       [113.710396],\n",
       "       [118.59927 ]], dtype=float32)"
      ]
     },
     "execution_count": 8,
     "metadata": {},
     "output_type": "execute_result"
    }
   ],
   "source": [
    "y_pred_1 = model_1.predict(X_test)\n",
    "y_pred_1"
   ]
  },
  {
   "cell_type": "code",
   "execution_count": 13,
   "metadata": {},
   "outputs": [],
   "source": [
    "# Lets create a plotting function\n",
    "\n",
    "def plot_preds(train_data = X_train,\n",
    "               test_data = X_test,\n",
    "               train_labels = y_train,\n",
    "               test_labels = y_test,\n",
    "               predictions = y_pred_1):\n",
    "    \n",
    "    # Plot training data, testing data and compare predictions to ground truth labels\n",
    "    \n",
    "    plt.figure(figsize=(15,10))\n",
    "    \n",
    "    # Plot the training data in lime(light green)\n",
    "    plt.scatter(train_data, train_labels, label=\"Training Data\", c = \"lime\")\n",
    "    \n",
    "    # plot the testing data in cyan\n",
    "    plt.scatter(test_data, test_labels, label=\"Testing Data\", c=\"cyan\")\n",
    "    \n",
    "    # plot the predictions in orange\n",
    "    plt.scatter(test_data, predictions, label=\"Predictions\", c=\"orange\")\n",
    "    \n",
    "    # legend\n",
    "    plt.legend()\n",
    "    \n",
    "    plt.show()"
   ]
  },
  {
   "cell_type": "code",
   "execution_count": 14,
   "metadata": {},
   "outputs": [
    {
     "data": {
      "image/png": "[encoded data removed]",
      "text/plain": [
       "<Figure size 1500x1000 with 1 Axes>"
      ]
     },
     "metadata": {},
     "output_type": "display_data"
    }
   ],
   "source": [
    "# Plot the predictions for the model\n",
    "plot_preds(predictions=y_pred_1)"
   ]
  },
  {
   "cell_type": "code",
   "execution_count": 27,
   "metadata": {},
   "outputs": [
    {
     "data": {
      "text/plain": [
       "<tf.Tensor: shape=(10,), dtype=int32, numpy=array([ 70,  74,  78,  82,  86,  90,  94,  98, 102, 106])>"
      ]
     },
     "execution_count": 27,
     "metadata": {},
     "output_type": "execute_result"
    }
   ],
   "source": [
    "y_true = y_test\n",
    "y_true"
   ]
  },
  {
   "cell_type": "code",
   "execution_count": 31,
   "metadata": {},
   "outputs": [],
   "source": [
    "# Calculate model_1 evaluation metrics\n",
    "\n",
    "# Lets build function to calculate mae\n",
    "\n",
    "def mae(y_true, y_pred):\n",
    "    return tf.keras.metrics.mean_absolute_error(y_true, y_pred)\n",
    "\n",
    "# Lets build a function to calculate mse\n",
    "def mse(y_true, y_pred):\n",
    "    return tf.keras.metrics.mean_squared_error(y_true, y_pred)"
   ]
  },
  {
   "cell_type": "code",
   "execution_count": 32,
   "metadata": {},
   "outputs": [
    {
     "data": {
      "text/plain": [
       "(<tf.Tensor: shape=(10, 1), dtype=float32, numpy=\n",
       " array([[ 74.59939 ],\n",
       "        [ 79.488266],\n",
       "        [ 84.377144],\n",
       "        [ 89.26602 ],\n",
       "        [ 94.15489 ],\n",
       "        [ 99.04377 ],\n",
       "        [103.93265 ],\n",
       "        [108.82152 ],\n",
       "        [113.710396],\n",
       "        [118.59927 ]], dtype=float32)>,\n",
       " <tf.Tensor: shape=(10,), dtype=float32, numpy=\n",
       " array([ 74.59939 ,  79.488266,  84.377144,  89.26602 ,  94.15489 ,\n",
       "         99.04377 , 103.93265 , 108.82152 , 113.710396, 118.59927 ],\n",
       "       dtype=float32)>)"
      ]
     },
     "execution_count": 32,
     "metadata": {},
     "output_type": "execute_result"
    }
   ],
   "source": [
    "tf.constant(y_pred_1), tf.squeeze(y_pred_1) # adjusted dimension"
   ]
  },
  {
   "cell_type": "code",
   "execution_count": 33,
   "metadata": {},
   "outputs": [
    {
     "data": {
      "text/plain": [
       "(<tf.Tensor: shape=(), dtype=float32, numpy=8.599332>,\n",
       " <tf.Tensor: shape=(), dtype=float32, numpy=80.466835>)"
      ]
     },
     "execution_count": 33,
     "metadata": {},
     "output_type": "execute_result"
    }
   ],
   "source": [
    "mae_1 = mae(y_test, tf.squeeze(y_pred_1)) # adjusting dimensions\n",
    "mse_1 = mse(y_test, tf.squeeze(y_pred_1))\n",
    "\n",
    "mae_1, mse_1"
   ]
  },
  {
   "cell_type": "code",
   "execution_count": 34,
   "metadata": {},
   "outputs": [
    {
     "data": {
      "image/png": "[encoded data removed]",
      "text/plain": [
       "<Figure size 1500x1000 with 1 Axes>"
      ]
     },
     "metadata": {},
     "output_type": "display_data"
    }
   ],
   "source": [
    "# plot\n",
    "plot_preds(predictions=y_pred_1) "
   ]
  }
 ],
 "metadata": {
  "kernelspec": {
   "display_name": "Python 3",
   "language": "python",
   "name": "python3"
  },
  "language_info": {
   "codemirror_mode": {
    "name": "ipython",
    "version": 3
   },
   "file_extension": ".py",
   "mimetype": "text/x-python",
   "name": "python",
   "nbconvert_exporter": "python",
   "pygments_lexer": "ipython3",
   "version": "3.11.3"
  },
  "orig_nbformat": 4
 },
 "nbformat": 4,
 "nbformat_minor": 2
}
