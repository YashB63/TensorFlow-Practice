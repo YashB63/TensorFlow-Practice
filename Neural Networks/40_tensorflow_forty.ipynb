{
 "cells": [
  {
   "cell_type": "code",
   "execution_count": 1,
   "metadata": {},
   "outputs": [],
   "source": [
    "import tensorflow as tf\n",
    "import numpy as np\n",
    "import matplotlib.pyplot as plt"
   ]
  },
  {
   "cell_type": "code",
   "execution_count": 2,
   "metadata": {},
   "outputs": [
    {
     "data": {
      "text/plain": [
       "(<tf.Tensor: shape=(50,), dtype=int32, numpy=\n",
       " array([-100,  -96,  -92,  -88,  -84,  -80,  -76,  -72,  -68,  -64,  -60,\n",
       "         -56,  -52,  -48,  -44,  -40,  -36,  -32,  -28,  -24,  -20,  -16,\n",
       "         -12,   -8,   -4,    0,    4,    8,   12,   16,   20,   24,   28,\n",
       "          32,   36,   40,   44,   48,   52,   56,   60,   64,   68,   72,\n",
       "          76,   80,   84,   88,   92,   96])>,\n",
       " <tf.Tensor: shape=(50,), dtype=int32, numpy=\n",
       " array([-90, -86, -82, -78, -74, -70, -66, -62, -58, -54, -50, -46, -42,\n",
       "        -38, -34, -30, -26, -22, -18, -14, -10,  -6,  -2,   2,   6,  10,\n",
       "         14,  18,  22,  26,  30,  34,  38,  42,  46,  50,  54,  58,  62,\n",
       "         66,  70,  74,  78,  82,  86,  90,  94,  98, 102, 106])>)"
      ]
     },
     "execution_count": 2,
     "metadata": {},
     "output_type": "execute_result"
    }
   ],
   "source": [
    "X = tf.range(-100, 100, 4)\n",
    "\n",
    "y = X + 10\n",
    "\n",
    "X, y"
   ]
  },
  {
   "cell_type": "code",
   "execution_count": 4,
   "metadata": {},
   "outputs": [],
   "source": [
    "X_train = X[:40]\n",
    "y_train = y[:40]\n",
    "\n",
    "X_test = X[40:]\n",
    "y_test = y[40:]"
   ]
  },
  {
   "cell_type": "code",
   "execution_count": 5,
   "metadata": {},
   "outputs": [
    {
     "data": {
      "text/plain": [
       "(<tf.Tensor: shape=(40,), dtype=int32, numpy=\n",
       " array([-100,  -96,  -92,  -88,  -84,  -80,  -76,  -72,  -68,  -64,  -60,\n",
       "         -56,  -52,  -48,  -44,  -40,  -36,  -32,  -28,  -24,  -20,  -16,\n",
       "         -12,   -8,   -4,    0,    4,    8,   12,   16,   20,   24,   28,\n",
       "          32,   36,   40,   44,   48,   52,   56])>,\n",
       " <tf.Tensor: shape=(10,), dtype=int32, numpy=array([60, 64, 68, 72, 76, 80, 84, 88, 92, 96])>,\n",
       " <tf.Tensor: shape=(40,), dtype=int32, numpy=\n",
       " array([-90, -86, -82, -78, -74, -70, -66, -62, -58, -54, -50, -46, -42,\n",
       "        -38, -34, -30, -26, -22, -18, -14, -10,  -6,  -2,   2,   6,  10,\n",
       "         14,  18,  22,  26,  30,  34,  38,  42,  46,  50,  54,  58,  62,\n",
       "         66])>,\n",
       " <tf.Tensor: shape=(10,), dtype=int32, numpy=array([ 70,  74,  78,  82,  86,  90,  94,  98, 102, 106])>)"
      ]
     },
     "execution_count": 5,
     "metadata": {},
     "output_type": "execute_result"
    }
   ],
   "source": [
    "X_train, X_test, y_train, y_test"
   ]
  },
  {
   "cell_type": "code",
   "execution_count": 7,
   "metadata": {},
   "outputs": [
    {
     "name": "stdout",
     "output_type": "stream",
     "text": [
      "Epoch 1/100\n",
      "2/2 [==============================] - 0s 4ms/step - loss: 62.5021 - mae: 62.5021\n",
      "Epoch 2/100\n",
      "2/2 [==============================] - 0s 1ms/step - loss: 26.3730 - mae: 26.3730\n",
      "Epoch 3/100\n",
      "2/2 [==============================] - 0s 3ms/step - loss: 19.1524 - mae: 19.1524\n",
      "Epoch 4/100\n",
      "2/2 [==============================] - 0s 1ms/step - loss: 13.8818 - mae: 13.8818\n",
      "Epoch 5/100\n",
      "2/2 [==============================] - 0s 2ms/step - loss: 15.3985 - mae: 15.3985\n",
      "Epoch 6/100\n",
      "2/2 [==============================] - 0s 3ms/step - loss: 12.2246 - mae: 12.2246\n",
      "Epoch 7/100\n",
      "2/2 [==============================] - 0s 3ms/step - loss: 11.5188 - mae: 11.5188\n",
      "Epoch 8/100\n",
      "2/2 [==============================] - 0s 2ms/step - loss: 11.2260 - mae: 11.2260\n",
      "Epoch 9/100\n",
      "2/2 [==============================] - 0s 3ms/step - loss: 41.9975 - mae: 41.9975\n",
      "Epoch 10/100\n",
      "2/2 [==============================] - 0s 1ms/step - loss: 29.1948 - mae: 29.1948\n",
      "Epoch 11/100\n",
      "2/2 [==============================] - 0s 2ms/step - loss: 8.5690 - mae: 8.5690\n",
      "Epoch 12/100\n",
      "2/2 [==============================] - 0s 2ms/step - loss: 27.3751 - mae: 27.3751\n",
      "Epoch 13/100\n",
      "2/2 [==============================] - 0s 3ms/step - loss: 12.1641 - mae: 12.1641\n",
      "Epoch 14/100\n",
      "2/2 [==============================] - 0s 2ms/step - loss: 35.1427 - mae: 35.1427\n",
      "Epoch 15/100\n",
      "2/2 [==============================] - 0s 4ms/step - loss: 22.9071 - mae: 22.9071\n",
      "Epoch 16/100\n",
      "2/2 [==============================] - 0s 2ms/step - loss: 10.0006 - mae: 10.0006\n",
      "Epoch 17/100\n",
      "2/2 [==============================] - 0s 2ms/step - loss: 18.4578 - mae: 18.4578\n",
      "Epoch 18/100\n",
      "2/2 [==============================] - 0s 1ms/step - loss: 11.3239 - mae: 11.3239\n",
      "Epoch 19/100\n",
      "2/2 [==============================] - 0s 1ms/step - loss: 13.8839 - mae: 13.8839\n",
      "Epoch 20/100\n",
      "2/2 [==============================] - 0s 4ms/step - loss: 11.1728 - mae: 11.1728\n",
      "Epoch 21/100\n",
      "2/2 [==============================] - 0s 2ms/step - loss: 17.1999 - mae: 17.1999\n",
      "Epoch 22/100\n",
      "2/2 [==============================] - 0s 2ms/step - loss: 15.4379 - mae: 15.4379\n",
      "Epoch 23/100\n",
      "2/2 [==============================] - 0s 2ms/step - loss: 9.2420 - mae: 9.2420\n",
      "Epoch 24/100\n",
      "2/2 [==============================] - 0s 2ms/step - loss: 17.2927 - mae: 17.2927\n",
      "Epoch 25/100\n",
      "2/2 [==============================] - 0s 2ms/step - loss: 15.9573 - mae: 15.9573\n",
      "Epoch 26/100\n",
      "2/2 [==============================] - 0s 2ms/step - loss: 20.9766 - mae: 20.9766\n",
      "Epoch 27/100\n",
      "2/2 [==============================] - 0s 4ms/step - loss: 25.8602 - mae: 25.8602\n",
      "Epoch 28/100\n",
      "2/2 [==============================] - 0s 2ms/step - loss: 18.3715 - mae: 18.3715\n",
      "Epoch 29/100\n",
      "2/2 [==============================] - 0s 2ms/step - loss: 9.2369 - mae: 9.2369\n",
      "Epoch 30/100\n",
      "2/2 [==============================] - 0s 1ms/step - loss: 28.9832 - mae: 28.9832\n",
      "Epoch 31/100\n",
      "2/2 [==============================] - 0s 3ms/step - loss: 52.4822 - mae: 52.4822\n",
      "Epoch 32/100\n",
      "2/2 [==============================] - 0s 2ms/step - loss: 11.8827 - mae: 11.8827\n",
      "Epoch 33/100\n",
      "2/2 [==============================] - 0s 2ms/step - loss: 15.4502 - mae: 15.4502\n",
      "Epoch 34/100\n",
      "2/2 [==============================] - 0s 2ms/step - loss: 12.5622 - mae: 12.5622\n",
      "Epoch 35/100\n",
      "2/2 [==============================] - 0s 3ms/step - loss: 9.1796 - mae: 9.1796\n",
      "Epoch 36/100\n",
      "2/2 [==============================] - 0s 4ms/step - loss: 16.4234 - mae: 16.4234\n",
      "Epoch 37/100\n",
      "2/2 [==============================] - 0s 2ms/step - loss: 11.0968 - mae: 11.0968\n",
      "Epoch 38/100\n",
      "2/2 [==============================] - 0s 2ms/step - loss: 18.2276 - mae: 18.2276\n",
      "Epoch 39/100\n",
      "2/2 [==============================] - 0s 2ms/step - loss: 19.1577 - mae: 19.1577\n",
      "Epoch 40/100\n",
      "2/2 [==============================] - 0s 2ms/step - loss: 20.5357 - mae: 20.5357\n",
      "Epoch 41/100\n",
      "2/2 [==============================] - 0s 2ms/step - loss: 14.7745 - mae: 14.7745\n",
      "Epoch 42/100\n",
      "2/2 [==============================] - 0s 2ms/step - loss: 12.1785 - mae: 12.1785\n",
      "Epoch 43/100\n",
      "2/2 [==============================] - 0s 2ms/step - loss: 10.6824 - mae: 10.6824\n",
      "Epoch 44/100\n",
      "2/2 [==============================] - 0s 3ms/step - loss: 32.2079 - mae: 32.2079\n",
      "Epoch 45/100\n",
      "2/2 [==============================] - 0s 4ms/step - loss: 12.4475 - mae: 12.4475\n",
      "Epoch 46/100\n",
      "2/2 [==============================] - 0s 2ms/step - loss: 17.4703 - mae: 17.4703\n",
      "Epoch 47/100\n",
      "2/2 [==============================] - 0s 2ms/step - loss: 15.7701 - mae: 15.7701\n",
      "Epoch 48/100\n",
      "2/2 [==============================] - 0s 2ms/step - loss: 8.3821 - mae: 8.3821\n",
      "Epoch 49/100\n",
      "2/2 [==============================] - 0s 2ms/step - loss: 13.9961 - mae: 13.9961\n",
      "Epoch 50/100\n",
      "2/2 [==============================] - 0s 3ms/step - loss: 12.8367 - mae: 12.8367\n",
      "Epoch 51/100\n",
      "2/2 [==============================] - 0s 3ms/step - loss: 14.8436 - mae: 14.8436\n",
      "Epoch 52/100\n",
      "2/2 [==============================] - 0s 3ms/step - loss: 18.7273 - mae: 18.7273\n",
      "Epoch 53/100\n",
      "2/2 [==============================] - 0s 2ms/step - loss: 24.1843 - mae: 24.1843\n",
      "Epoch 54/100\n",
      "2/2 [==============================] - 0s 3ms/step - loss: 23.1411 - mae: 23.1411\n",
      "Epoch 55/100\n",
      "2/2 [==============================] - 0s 1ms/step - loss: 23.9863 - mae: 23.9863\n",
      "Epoch 56/100\n",
      "2/2 [==============================] - 0s 2ms/step - loss: 11.1423 - mae: 11.1423\n",
      "Epoch 57/100\n",
      "2/2 [==============================] - 0s 2ms/step - loss: 13.0927 - mae: 13.0927\n",
      "Epoch 58/100\n",
      "2/2 [==============================] - 0s 3ms/step - loss: 9.7964 - mae: 9.7964\n",
      "Epoch 59/100\n",
      "2/2 [==============================] - 0s 1000us/step - loss: 13.2800 - mae: 13.2800\n",
      "Epoch 60/100\n",
      "2/2 [==============================] - 0s 3ms/step - loss: 10.8539 - mae: 10.8539\n",
      "Epoch 61/100\n",
      "2/2 [==============================] - 0s 2ms/step - loss: 13.4511 - mae: 13.4511\n",
      "Epoch 62/100\n",
      "2/2 [==============================] - 0s 2ms/step - loss: 17.4660 - mae: 17.4660\n",
      "Epoch 63/100\n",
      "2/2 [==============================] - 0s 2ms/step - loss: 9.1486 - mae: 9.1486\n",
      "Epoch 64/100\n",
      "2/2 [==============================] - 0s 3ms/step - loss: 18.3394 - mae: 18.3394\n",
      "Epoch 65/100\n",
      "2/2 [==============================] - 0s 2ms/step - loss: 10.1042 - mae: 10.1042\n",
      "Epoch 66/100\n",
      "2/2 [==============================] - 0s 3ms/step - loss: 24.1962 - mae: 24.1962\n",
      "Epoch 67/100\n",
      "2/2 [==============================] - 0s 2ms/step - loss: 10.8673 - mae: 10.8673\n",
      "Epoch 68/100\n",
      "2/2 [==============================] - 0s 1ms/step - loss: 10.7543 - mae: 10.7543\n",
      "Epoch 69/100\n",
      "2/2 [==============================] - 0s 6ms/step - loss: 23.1820 - mae: 23.1820\n",
      "Epoch 70/100\n",
      "2/2 [==============================] - 0s 6ms/step - loss: 8.8242 - mae: 8.8242\n",
      "Epoch 71/100\n",
      "2/2 [==============================] - 0s 5ms/step - loss: 16.0391 - mae: 16.0391\n",
      "Epoch 72/100\n",
      "2/2 [==============================] - 0s 3ms/step - loss: 7.7408 - mae: 7.7408\n",
      "Epoch 73/100\n",
      "2/2 [==============================] - 0s 4ms/step - loss: 10.1518 - mae: 10.1518\n",
      "Epoch 74/100\n",
      "2/2 [==============================] - 0s 4ms/step - loss: 28.3181 - mae: 28.3181\n",
      "Epoch 75/100\n",
      "2/2 [==============================] - 0s 2ms/step - loss: 10.0201 - mae: 10.0201\n",
      "Epoch 76/100\n",
      "2/2 [==============================] - 0s 2ms/step - loss: 12.9389 - mae: 12.9389\n",
      "Epoch 77/100\n",
      "2/2 [==============================] - 0s 2ms/step - loss: 17.9310 - mae: 17.9310\n",
      "Epoch 78/100\n",
      "2/2 [==============================] - 0s 2ms/step - loss: 8.9630 - mae: 8.9630\n",
      "Epoch 79/100\n",
      "2/2 [==============================] - 0s 2ms/step - loss: 28.7732 - mae: 28.7732\n",
      "Epoch 80/100\n",
      "2/2 [==============================] - 0s 3ms/step - loss: 31.1198 - mae: 31.1198\n",
      "Epoch 81/100\n",
      "2/2 [==============================] - 0s 2ms/step - loss: 13.4503 - mae: 13.4503\n",
      "Epoch 82/100\n",
      "2/2 [==============================] - 0s 2ms/step - loss: 14.3069 - mae: 14.3069\n",
      "Epoch 83/100\n",
      "2/2 [==============================] - 0s 2ms/step - loss: 18.8376 - mae: 18.8376\n",
      "Epoch 84/100\n",
      "2/2 [==============================] - 0s 2ms/step - loss: 9.4537 - mae: 9.4537\n",
      "Epoch 85/100\n",
      "2/2 [==============================] - 0s 4ms/step - loss: 25.2331 - mae: 25.2331\n",
      "Epoch 86/100\n",
      "2/2 [==============================] - 0s 3ms/step - loss: 16.4622 - mae: 16.4622\n",
      "Epoch 87/100\n",
      "2/2 [==============================] - 0s 3ms/step - loss: 11.4755 - mae: 11.4755\n",
      "Epoch 88/100\n",
      "2/2 [==============================] - 0s 2ms/step - loss: 27.0899 - mae: 27.0899\n",
      "Epoch 89/100\n",
      "2/2 [==============================] - 0s 3ms/step - loss: 9.7465 - mae: 9.7465\n",
      "Epoch 90/100\n",
      "2/2 [==============================] - 0s 2ms/step - loss: 19.1207 - mae: 19.1207\n",
      "Epoch 91/100\n",
      "2/2 [==============================] - 0s 2ms/step - loss: 10.6077 - mae: 10.6077\n",
      "Epoch 92/100\n",
      "2/2 [==============================] - 0s 2ms/step - loss: 18.3353 - mae: 18.3353\n",
      "Epoch 93/100\n",
      "2/2 [==============================] - 0s 4ms/step - loss: 6.8603 - mae: 6.8603\n",
      "Epoch 94/100\n",
      "2/2 [==============================] - 0s 2ms/step - loss: 13.0887 - mae: 13.0887\n",
      "Epoch 95/100\n",
      "2/2 [==============================] - 0s 3ms/step - loss: 18.4860 - mae: 18.4860\n",
      "Epoch 96/100\n",
      "2/2 [==============================] - 0s 2ms/step - loss: 10.4171 - mae: 10.4171\n",
      "Epoch 97/100\n",
      "2/2 [==============================] - 0s 2ms/step - loss: 14.4827 - mae: 14.4827\n",
      "Epoch 98/100\n",
      "2/2 [==============================] - 0s 1ms/step - loss: 6.6180 - mae: 6.6180\n",
      "Epoch 99/100\n",
      "2/2 [==============================] - 0s 2ms/step - loss: 12.6141 - mae: 12.6141\n",
      "Epoch 100/100\n",
      "2/2 [==============================] - 0s 2ms/step - loss: 19.4207 - mae: 19.4207\n"
     ]
    },
    {
     "data": {
      "text/plain": [
       "<keras.src.callbacks.History at 0x1624c890110>"
      ]
     },
     "execution_count": 7,
     "metadata": {},
     "output_type": "execute_result"
    }
   ],
   "source": [
    "# Let's build a model\n",
    "\n",
    "tf.random.set_seed(42)\n",
    "\n",
    "# 1. Create a Model\n",
    "model_2 = tf.keras.Sequential([\n",
    "    tf.keras.layers.Dense(10),\n",
    "    tf.keras.layers.Dense(1)\n",
    "], name=\"TensorFlow_39\")\n",
    "\n",
    "# 2. Compile a model\n",
    "model_2.compile(loss=tf.keras.losses.mae,\n",
    "                optimizer=tf.keras.optimizers.SGD(),\n",
    "                metrics=['mae'])\n",
    "\n",
    "# 3. Fit the model\n",
    "model_2.fit(tf.expand_dims(X_train, axis= -1), y_train, epochs=100)"
   ]
  },
  {
   "cell_type": "code",
   "execution_count": 8,
   "metadata": {},
   "outputs": [],
   "source": [
    "# Create Evaluation function \n",
    "def mae(y_true, y_pred):\n",
    "    return tf.metrics.mean_absolute_error(y_true, tf.squeeze(y_pred))\n",
    "\n",
    "def mse(y_true, y_pred):\n",
    "    return tf.metrics.mean_squared_error(y_true, tf.squeeze(y_pred))"
   ]
  },
  {
   "cell_type": "code",
   "execution_count": 10,
   "metadata": {},
   "outputs": [
    {
     "name": "stdout",
     "output_type": "stream",
     "text": [
      "1/1 [==============================] - 0s 42ms/step\n"
     ]
    },
    {
     "data": {
      "text/plain": [
       "array([[ 78.20319 ],\n",
       "       [ 83.301994],\n",
       "       [ 88.400795],\n",
       "       [ 93.49959 ],\n",
       "       [ 98.59839 ],\n",
       "       [103.6972  ],\n",
       "       [108.796   ],\n",
       "       [113.89479 ],\n",
       "       [118.99359 ],\n",
       "       [124.0924  ]], dtype=float32)"
      ]
     },
     "execution_count": 10,
     "metadata": {},
     "output_type": "execute_result"
    }
   ],
   "source": [
    "model_2_preds = model_2.predict(X_test)\n",
    "model_2_preds"
   ]
  },
  {
   "cell_type": "code",
   "execution_count": 11,
   "metadata": {},
   "outputs": [
    {
     "name": "stdout",
     "output_type": "stream",
     "text": [
      "Model: \"sequential\"\n",
      "_________________________________________________________________\n",
      " Layer (type)                Output Shape              Param #   \n",
      "=================================================================\n",
      " dense (Dense)               (None, 10)                20        \n",
      "                                                                 \n",
      " dense_1 (Dense)             (None, 1)                 11        \n",
      "                                                                 \n",
      "=================================================================\n",
      "Total params: 31 (124.00 Byte)\n",
      "Trainable params: 31 (124.00 Byte)\n",
      "Non-trainable params: 0 (0.00 Byte)\n",
      "_________________________________________________________________\n"
     ]
    }
   ],
   "source": [
    "# Load model\n",
    "loaded_SaveModel_format = tf.keras.models.load_model(\"best_model_SavedModel_format\")\n",
    "loaded_SaveModel_format.summary()"
   ]
  },
  {
   "cell_type": "code",
   "execution_count": 12,
   "metadata": {},
   "outputs": [
    {
     "name": "stdout",
     "output_type": "stream",
     "text": [
      "1/1 [==============================] - 0s 17ms/step\n"
     ]
    }
   ],
   "source": [
    "loaded_SaveModel_format_preds = loaded_SaveModel_format.predict(X_test)"
   ]
  },
  {
   "cell_type": "code",
   "execution_count": 14,
   "metadata": {},
   "outputs": [
    {
     "data": {
      "text/plain": [
       "<tf.Tensor: shape=(), dtype=bool, numpy=False>"
      ]
     },
     "execution_count": 14,
     "metadata": {},
     "output_type": "execute_result"
    }
   ],
   "source": [
    "mae(y_true=y_test, y_pred=model_2_preds) == mae(y_true=y_test, y_pred=loaded_SaveModel_format_preds)"
   ]
  },
  {
   "cell_type": "markdown",
   "metadata": {},
   "source": [
    "## Download a model (or any other file) from Google Colab\n",
    "\n",
    "If you want to download your files from Google Colab: "
   ]
  }
 ],
 "metadata": {
  "kernelspec": {
   "display_name": "Python 3",
   "language": "python",
   "name": "python3"
  },
  "language_info": {
   "codemirror_mode": {
    "name": "ipython",
    "version": 3
   },
   "file_extension": ".py",
   "mimetype": "text/x-python",
   "name": "python",
   "nbconvert_exporter": "python",
   "pygments_lexer": "ipython3",
   "version": "3.11.3"
  },
  "orig_nbformat": 4
 },
 "nbformat": 4,
 "nbformat_minor": 2
}
