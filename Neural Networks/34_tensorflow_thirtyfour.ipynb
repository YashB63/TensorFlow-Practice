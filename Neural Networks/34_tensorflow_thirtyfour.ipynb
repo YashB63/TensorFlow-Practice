{
 "cells": [
  {
   "cell_type": "code",
   "execution_count": 1,
   "metadata": {},
   "outputs": [],
   "source": [
    "import tensorflow as tf\n",
    "import numpy as np\n",
    "import matplotlib.pyplot as plt"
   ]
  },
  {
   "cell_type": "code",
   "execution_count": 2,
   "metadata": {},
   "outputs": [
    {
     "data": {
      "text/plain": [
       "<tf.Tensor: shape=(50,), dtype=int32, numpy=\n",
       "array([-100,  -96,  -92,  -88,  -84,  -80,  -76,  -72,  -68,  -64,  -60,\n",
       "        -56,  -52,  -48,  -44,  -40,  -36,  -32,  -28,  -24,  -20,  -16,\n",
       "        -12,   -8,   -4,    0,    4,    8,   12,   16,   20,   24,   28,\n",
       "         32,   36,   40,   44,   48,   52,   56,   60,   64,   68,   72,\n",
       "         76,   80,   84,   88,   92,   96])>"
      ]
     },
     "execution_count": 2,
     "metadata": {},
     "output_type": "execute_result"
    }
   ],
   "source": [
    "X = tf.range(-100,100,4)\n",
    "X"
   ]
  },
  {
   "cell_type": "code",
   "execution_count": 3,
   "metadata": {},
   "outputs": [
    {
     "data": {
      "text/plain": [
       "<tf.Tensor: shape=(50,), dtype=int32, numpy=\n",
       "array([-90, -86, -82, -78, -74, -70, -66, -62, -58, -54, -50, -46, -42,\n",
       "       -38, -34, -30, -26, -22, -18, -14, -10,  -6,  -2,   2,   6,  10,\n",
       "        14,  18,  22,  26,  30,  34,  38,  42,  46,  50,  54,  58,  62,\n",
       "        66,  70,  74,  78,  82,  86,  90,  94,  98, 102, 106])>"
      ]
     },
     "execution_count": 3,
     "metadata": {},
     "output_type": "execute_result"
    }
   ],
   "source": [
    "y = X + 10\n",
    "y"
   ]
  },
  {
   "cell_type": "code",
   "execution_count": 4,
   "metadata": {},
   "outputs": [],
   "source": [
    "X_train = X[:40]\n",
    "y_train = y[:40]\n",
    "\n",
    "X_test = X[40:]\n",
    "y_test = y[40:]"
   ]
  },
  {
   "cell_type": "code",
   "execution_count": 5,
   "metadata": {},
   "outputs": [
    {
     "data": {
      "text/plain": [
       "(40, 10, 40, 10)"
      ]
     },
     "execution_count": 5,
     "metadata": {},
     "output_type": "execute_result"
    }
   ],
   "source": [
    "len(X_train), len(X_test), len(y_train), len(y_test)"
   ]
  },
  {
   "cell_type": "markdown",
   "metadata": {},
   "source": [
    "## Model 2\n",
    "\n",
    "    2 Dense layers(also known as fully connected layers), trained for 100 epochs"
   ]
  },
  {
   "cell_type": "code",
   "execution_count": 7,
   "metadata": {},
   "outputs": [
    {
     "name": "stdout",
     "output_type": "stream",
     "text": [
      "Epoch 1/100\n",
      "2/2 [==============================] - 0s 5ms/step - loss: 50.2611 - mae: 50.2611\n",
      "Epoch 2/100\n",
      "2/2 [==============================] - 0s 2ms/step - loss: 30.2989 - mae: 30.2989\n",
      "Epoch 3/100\n",
      "2/2 [==============================] - 0s 0s/step - loss: 47.6997 - mae: 47.6997\n",
      "Epoch 4/100\n",
      "2/2 [==============================] - 0s 2ms/step - loss: 11.0737 - mae: 11.0737\n",
      "Epoch 5/100\n",
      "2/2 [==============================] - 0s 999us/step - loss: 21.4530 - mae: 21.4530\n",
      "Epoch 6/100\n",
      "2/2 [==============================] - 0s 3ms/step - loss: 9.9259 - mae: 9.9259\n",
      "Epoch 7/100\n",
      "2/2 [==============================] - 0s 2ms/step - loss: 26.7646 - mae: 26.7646\n",
      "Epoch 8/100\n",
      "2/2 [==============================] - 0s 2ms/step - loss: 10.7766 - mae: 10.7766\n",
      "Epoch 9/100\n",
      "2/2 [==============================] - 0s 2ms/step - loss: 10.0257 - mae: 10.0257\n",
      "Epoch 10/100\n",
      "2/2 [==============================] - 0s 3ms/step - loss: 10.1488 - mae: 10.1488\n",
      "Epoch 11/100\n",
      "2/2 [==============================] - 0s 3ms/step - loss: 23.4724 - mae: 23.4724\n",
      "Epoch 12/100\n",
      "2/2 [==============================] - 0s 2ms/step - loss: 15.0396 - mae: 15.0396\n",
      "Epoch 13/100\n",
      "2/2 [==============================] - 0s 1ms/step - loss: 23.6015 - mae: 23.6015\n",
      "Epoch 14/100\n",
      "2/2 [==============================] - 0s 2ms/step - loss: 25.5962 - mae: 25.5962\n",
      "Epoch 15/100\n",
      "2/2 [==============================] - 0s 3ms/step - loss: 19.7789 - mae: 19.7789\n",
      "Epoch 16/100\n",
      "2/2 [==============================] - 0s 2ms/step - loss: 23.3312 - mae: 23.3312\n",
      "Epoch 17/100\n",
      "2/2 [==============================] - 0s 2ms/step - loss: 11.4707 - mae: 11.4707\n",
      "Epoch 18/100\n",
      "2/2 [==============================] - 0s 2ms/step - loss: 29.3724 - mae: 29.3724\n",
      "Epoch 19/100\n",
      "2/2 [==============================] - 0s 2ms/step - loss: 18.3890 - mae: 18.3890\n",
      "Epoch 20/100\n",
      "2/2 [==============================] - 0s 2ms/step - loss: 18.7922 - mae: 18.7922\n",
      "Epoch 21/100\n",
      "2/2 [==============================] - 0s 2ms/step - loss: 19.4595 - mae: 19.4595\n",
      "Epoch 22/100\n",
      "2/2 [==============================] - 0s 2ms/step - loss: 20.6334 - mae: 20.6334\n",
      "Epoch 23/100\n",
      "2/2 [==============================] - 0s 2ms/step - loss: 19.8595 - mae: 19.8595\n",
      "Epoch 24/100\n",
      "2/2 [==============================] - 0s 2ms/step - loss: 18.6922 - mae: 18.6922\n",
      "Epoch 25/100\n",
      "2/2 [==============================] - 0s 2ms/step - loss: 21.9138 - mae: 21.9138\n",
      "Epoch 26/100\n",
      "2/2 [==============================] - 0s 1ms/step - loss: 10.7649 - mae: 10.7649\n",
      "Epoch 27/100\n",
      "2/2 [==============================] - 0s 4ms/step - loss: 30.4098 - mae: 30.4098\n",
      "Epoch 28/100\n",
      "2/2 [==============================] - 0s 2ms/step - loss: 16.4604 - mae: 16.4604\n",
      "Epoch 29/100\n",
      "2/2 [==============================] - 0s 3ms/step - loss: 33.1789 - mae: 33.1789\n",
      "Epoch 30/100\n",
      "2/2 [==============================] - 0s 2ms/step - loss: 19.3796 - mae: 19.3796\n",
      "Epoch 31/100\n",
      "2/2 [==============================] - 0s 2ms/step - loss: 12.4677 - mae: 12.4677\n",
      "Epoch 32/100\n",
      "2/2 [==============================] - 0s 2ms/step - loss: 20.7293 - mae: 20.7293\n",
      "Epoch 33/100\n",
      "2/2 [==============================] - 0s 2ms/step - loss: 20.6671 - mae: 20.6671\n",
      "Epoch 34/100\n",
      "2/2 [==============================] - 0s 2ms/step - loss: 21.2116 - mae: 21.2116\n",
      "Epoch 35/100\n",
      "2/2 [==============================] - 0s 2ms/step - loss: 21.3980 - mae: 21.3980\n",
      "Epoch 36/100\n",
      "2/2 [==============================] - 0s 2ms/step - loss: 19.8776 - mae: 19.8776\n",
      "Epoch 37/100\n",
      "2/2 [==============================] - 0s 1ms/step - loss: 26.8178 - mae: 26.8178\n",
      "Epoch 38/100\n",
      "2/2 [==============================] - 0s 2ms/step - loss: 27.3452 - mae: 27.3452\n",
      "Epoch 39/100\n",
      "2/2 [==============================] - 0s 2ms/step - loss: 20.6283 - mae: 20.6283\n",
      "Epoch 40/100\n",
      "2/2 [==============================] - 0s 2ms/step - loss: 22.0487 - mae: 22.0487\n",
      "Epoch 41/100\n",
      "2/2 [==============================] - 0s 1ms/step - loss: 40.1130 - mae: 40.1130\n",
      "Epoch 42/100\n",
      "2/2 [==============================] - 0s 4ms/step - loss: 17.1885 - mae: 17.1885\n",
      "Epoch 43/100\n",
      "2/2 [==============================] - 0s 2ms/step - loss: 22.9157 - mae: 22.9157\n",
      "Epoch 44/100\n",
      "2/2 [==============================] - 0s 3ms/step - loss: 9.8038 - mae: 9.8038\n",
      "Epoch 45/100\n",
      "2/2 [==============================] - 0s 1ms/step - loss: 22.6286 - mae: 22.6286\n",
      "Epoch 46/100\n",
      "2/2 [==============================] - 0s 2ms/step - loss: 9.2094 - mae: 9.2094\n",
      "Epoch 47/100\n",
      "2/2 [==============================] - 0s 2ms/step - loss: 20.4391 - mae: 20.4391\n",
      "Epoch 48/100\n",
      "2/2 [==============================] - 0s 2ms/step - loss: 8.4292 - mae: 8.4292\n",
      "Epoch 49/100\n",
      "2/2 [==============================] - 0s 2ms/step - loss: 12.6626 - mae: 12.6626\n",
      "Epoch 50/100\n",
      "2/2 [==============================] - 0s 2ms/step - loss: 32.2925 - mae: 32.2925\n",
      "Epoch 51/100\n",
      "2/2 [==============================] - 0s 2ms/step - loss: 16.5524 - mae: 16.5524\n",
      "Epoch 52/100\n",
      "2/2 [==============================] - 0s 2ms/step - loss: 33.7268 - mae: 33.7268\n",
      "Epoch 53/100\n",
      "2/2 [==============================] - 0s 2ms/step - loss: 11.0717 - mae: 11.0717\n",
      "Epoch 54/100\n",
      "2/2 [==============================] - 0s 4ms/step - loss: 39.4583 - mae: 39.4583\n",
      "Epoch 55/100\n",
      "2/2 [==============================] - 0s 3ms/step - loss: 13.6601 - mae: 13.6601\n",
      "Epoch 56/100\n",
      "2/2 [==============================] - 0s 2ms/step - loss: 28.3669 - mae: 28.3669\n",
      "Epoch 57/100\n",
      "2/2 [==============================] - 0s 2ms/step - loss: 21.7524 - mae: 21.7524\n",
      "Epoch 58/100\n",
      "2/2 [==============================] - 0s 2ms/step - loss: 14.5631 - mae: 14.5631\n",
      "Epoch 59/100\n",
      "2/2 [==============================] - 0s 2ms/step - loss: 26.0696 - mae: 26.0696\n",
      "Epoch 60/100\n",
      "2/2 [==============================] - 0s 2ms/step - loss: 27.4334 - mae: 27.4334\n",
      "Epoch 61/100\n",
      "2/2 [==============================] - 0s 1ms/step - loss: 9.4475 - mae: 9.4475\n",
      "Epoch 62/100\n",
      "2/2 [==============================] - 0s 2ms/step - loss: 11.0357 - mae: 11.0357\n",
      "Epoch 63/100\n",
      "2/2 [==============================] - 0s 2ms/step - loss: 31.8157 - mae: 31.8157\n",
      "Epoch 64/100\n",
      "2/2 [==============================] - 0s 2ms/step - loss: 17.6962 - mae: 17.6962\n",
      "Epoch 65/100\n",
      "2/2 [==============================] - 0s 2ms/step - loss: 28.2455 - mae: 28.2455\n",
      "Epoch 66/100\n",
      "2/2 [==============================] - 0s 2ms/step - loss: 20.5504 - mae: 20.5504\n",
      "Epoch 67/100\n",
      "2/2 [==============================] - 0s 1ms/step - loss: 19.6905 - mae: 19.6905\n",
      "Epoch 68/100\n",
      "2/2 [==============================] - 0s 3ms/step - loss: 16.3367 - mae: 16.3367\n",
      "Epoch 69/100\n",
      "2/2 [==============================] - 0s 2ms/step - loss: 27.1727 - mae: 27.1727\n",
      "Epoch 70/100\n",
      "2/2 [==============================] - 0s 2ms/step - loss: 21.1806 - mae: 21.1806\n",
      "Epoch 71/100\n",
      "2/2 [==============================] - 0s 2ms/step - loss: 19.3594 - mae: 19.3594\n",
      "Epoch 72/100\n",
      "2/2 [==============================] - 0s 3ms/step - loss: 26.2089 - mae: 26.2089\n",
      "Epoch 73/100\n",
      "2/2 [==============================] - 0s 2ms/step - loss: 33.9358 - mae: 33.9358\n",
      "Epoch 74/100\n",
      "2/2 [==============================] - 0s 2ms/step - loss: 16.9803 - mae: 16.9803\n",
      "Epoch 75/100\n",
      "2/2 [==============================] - 0s 3ms/step - loss: 30.1476 - mae: 30.1476\n",
      "Epoch 76/100\n",
      "2/2 [==============================] - 0s 3ms/step - loss: 24.2523 - mae: 24.2523\n",
      "Epoch 77/100\n",
      "2/2 [==============================] - 0s 3ms/step - loss: 17.1892 - mae: 17.1892\n",
      "Epoch 78/100\n",
      "2/2 [==============================] - 0s 3ms/step - loss: 22.9898 - mae: 22.9898\n",
      "Epoch 79/100\n",
      "2/2 [==============================] - 0s 2ms/step - loss: 9.2986 - mae: 9.2986\n",
      "Epoch 80/100\n",
      "2/2 [==============================] - 0s 3ms/step - loss: 18.5465 - mae: 18.5465\n",
      "Epoch 81/100\n",
      "2/2 [==============================] - 0s 1000us/step - loss: 23.1149 - mae: 23.1149\n",
      "Epoch 82/100\n",
      "2/2 [==============================] - 0s 2ms/step - loss: 26.8041 - mae: 26.8041\n",
      "Epoch 83/100\n",
      "2/2 [==============================] - 0s 2ms/step - loss: 20.5234 - mae: 20.5234\n",
      "Epoch 84/100\n",
      "2/2 [==============================] - 0s 2ms/step - loss: 22.4519 - mae: 22.4519\n",
      "Epoch 85/100\n",
      "2/2 [==============================] - 0s 4ms/step - loss: 17.0586 - mae: 17.0586\n",
      "Epoch 86/100\n",
      "2/2 [==============================] - 0s 2ms/step - loss: 16.7229 - mae: 16.7229\n",
      "Epoch 87/100\n",
      "2/2 [==============================] - 0s 2ms/step - loss: 9.9409 - mae: 9.9409\n",
      "Epoch 88/100\n",
      "2/2 [==============================] - 0s 2ms/step - loss: 22.2488 - mae: 22.2488\n",
      "Epoch 89/100\n",
      "2/2 [==============================] - 0s 2ms/step - loss: 11.6217 - mae: 11.6217\n",
      "Epoch 90/100\n",
      "2/2 [==============================] - 0s 3ms/step - loss: 28.1813 - mae: 28.1813\n",
      "Epoch 91/100\n",
      "2/2 [==============================] - 0s 1ms/step - loss: 25.7860 - mae: 25.7860\n",
      "Epoch 92/100\n",
      "2/2 [==============================] - 0s 2ms/step - loss: 19.1805 - mae: 19.1805\n",
      "Epoch 93/100\n",
      "2/2 [==============================] - 0s 3ms/step - loss: 21.4690 - mae: 21.4690\n",
      "Epoch 94/100\n",
      "2/2 [==============================] - 0s 3ms/step - loss: 19.5584 - mae: 19.5584\n",
      "Epoch 95/100\n",
      "2/2 [==============================] - 0s 3ms/step - loss: 25.6401 - mae: 25.6401\n",
      "Epoch 96/100\n",
      "2/2 [==============================] - 0s 2ms/step - loss: 26.2210 - mae: 26.2210\n",
      "Epoch 97/100\n",
      "2/2 [==============================] - 0s 2ms/step - loss: 16.0632 - mae: 16.0632\n",
      "Epoch 98/100\n",
      "2/2 [==============================] - 0s 2ms/step - loss: 24.6791 - mae: 24.6791\n",
      "Epoch 99/100\n",
      "2/2 [==============================] - 0s 3ms/step - loss: 25.2418 - mae: 25.2418\n",
      "Epoch 100/100\n",
      "2/2 [==============================] - 0s 3ms/step - loss: 9.0245 - mae: 9.0245\n"
     ]
    },
    {
     "data": {
      "text/plain": [
       "<keras.src.callbacks.History at 0x216e671e1d0>"
      ]
     },
     "execution_count": 7,
     "metadata": {},
     "output_type": "execute_result"
    }
   ],
   "source": [
    "# Lets Create model 2\n",
    "\n",
    "# Set random seed\n",
    "tf.random.set_seed(42)\n",
    "\n",
    "# 1. Create a model\n",
    "model_2 = tf.keras.Sequential([\n",
    "    tf.keras.layers.Dense(10),\n",
    "    tf.keras.layers.Dense(1)\n",
    "])\n",
    "\n",
    "# 2. Compile a model\n",
    "model_2.compile(loss=tf.keras.losses.mae,\n",
    "                optimizer=tf.keras.optimizers.SGD(),\n",
    "                metrics=['mae'])\n",
    "\n",
    "# 3. Fit the model\n",
    "model_2.fit(tf.expand_dims(X, axis= -1), y, epochs = 100)"
   ]
  },
  {
   "cell_type": "code",
   "execution_count": 8,
   "metadata": {},
   "outputs": [
    {
     "name": "stdout",
     "output_type": "stream",
     "text": [
      "1/1 [==============================] - 0s 48ms/step\n"
     ]
    },
    {
     "data": {
      "text/plain": [
       "array([[ 88.34838 ],\n",
       "       [ 94.12606 ],\n",
       "       [ 99.90375 ],\n",
       "       [105.68142 ],\n",
       "       [111.459114],\n",
       "       [117.23681 ],\n",
       "       [123.01448 ],\n",
       "       [128.79218 ],\n",
       "       [134.56985 ],\n",
       "       [140.34753 ]], dtype=float32)"
      ]
     },
     "execution_count": 8,
     "metadata": {},
     "output_type": "execute_result"
    }
   ],
   "source": [
    "y_pred_2 = model_2.predict(X_test)\n",
    "y_pred_2"
   ]
  },
  {
   "cell_type": "code",
   "execution_count": 9,
   "metadata": {},
   "outputs": [],
   "source": [
    "# Create a plotting function \n",
    "\n",
    "def plot_pred(train_data = X_train,\n",
    "              test_data = X_test,\n",
    "              train_label = y_train,\n",
    "              test_label = y_test,\n",
    "              prediction = y_pred_2):\n",
    "    \n",
    "    # plot \n",
    "    \n",
    "    plt.figure(figsize=(15,10))\n",
    "    \n",
    "    # Plot the Training Data in light green\n",
    "    plt.scatter(train_data, train_label, label=\"Training Data\", c=\"lime\")\n",
    "    \n",
    "    # Plot the Testing Data in cyan\n",
    "    plt.scatter(test_data, test_label, label=\"Testing Data\", c=\"cyan\")\n",
    "    \n",
    "    # Plot the predictions in orange\n",
    "    plt.scatter(test_data, prediction, label=\"Prediction\", c=\"orange\")\n",
    "    \n",
    "    # Legend\n",
    "    plt.legend()\n",
    "    plt.show()"
   ]
  },
  {
   "cell_type": "code",
   "execution_count": 10,
   "metadata": {},
   "outputs": [
    {
     "data": {
      "image/png": "[encoded data removed]",
      "text/plain": [
       "<Figure size 1500x1000 with 1 Axes>"
      ]
     },
     "metadata": {},
     "output_type": "display_data"
    }
   ],
   "source": [
    "plot_pred(prediction=y_pred_2)"
   ]
  },
  {
   "cell_type": "code",
   "execution_count": 11,
   "metadata": {},
   "outputs": [
    {
     "data": {
      "text/plain": [
       "<tf.Tensor: shape=(10,), dtype=int32, numpy=array([ 70,  74,  78,  82,  86,  90,  94,  98, 102, 106])>"
      ]
     },
     "execution_count": 11,
     "metadata": {},
     "output_type": "execute_result"
    }
   ],
   "source": [
    "y_true = y_test\n",
    "y_true"
   ]
  },
  {
   "cell_type": "code",
   "execution_count": 12,
   "metadata": {},
   "outputs": [],
   "source": [
    "# Create evaluation function\n",
    "def mae(y_true, y_pred):\n",
    "    return tf.metrics.mean_absolute_error(y_true, tf.squeeze(y_pred))\n",
    "\n",
    "def mse(y_true, y_pred):\n",
    "    return tf.metrics.mean_squared_error(y_true, tf.squeeze(y_pred))    "
   ]
  },
  {
   "cell_type": "code",
   "execution_count": 13,
   "metadata": {},
   "outputs": [
    {
     "data": {
      "text/plain": [
       "<tf.Tensor: shape=(), dtype=float32, numpy=26.347958>"
      ]
     },
     "execution_count": 13,
     "metadata": {},
     "output_type": "execute_result"
    }
   ],
   "source": [
    "mae_2 = mae(y_test, y_pred_2)\n",
    "mae_2"
   ]
  },
  {
   "cell_type": "code",
   "execution_count": 14,
   "metadata": {},
   "outputs": [
    {
     "data": {
      "text/plain": [
       "<tf.Tensor: shape=(), dtype=float32, numpy=720.2862>"
      ]
     },
     "execution_count": 14,
     "metadata": {},
     "output_type": "execute_result"
    }
   ],
   "source": [
    "mse_2 = mse(y_test, y_pred_2)\n",
    "mse_2"
   ]
  }
 ],
 "metadata": {
  "kernelspec": {
   "display_name": "Python 3",
   "language": "python",
   "name": "python3"
  },
  "language_info": {
   "codemirror_mode": {
    "name": "ipython",
    "version": 3
   },
   "file_extension": ".py",
   "mimetype": "text/x-python",
   "name": "python",
   "nbconvert_exporter": "python",
   "pygments_lexer": "ipython3",
   "version": "3.11.3"
  },
  "orig_nbformat": 4
 },
 "nbformat": 4,
 "nbformat_minor": 2
}
