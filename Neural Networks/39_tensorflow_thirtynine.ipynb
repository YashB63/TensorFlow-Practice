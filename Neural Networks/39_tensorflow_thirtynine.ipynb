{
 "cells": [
  {
   "cell_type": "code",
   "execution_count": 62,
   "metadata": {},
   "outputs": [],
   "source": [
    "import tensorflow as tf\n",
    "import numpy as np\n",
    "import matplotlib.pyplot as plt"
   ]
  },
  {
   "cell_type": "markdown",
   "metadata": {},
   "source": [
    "## Loading in a Saved Model"
   ]
  },
  {
   "cell_type": "code",
   "execution_count": 63,
   "metadata": {},
   "outputs": [
    {
     "name": "stdout",
     "output_type": "stream",
     "text": [
      "Model: \"sequential\"\n",
      "_________________________________________________________________\n",
      " Layer (type)                Output Shape              Param #   \n",
      "=================================================================\n",
      " dense (Dense)               (None, 10)                20        \n",
      "                                                                 \n",
      " dense_1 (Dense)             (None, 1)                 11        \n",
      "                                                                 \n",
      "=================================================================\n",
      "Total params: 31 (124.00 Byte)\n",
      "Trainable params: 31 (124.00 Byte)\n",
      "Non-trainable params: 0 (0.00 Byte)\n",
      "_________________________________________________________________\n"
     ]
    }
   ],
   "source": [
    "# Load model\n",
    "loaded_SaveModel_format = tf.keras.models.load_model(\"best_model_SavedModel_format\")\n",
    "loaded_SaveModel_format.summary()"
   ]
  },
  {
   "cell_type": "code",
   "execution_count": 64,
   "metadata": {},
   "outputs": [
    {
     "data": {
      "text/plain": [
       "(<tf.Tensor: shape=(50,), dtype=int32, numpy=\n",
       " array([-100,  -96,  -92,  -88,  -84,  -80,  -76,  -72,  -68,  -64,  -60,\n",
       "         -56,  -52,  -48,  -44,  -40,  -36,  -32,  -28,  -24,  -20,  -16,\n",
       "         -12,   -8,   -4,    0,    4,    8,   12,   16,   20,   24,   28,\n",
       "          32,   36,   40,   44,   48,   52,   56,   60,   64,   68,   72,\n",
       "          76,   80,   84,   88,   92,   96])>,\n",
       " <tf.Tensor: shape=(50,), dtype=int32, numpy=\n",
       " array([-90, -86, -82, -78, -74, -70, -66, -62, -58, -54, -50, -46, -42,\n",
       "        -38, -34, -30, -26, -22, -18, -14, -10,  -6,  -2,   2,   6,  10,\n",
       "         14,  18,  22,  26,  30,  34,  38,  42,  46,  50,  54,  58,  62,\n",
       "         66,  70,  74,  78,  82,  86,  90,  94,  98, 102, 106])>)"
      ]
     },
     "execution_count": 64,
     "metadata": {},
     "output_type": "execute_result"
    }
   ],
   "source": [
    "X = tf.range(-100, 100, 4)\n",
    "\n",
    "y = X + 10\n",
    "\n",
    "X, y"
   ]
  },
  {
   "cell_type": "code",
   "execution_count": 65,
   "metadata": {},
   "outputs": [
    {
     "data": {
      "text/plain": [
       "(<tf.Tensor: shape=(40,), dtype=int32, numpy=\n",
       " array([-100,  -96,  -92,  -88,  -84,  -80,  -76,  -72,  -68,  -64,  -60,\n",
       "         -56,  -52,  -48,  -44,  -40,  -36,  -32,  -28,  -24,  -20,  -16,\n",
       "         -12,   -8,   -4,    0,    4,    8,   12,   16,   20,   24,   28,\n",
       "          32,   36,   40,   44,   48,   52,   56])>,\n",
       " <tf.Tensor: shape=(40,), dtype=int32, numpy=\n",
       " array([-90, -86, -82, -78, -74, -70, -66, -62, -58, -54, -50, -46, -42,\n",
       "        -38, -34, -30, -26, -22, -18, -14, -10,  -6,  -2,   2,   6,  10,\n",
       "         14,  18,  22,  26,  30,  34,  38,  42,  46,  50,  54,  58,  62,\n",
       "         66])>,\n",
       " <tf.Tensor: shape=(10,), dtype=int32, numpy=array([60, 64, 68, 72, 76, 80, 84, 88, 92, 96])>,\n",
       " <tf.Tensor: shape=(10,), dtype=int32, numpy=array([ 70,  74,  78,  82,  86,  90,  94,  98, 102, 106])>)"
      ]
     },
     "execution_count": 65,
     "metadata": {},
     "output_type": "execute_result"
    }
   ],
   "source": [
    "X_train = X[:40]\n",
    "y_train = y[:40]\n",
    "\n",
    "X_test = X[40:]\n",
    "y_test = y[40:]\n",
    "\n",
    "X_train, y_train, X_test, y_test"
   ]
  },
  {
   "cell_type": "markdown",
   "metadata": {},
   "source": [
    "#### Compare model 2 predictions with SaveModel format model predictions"
   ]
  },
  {
   "cell_type": "code",
   "execution_count": 66,
   "metadata": {},
   "outputs": [
    {
     "name": "stdout",
     "output_type": "stream",
     "text": [
      "Epoch 1/100\n",
      "2/2 [==============================] - 0s 4ms/step - loss: 50.0365 - mae: 50.0365\n",
      "Epoch 2/100\n",
      "2/2 [==============================] - 0s 1ms/step - loss: 32.1000 - mae: 32.1000\n",
      "Epoch 3/100\n",
      "2/2 [==============================] - 0s 2ms/step - loss: 36.8310 - mae: 36.8310\n",
      "Epoch 4/100\n",
      "2/2 [==============================] - 0s 2ms/step - loss: 28.6624 - mae: 28.6624\n",
      "Epoch 5/100\n",
      "2/2 [==============================] - 0s 3ms/step - loss: 15.5530 - mae: 15.5530\n",
      "Epoch 6/100\n",
      "2/2 [==============================] - 0s 1ms/step - loss: 12.3418 - mae: 12.3418\n",
      "Epoch 7/100\n",
      "2/2 [==============================] - 0s 2ms/step - loss: 11.6308 - mae: 11.6308\n",
      "Epoch 8/100\n",
      "2/2 [==============================] - 0s 2ms/step - loss: 12.0521 - mae: 12.0521\n",
      "Epoch 9/100\n",
      "2/2 [==============================] - 0s 3ms/step - loss: 37.6881 - mae: 37.6881\n",
      "Epoch 10/100\n",
      "2/2 [==============================] - 0s 1ms/step - loss: 25.3271 - mae: 25.3271\n",
      "Epoch 11/100\n",
      "2/2 [==============================] - 0s 2ms/step - loss: 10.2469 - mae: 10.2469\n",
      "Epoch 12/100\n",
      "2/2 [==============================] - 0s 1ms/step - loss: 25.3938 - mae: 25.3938\n",
      "Epoch 13/100\n",
      "2/2 [==============================] - 0s 1ms/step - loss: 16.8956 - mae: 16.8956\n",
      "Epoch 14/100\n",
      "2/2 [==============================] - 0s 1ms/step - loss: 25.7590 - mae: 25.7590\n",
      "Epoch 15/100\n",
      "2/2 [==============================] - 0s 1ms/step - loss: 17.6080 - mae: 17.6080\n",
      "Epoch 16/100\n",
      "2/2 [==============================] - 0s 2ms/step - loss: 10.0539 - mae: 10.0539\n",
      "Epoch 17/100\n",
      "2/2 [==============================] - 0s 2ms/step - loss: 18.6215 - mae: 18.6215\n",
      "Epoch 18/100\n",
      "2/2 [==============================] - 0s 1ms/step - loss: 11.7644 - mae: 11.7644\n",
      "Epoch 19/100\n",
      "2/2 [==============================] - 0s 1ms/step - loss: 16.4587 - mae: 16.4587\n",
      "Epoch 20/100\n",
      "2/2 [==============================] - 0s 1ms/step - loss: 8.2361 - mae: 8.2361\n",
      "Epoch 21/100\n",
      "2/2 [==============================] - 0s 1ms/step - loss: 14.4229 - mae: 14.4229\n",
      "Epoch 22/100\n",
      "2/2 [==============================] - 0s 2ms/step - loss: 12.8386 - mae: 12.8386\n",
      "Epoch 23/100\n",
      "2/2 [==============================] - 0s 2ms/step - loss: 15.4721 - mae: 15.4721\n",
      "Epoch 24/100\n",
      "2/2 [==============================] - 0s 1ms/step - loss: 15.2614 - mae: 15.2614\n",
      "Epoch 25/100\n",
      "2/2 [==============================] - 0s 2ms/step - loss: 14.3332 - mae: 14.3332\n",
      "Epoch 26/100\n",
      "2/2 [==============================] - 0s 2ms/step - loss: 19.3362 - mae: 19.3362\n",
      "Epoch 27/100\n",
      "2/2 [==============================] - 0s 2ms/step - loss: 11.4491 - mae: 11.4491\n",
      "Epoch 28/100\n",
      "2/2 [==============================] - 0s 2ms/step - loss: 29.1270 - mae: 29.1270\n",
      "Epoch 29/100\n",
      "2/2 [==============================] - 0s 1ms/step - loss: 9.2447 - mae: 9.2447\n",
      "Epoch 30/100\n",
      "2/2 [==============================] - 0s 2ms/step - loss: 29.8601 - mae: 29.8601\n",
      "Epoch 31/100\n",
      "2/2 [==============================] - 0s 2ms/step - loss: 54.1853 - mae: 54.1853\n",
      "Epoch 32/100\n",
      "2/2 [==============================] - 0s 2ms/step - loss: 9.5693 - mae: 9.5693\n",
      "Epoch 33/100\n",
      "2/2 [==============================] - 0s 1ms/step - loss: 12.1626 - mae: 12.1626\n",
      "Epoch 34/100\n",
      "2/2 [==============================] - 0s 1ms/step - loss: 23.9339 - mae: 23.9339\n",
      "Epoch 35/100\n",
      "2/2 [==============================] - 0s 2ms/step - loss: 12.6127 - mae: 12.6127\n",
      "Epoch 36/100\n",
      "2/2 [==============================] - 0s 2ms/step - loss: 21.5185 - mae: 21.5185\n",
      "Epoch 37/100\n",
      "2/2 [==============================] - 0s 1ms/step - loss: 11.3810 - mae: 11.3810\n",
      "Epoch 38/100\n",
      "2/2 [==============================] - 0s 2ms/step - loss: 13.4750 - mae: 13.4750\n",
      "Epoch 39/100\n",
      "2/2 [==============================] - 0s 2ms/step - loss: 10.7921 - mae: 10.7921\n",
      "Epoch 40/100\n",
      "2/2 [==============================] - 0s 1ms/step - loss: 16.6248 - mae: 16.6248\n",
      "Epoch 41/100\n",
      "2/2 [==============================] - 0s 2ms/step - loss: 10.9821 - mae: 10.9821\n",
      "Epoch 42/100\n",
      "2/2 [==============================] - 0s 2ms/step - loss: 9.3076 - mae: 9.3076\n",
      "Epoch 43/100\n",
      "2/2 [==============================] - 0s 3ms/step - loss: 9.5912 - mae: 9.5912\n",
      "Epoch 44/100\n",
      "2/2 [==============================] - 0s 1ms/step - loss: 28.0617 - mae: 28.0617\n",
      "Epoch 45/100\n",
      "2/2 [==============================] - 0s 2ms/step - loss: 11.2966 - mae: 11.2966\n",
      "Epoch 46/100\n",
      "2/2 [==============================] - 0s 1ms/step - loss: 14.1126 - mae: 14.1126\n",
      "Epoch 47/100\n",
      "2/2 [==============================] - 0s 1ms/step - loss: 13.4821 - mae: 13.4821\n",
      "Epoch 48/100\n",
      "2/2 [==============================] - 0s 2ms/step - loss: 17.3085 - mae: 17.3085\n",
      "Epoch 49/100\n",
      "2/2 [==============================] - 0s 1ms/step - loss: 9.5288 - mae: 9.5288\n",
      "Epoch 50/100\n",
      "2/2 [==============================] - 0s 2ms/step - loss: 13.7354 - mae: 13.7354\n",
      "Epoch 51/100\n",
      "2/2 [==============================] - 0s 2ms/step - loss: 11.5676 - mae: 11.5676\n",
      "Epoch 52/100\n",
      "2/2 [==============================] - 0s 1ms/step - loss: 30.3276 - mae: 30.3276\n",
      "Epoch 53/100\n",
      "2/2 [==============================] - 0s 1ms/step - loss: 14.2572 - mae: 14.2572\n",
      "Epoch 54/100\n",
      "2/2 [==============================] - 0s 2ms/step - loss: 23.5741 - mae: 23.5741\n",
      "Epoch 55/100\n",
      "2/2 [==============================] - 0s 2ms/step - loss: 24.4930 - mae: 24.4930\n",
      "Epoch 56/100\n",
      "2/2 [==============================] - 0s 2ms/step - loss: 11.3075 - mae: 11.3075\n",
      "Epoch 57/100\n",
      "2/2 [==============================] - 0s 2ms/step - loss: 13.3168 - mae: 13.3168\n",
      "Epoch 58/100\n",
      "2/2 [==============================] - 0s 2ms/step - loss: 9.9237 - mae: 9.9237\n",
      "Epoch 59/100\n",
      "2/2 [==============================] - 0s 2ms/step - loss: 13.8649 - mae: 13.8649\n",
      "Epoch 60/100\n",
      "2/2 [==============================] - 0s 2ms/step - loss: 9.9681 - mae: 9.9681\n",
      "Epoch 61/100\n",
      "2/2 [==============================] - 0s 1ms/step - loss: 14.9247 - mae: 14.9247\n",
      "Epoch 62/100\n",
      "2/2 [==============================] - 0s 2ms/step - loss: 11.8952 - mae: 11.8952\n",
      "Epoch 63/100\n",
      "2/2 [==============================] - 0s 1ms/step - loss: 10.2696 - mae: 10.2696\n",
      "Epoch 64/100\n",
      "2/2 [==============================] - 0s 2ms/step - loss: 23.8192 - mae: 23.8192\n",
      "Epoch 65/100\n",
      "2/2 [==============================] - 0s 1ms/step - loss: 10.4463 - mae: 10.4463\n",
      "Epoch 66/100\n",
      "2/2 [==============================] - 0s 1ms/step - loss: 20.8764 - mae: 20.8764\n",
      "Epoch 67/100\n",
      "2/2 [==============================] - 0s 2ms/step - loss: 10.4222 - mae: 10.4222\n",
      "Epoch 68/100\n",
      "2/2 [==============================] - 0s 1ms/step - loss: 14.1390 - mae: 14.1390\n",
      "Epoch 69/100\n",
      "2/2 [==============================] - 0s 1ms/step - loss: 10.4917 - mae: 10.4917\n",
      "Epoch 70/100\n",
      "2/2 [==============================] - 0s 1ms/step - loss: 12.5615 - mae: 12.5615\n",
      "Epoch 71/100\n",
      "2/2 [==============================] - 0s 2ms/step - loss: 12.9933 - mae: 12.9933\n",
      "Epoch 72/100\n",
      "2/2 [==============================] - 0s 2ms/step - loss: 19.3211 - mae: 19.3211\n",
      "Epoch 73/100\n",
      "2/2 [==============================] - 0s 1ms/step - loss: 11.1165 - mae: 11.1165\n",
      "Epoch 74/100\n",
      "2/2 [==============================] - 0s 2ms/step - loss: 21.4109 - mae: 21.4109\n",
      "Epoch 75/100\n",
      "2/2 [==============================] - 0s 1ms/step - loss: 9.4472 - mae: 9.4472\n",
      "Epoch 76/100\n",
      "2/2 [==============================] - 0s 1ms/step - loss: 12.2695 - mae: 12.2695\n",
      "Epoch 77/100\n",
      "2/2 [==============================] - 0s 2ms/step - loss: 16.3016 - mae: 16.3016\n",
      "Epoch 78/100\n",
      "2/2 [==============================] - 0s 1ms/step - loss: 9.0027 - mae: 9.0027\n",
      "Epoch 79/100\n",
      "2/2 [==============================] - 0s 2ms/step - loss: 23.5506 - mae: 23.5506\n",
      "Epoch 80/100\n",
      "2/2 [==============================] - 0s 1ms/step - loss: 26.2436 - mae: 26.2436\n",
      "Epoch 81/100\n",
      "2/2 [==============================] - 0s 2ms/step - loss: 11.4298 - mae: 11.4298\n",
      "Epoch 82/100\n",
      "2/2 [==============================] - 0s 1ms/step - loss: 12.4444 - mae: 12.4444\n",
      "Epoch 83/100\n",
      "2/2 [==============================] - 0s 1ms/step - loss: 17.1102 - mae: 17.1102\n",
      "Epoch 84/100\n",
      "2/2 [==============================] - 0s 1ms/step - loss: 7.2547 - mae: 7.2547\n",
      "Epoch 85/100\n",
      "2/2 [==============================] - 0s 1ms/step - loss: 37.1662 - mae: 37.1662\n",
      "Epoch 86/100\n",
      "2/2 [==============================] - 0s 1ms/step - loss: 21.1896 - mae: 21.1896\n",
      "Epoch 87/100\n",
      "2/2 [==============================] - 0s 2ms/step - loss: 11.0159 - mae: 11.0159\n",
      "Epoch 88/100\n",
      "2/2 [==============================] - 0s 2ms/step - loss: 25.0543 - mae: 25.0543\n",
      "Epoch 89/100\n",
      "2/2 [==============================] - 0s 2ms/step - loss: 9.3504 - mae: 9.3504\n",
      "Epoch 90/100\n",
      "2/2 [==============================] - 0s 1ms/step - loss: 17.3634 - mae: 17.3634\n",
      "Epoch 91/100\n",
      "2/2 [==============================] - 0s 2ms/step - loss: 10.7922 - mae: 10.7922\n",
      "Epoch 92/100\n",
      "2/2 [==============================] - 0s 2ms/step - loss: 19.0556 - mae: 19.0556\n",
      "Epoch 93/100\n",
      "2/2 [==============================] - 0s 1ms/step - loss: 8.3117 - mae: 8.3117\n",
      "Epoch 94/100\n",
      "2/2 [==============================] - 0s 2ms/step - loss: 11.5518 - mae: 11.5518\n",
      "Epoch 95/100\n",
      "2/2 [==============================] - 0s 1000us/step - loss: 26.1001 - mae: 26.1001\n",
      "Epoch 96/100\n",
      "2/2 [==============================] - 0s 2ms/step - loss: 11.1808 - mae: 11.1808\n",
      "Epoch 97/100\n",
      "2/2 [==============================] - 0s 1ms/step - loss: 16.7768 - mae: 16.7768\n",
      "Epoch 98/100\n",
      "2/2 [==============================] - 0s 2ms/step - loss: 6.5860 - mae: 6.5860\n",
      "Epoch 99/100\n",
      "2/2 [==============================] - 0s 2ms/step - loss: 12.6019 - mae: 12.6019\n",
      "Epoch 100/100\n",
      "2/2 [==============================] - 0s 2ms/step - loss: 19.4157 - mae: 19.4157\n"
     ]
    },
    {
     "data": {
      "text/plain": [
       "<keras.src.callbacks.History at 0x14a707cbf50>"
      ]
     },
     "execution_count": 66,
     "metadata": {},
     "output_type": "execute_result"
    }
   ],
   "source": [
    "# Let's build a model\n",
    "\n",
    "tf.random.set_seed(42)\n",
    "\n",
    "# 1. Create a Model\n",
    "model_2 = tf.keras.Sequential([\n",
    "    tf.keras.layers.Dense(10),\n",
    "    tf.keras.layers.Dense(1)\n",
    "], name=\"TensorFlow_39\")\n",
    "\n",
    "# 2. Compile a model\n",
    "model_2.compile(loss=tf.keras.losses.mae,\n",
    "                optimizer=tf.keras.optimizers.SGD(),\n",
    "                metrics=['mae'])\n",
    "\n",
    "# 3. Fit the model\n",
    "model_2.fit(tf.expand_dims(X_train, axis= -1), y_train, epochs=100)"
   ]
  },
  {
   "cell_type": "code",
   "execution_count": 67,
   "metadata": {},
   "outputs": [
    {
     "name": "stdout",
     "output_type": "stream",
     "text": [
      "1/1 [==============================] - 0s 28ms/step\n",
      "1/1 [==============================] - 0s 27ms/step\n"
     ]
    },
    {
     "data": {
      "text/plain": [
       "array([[False],\n",
       "       [False],\n",
       "       [False],\n",
       "       [False],\n",
       "       [False],\n",
       "       [False],\n",
       "       [False],\n",
       "       [False],\n",
       "       [False],\n",
       "       [False]])"
      ]
     },
     "execution_count": 67,
     "metadata": {},
     "output_type": "execute_result"
    }
   ],
   "source": [
    "# Compare predictions\n",
    "model_2_preds = model_2.predict(X_test)\n",
    "loaded_SavedModel_format_preds = loaded_SaveModel_format.predict(X_test)\n",
    "model_2_preds == loaded_SavedModel_format_preds"
   ]
  },
  {
   "cell_type": "code",
   "execution_count": 68,
   "metadata": {},
   "outputs": [],
   "source": [
    "# Create Evaluation function \n",
    "def mae(y_true, y_pred):\n",
    "    return tf.metrics.mean_absolute_error(y_true, tf.squeeze(y_pred))\n",
    "\n",
    "def mse(y_true, y_pred):\n",
    "    return tf.metrics.mean_squared_error(y_true, tf.squeeze(y_pred))"
   ]
  },
  {
   "cell_type": "code",
   "execution_count": 69,
   "metadata": {},
   "outputs": [
    {
     "data": {
      "text/plain": [
       "<tf.Tensor: shape=(), dtype=bool, numpy=False>"
      ]
     },
     "execution_count": 69,
     "metadata": {},
     "output_type": "execute_result"
    }
   ],
   "source": [
    "mae(y_true=y_test, y_pred=model_2_preds) == mae(y_true=y_test, y_pred=loaded_SavedModel_format_preds)"
   ]
  },
  {
   "cell_type": "code",
   "execution_count": 70,
   "metadata": {},
   "outputs": [
    {
     "data": {
      "text/plain": [
       "array([[ 78.275185],\n",
       "       [ 83.37551 ],\n",
       "       [ 88.47583 ],\n",
       "       [ 93.576164],\n",
       "       [ 98.67648 ],\n",
       "       [103.77682 ],\n",
       "       [108.87713 ],\n",
       "       [113.97746 ],\n",
       "       [119.07779 ],\n",
       "       [124.178116]], dtype=float32)"
      ]
     },
     "execution_count": 70,
     "metadata": {},
     "output_type": "execute_result"
    }
   ],
   "source": [
    "model_2_preds"
   ]
  },
  {
   "cell_type": "code",
   "execution_count": 71,
   "metadata": {},
   "outputs": [
    {
     "data": {
      "text/plain": [
       "array([[ 69.60265 ],\n",
       "       [ 74.13006 ],\n",
       "       [ 78.657455],\n",
       "       [ 83.18487 ],\n",
       "       [ 87.712265],\n",
       "       [ 92.23967 ],\n",
       "       [ 96.76707 ],\n",
       "       [101.29447 ],\n",
       "       [105.82187 ],\n",
       "       [110.34928 ]], dtype=float32)"
      ]
     },
     "execution_count": 71,
     "metadata": {},
     "output_type": "execute_result"
    }
   ],
   "source": [
    "loaded_SavedModel_format_preds"
   ]
  },
  {
   "cell_type": "code",
   "execution_count": 72,
   "metadata": {},
   "outputs": [
    {
     "data": {
      "text/plain": [
       "array([ 78.275185,  83.37551 ,  88.47583 ,  93.576164,  98.67648 ,\n",
       "       103.77682 , 108.87713 , 113.97746 , 119.07779 , 124.178116],\n",
       "      dtype=float32)"
      ]
     },
     "execution_count": 72,
     "metadata": {},
     "output_type": "execute_result"
    }
   ],
   "source": [
    "model_2_preds.squeeze()"
   ]
  },
  {
   "cell_type": "code",
   "execution_count": 73,
   "metadata": {},
   "outputs": [
    {
     "data": {
      "text/plain": [
       "array([ 69.60265 ,  74.13006 ,  78.657455,  83.18487 ,  87.712265,\n",
       "        92.23967 ,  96.76707 , 101.29447 , 105.82187 , 110.34928 ],\n",
       "      dtype=float32)"
      ]
     },
     "execution_count": 73,
     "metadata": {},
     "output_type": "execute_result"
    }
   ],
   "source": [
    "loaded_SavedModel_format_preds.squeeze()"
   ]
  },
  {
   "cell_type": "code",
   "execution_count": 74,
   "metadata": {},
   "outputs": [
    {
     "data": {
      "text/plain": [
       "array([False, False, False, False, False, False, False, False, False,\n",
       "       False])"
      ]
     },
     "execution_count": 74,
     "metadata": {},
     "output_type": "execute_result"
    }
   ],
   "source": [
    "model_2_preds.squeeze() == loaded_SavedModel_format_preds.squeeze()"
   ]
  }
 ],
 "metadata": {
  "kernelspec": {
   "display_name": "Python 3",
   "language": "python",
   "name": "python3"
  },
  "language_info": {
   "codemirror_mode": {
    "name": "ipython",
    "version": 3
   },
   "file_extension": ".py",
   "mimetype": "text/x-python",
   "name": "python",
   "nbconvert_exporter": "python",
   "pygments_lexer": "ipython3",
   "version": "3.11.3"
  },
  "orig_nbformat": 4
 },
 "nbformat": 4,
 "nbformat_minor": 2
}
