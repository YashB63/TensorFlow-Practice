{
 "cells": [
  {
   "cell_type": "code",
   "execution_count": 2,
   "metadata": {},
   "outputs": [],
   "source": [
    "import tensorflow as tf"
   ]
  },
  {
   "cell_type": "markdown",
   "metadata": {},
   "source": [
    "## Tracking your experiments\n",
    "\n",
    "    One really good habit in machine learning modelling is to track the results of your experiments.\n",
    "\n",
    "    And when doing so, it can be tedious if you're running lots of experiments.\n",
    "\n",
    "    Luckily, there are tools to help us!"
   ]
  },
  {
   "cell_type": "markdown",
   "metadata": {},
   "source": [
    "#### Resources\n",
    "\n",
    "    As you are building more models, you'll want to look into using:\n",
    "\n",
    "    * TensorBoard - a component of the TensorFlow library to help track modelling experiments (we'll see this one later).\n",
    "\n",
    "    * Weights and Biases - a tool for tracking all kinds of machine learning experiments ( plugs straight into TensorBoard)"
   ]
  }
 ],
 "metadata": {
  "kernelspec": {
   "display_name": "Python 3",
   "language": "python",
   "name": "python3"
  },
  "language_info": {
   "codemirror_mode": {
    "name": "ipython",
    "version": 3
   },
   "file_extension": ".py",
   "mimetype": "text/x-python",
   "name": "python",
   "nbconvert_exporter": "python",
   "pygments_lexer": "ipython3",
   "version": "3.11.3"
  },
  "orig_nbformat": 4
 },
 "nbformat": 4,
 "nbformat_minor": 2
}
