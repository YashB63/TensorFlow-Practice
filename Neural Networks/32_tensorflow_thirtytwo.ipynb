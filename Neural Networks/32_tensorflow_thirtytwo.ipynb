{
 "cells": [
  {
   "cell_type": "code",
   "execution_count": 1,
   "metadata": {},
   "outputs": [],
   "source": [
    "import tensorflow as tf\n",
    "import numpy as np\n",
    "import matplotlib.pyplot as plt"
   ]
  },
  {
   "cell_type": "code",
   "execution_count": 2,
   "metadata": {},
   "outputs": [
    {
     "data": {
      "text/plain": [
       "<tf.Tensor: shape=(50,), dtype=int32, numpy=\n",
       "array([-100,  -96,  -92,  -88,  -84,  -80,  -76,  -72,  -68,  -64,  -60,\n",
       "        -56,  -52,  -48,  -44,  -40,  -36,  -32,  -28,  -24,  -20,  -16,\n",
       "        -12,   -8,   -4,    0,    4,    8,   12,   16,   20,   24,   28,\n",
       "         32,   36,   40,   44,   48,   52,   56,   60,   64,   68,   72,\n",
       "         76,   80,   84,   88,   92,   96])>"
      ]
     },
     "execution_count": 2,
     "metadata": {},
     "output_type": "execute_result"
    }
   ],
   "source": [
    "X = tf.range(-100,100,4)\n",
    "X"
   ]
  },
  {
   "cell_type": "code",
   "execution_count": 3,
   "metadata": {},
   "outputs": [
    {
     "data": {
      "text/plain": [
       "<tf.Tensor: shape=(50,), dtype=int32, numpy=\n",
       "array([-90, -86, -82, -78, -74, -70, -66, -62, -58, -54, -50, -46, -42,\n",
       "       -38, -34, -30, -26, -22, -18, -14, -10,  -6,  -2,   2,   6,  10,\n",
       "        14,  18,  22,  26,  30,  34,  38,  42,  46,  50,  54,  58,  62,\n",
       "        66,  70,  74,  78,  82,  86,  90,  94,  98, 102, 106])>"
      ]
     },
     "execution_count": 3,
     "metadata": {},
     "output_type": "execute_result"
    }
   ],
   "source": [
    "y = X + 10\n",
    "y"
   ]
  },
  {
   "cell_type": "code",
   "execution_count": 4,
   "metadata": {},
   "outputs": [],
   "source": [
    "X_train = X[:40]\n",
    "y_train = y[:40]\n",
    "\n",
    "X_test = X[40:]\n",
    "y_test = y[40:]"
   ]
  },
  {
   "cell_type": "code",
   "execution_count": 5,
   "metadata": {},
   "outputs": [
    {
     "data": {
      "text/plain": [
       "(40, 10, 40, 10)"
      ]
     },
     "execution_count": 5,
     "metadata": {},
     "output_type": "execute_result"
    }
   ],
   "source": [
    "len(X_train), len(X_test), len(y_train), len(y_test)"
   ]
  },
  {
   "cell_type": "code",
   "execution_count": 6,
   "metadata": {},
   "outputs": [
    {
     "data": {
      "image/png": "[encoded data removed]",
      "text/plain": [
       "<Figure size 640x480 with 1 Axes>"
      ]
     },
     "metadata": {},
     "output_type": "display_data"
    }
   ],
   "source": [
    "plt.scatter(X,y)\n",
    "plt.show()"
   ]
  },
  {
   "cell_type": "code",
   "execution_count": 15,
   "metadata": {},
   "outputs": [],
   "source": [
    "# Lets build a model\n",
    "\n",
    "tf.random.set_seed(42)\n",
    "\n",
    "# 1. Create a model\n",
    "model = tf.keras.Sequential([\n",
    "    tf.keras.layers.Dense(100, input_shape = [1], name=\"input_layer\"),\n",
    "    tf.keras.layers.Dense(100, input_shape = [1], name=\"input_layer_1\"),\n",
    "    tf.keras.layers.Dense(1, name=\"output_layer\")\n",
    "], name=\"Tensorflow_32\")\n",
    "\n",
    "# Compile the model\n",
    "model.compile(loss=tf.losses.mae,\n",
    "              optimizer=tf.optimizers.Adam(learning_rate=0.01),\n",
    "              metrics=[\"mae\"])"
   ]
  },
  {
   "cell_type": "code",
   "execution_count": 16,
   "metadata": {},
   "outputs": [
    {
     "data": {
      "text/plain": [
       "<keras.src.callbacks.History at 0x246979f6410>"
      ]
     },
     "execution_count": 16,
     "metadata": {},
     "output_type": "execute_result"
    }
   ],
   "source": [
    "model.fit(X_train,y_train, verbose=0, epochs=100)"
   ]
  },
  {
   "cell_type": "code",
   "execution_count": 17,
   "metadata": {},
   "outputs": [
    {
     "name": "stdout",
     "output_type": "stream",
     "text": [
      "Model: \"Tensorflow_32\"\n",
      "_________________________________________________________________\n",
      " Layer (type)                Output Shape              Param #   \n",
      "=================================================================\n",
      " input_layer (Dense)         (None, 100)               200       \n",
      "                                                                 \n",
      " input_layer_1 (Dense)       (None, 100)               10100     \n",
      "                                                                 \n",
      " output_layer (Dense)        (None, 1)                 101       \n",
      "                                                                 \n",
      "=================================================================\n",
      "Total params: 10401 (40.63 KB)\n",
      "Trainable params: 10401 (40.63 KB)\n",
      "Non-trainable params: 0 (0.00 Byte)\n",
      "_________________________________________________________________\n"
     ]
    }
   ],
   "source": [
    "model.summary()"
   ]
  },
  {
   "cell_type": "code",
   "execution_count": 18,
   "metadata": {},
   "outputs": [
    {
     "name": "stdout",
     "output_type": "stream",
     "text": [
      "1/1 [==============================] - 0s 62ms/step - loss: 0.7372 - mae: 0.7372\n"
     ]
    },
    {
     "data": {
      "text/plain": [
       "[0.7371711730957031, 0.7371711730957031]"
      ]
     },
     "execution_count": 18,
     "metadata": {},
     "output_type": "execute_result"
    }
   ],
   "source": [
    "# Evaluate the model on test\n",
    "model.evaluate(X_test,y_test)"
   ]
  },
  {
   "cell_type": "code",
   "execution_count": 19,
   "metadata": {},
   "outputs": [
    {
     "name": "stdout",
     "output_type": "stream",
     "text": [
      "1/1 [==============================] - 0s 31ms/step\n"
     ]
    },
    {
     "data": {
      "text/plain": [
       "array([[ 70.55183 ],\n",
       "       [ 74.59301 ],\n",
       "       [ 78.63421 ],\n",
       "       [ 82.67538 ],\n",
       "       [ 86.71658 ],\n",
       "       [ 90.75776 ],\n",
       "       [ 94.79896 ],\n",
       "       [ 98.84016 ],\n",
       "       [102.881325],\n",
       "       [106.92253 ]], dtype=float32)"
      ]
     },
     "execution_count": 19,
     "metadata": {},
     "output_type": "execute_result"
    }
   ],
   "source": [
    "y_pred = model.predict(X_test)\n",
    "y_pred"
   ]
  },
  {
   "cell_type": "code",
   "execution_count": 21,
   "metadata": {},
   "outputs": [
    {
     "data": {
      "text/plain": [
       "<tf.Tensor: shape=(10,), dtype=int32, numpy=array([ 70,  74,  78,  82,  86,  90,  94,  98, 102, 106])>"
      ]
     },
     "execution_count": 21,
     "metadata": {},
     "output_type": "execute_result"
    }
   ],
   "source": [
    "y_true = y_test\n",
    "y_true"
   ]
  },
  {
   "cell_type": "code",
   "execution_count": 22,
   "metadata": {},
   "outputs": [],
   "source": [
    "# Make functions to reuse mae and mse\n",
    "def mae(y_true, y_pred):\n",
    "    return tf.metrics.mean_absolute_error(y_true=y_true,\n",
    "                                          y_pred=y_pred)\n",
    "    \n",
    "def mse(y_true, y_pred):\n",
    "    return tf.metrics.mean_squared_error(y_true=y_true,\n",
    "                                         y_pred=y_pred)"
   ]
  },
  {
   "cell_type": "markdown",
   "metadata": {},
   "source": [
    "## Running Experiments to improve our model\n",
    "\n",
    "    Build a model --> fit it --> evaluate it --> tweak it --> fit it --> evaluate it --> tweak it --> fit it --> evaluate it ...\n",
    "\n",
    "    1. Get more data - get more examples for your model to train on (more opportunities to learn patterns or relationships between features and labels).\n",
    "\n",
    "    2. Make your model larger (using a more complex model) - this might come in the form of more layers or more hidden units in each layer.\n",
    "\n",
    "    3. Train for longer - Give your model more of a chance to find patterns in the data"
   ]
  },
  {
   "cell_type": "code",
   "execution_count": 23,
   "metadata": {},
   "outputs": [
    {
     "data": {
      "text/plain": [
       "(<tf.Tensor: shape=(40,), dtype=int32, numpy=\n",
       " array([-100,  -96,  -92,  -88,  -84,  -80,  -76,  -72,  -68,  -64,  -60,\n",
       "         -56,  -52,  -48,  -44,  -40,  -36,  -32,  -28,  -24,  -20,  -16,\n",
       "         -12,   -8,   -4,    0,    4,    8,   12,   16,   20,   24,   28,\n",
       "          32,   36,   40,   44,   48,   52,   56])>,\n",
       " <tf.Tensor: shape=(40,), dtype=int32, numpy=\n",
       " array([-90, -86, -82, -78, -74, -70, -66, -62, -58, -54, -50, -46, -42,\n",
       "        -38, -34, -30, -26, -22, -18, -14, -10,  -6,  -2,   2,   6,  10,\n",
       "         14,  18,  22,  26,  30,  34,  38,  42,  46,  50,  54,  58,  62,\n",
       "         66])>)"
      ]
     },
     "execution_count": 23,
     "metadata": {},
     "output_type": "execute_result"
    }
   ],
   "source": [
    "X_train, y_train"
   ]
  },
  {
   "cell_type": "markdown",
   "metadata": {},
   "source": [
    "### Let's do 3 modelling experiments:\n",
    "\n",
    "     1. model_1 -  Same as the original model, 1 layer, trained for 100 epochs.\n",
    "     2. model_2 - 2 layers, trained for 100 epochs.\n",
    "     3. model_3 - 2 layers, trained for 500 epochs."
   ]
  },
  {
   "cell_type": "markdown",
   "metadata": {},
   "source": [
    "#### Build model 1"
   ]
  },
  {
   "cell_type": "code",
   "execution_count": 28,
   "metadata": {},
   "outputs": [
    {
     "name": "stdout",
     "output_type": "stream",
     "text": [
      "Epoch 1/100\n",
      "2/2 [==============================] - 0s 5ms/step - loss: 7.7151 - mae: 7.7151\n",
      "Epoch 2/100\n",
      "2/2 [==============================] - 0s 2ms/step - loss: 7.7475 - mae: 7.7475\n",
      "Epoch 3/100\n",
      "2/2 [==============================] - 0s 3ms/step - loss: 7.6949 - mae: 7.6949\n",
      "Epoch 4/100\n",
      "2/2 [==============================] - 0s 2ms/step - loss: 7.6770 - mae: 7.6770\n",
      "Epoch 5/100\n",
      "2/2 [==============================] - 0s 2ms/step - loss: 7.6568 - mae: 7.6568\n",
      "Epoch 6/100\n",
      "2/2 [==============================] - 0s 2ms/step - loss: 7.6461 - mae: 7.6461\n",
      "Epoch 7/100\n",
      "2/2 [==============================] - 0s 999us/step - loss: 7.6152 - mae: 7.6152\n",
      "Epoch 8/100\n",
      "2/2 [==============================] - 0s 4ms/step - loss: 7.6037 - mae: 7.6037\n",
      "Epoch 9/100\n",
      "2/2 [==============================] - 0s 3ms/step - loss: 7.5796 - mae: 7.5796\n",
      "Epoch 10/100\n",
      "2/2 [==============================] - 0s 3ms/step - loss: 7.5698 - mae: 7.5698\n",
      "Epoch 11/100\n",
      "2/2 [==============================] - 0s 3ms/step - loss: 7.6095 - mae: 7.6095\n",
      "Epoch 12/100\n",
      "2/2 [==============================] - 0s 3ms/step - loss: 7.6131 - mae: 7.6131\n",
      "Epoch 13/100\n",
      "2/2 [==============================] - 0s 3ms/step - loss: 7.5662 - mae: 7.5662\n",
      "Epoch 14/100\n",
      "2/2 [==============================] - 0s 4ms/step - loss: 7.5191 - mae: 7.5191\n",
      "Epoch 15/100\n",
      "2/2 [==============================] - 0s 2ms/step - loss: 7.5017 - mae: 7.5017\n",
      "Epoch 16/100\n",
      "2/2 [==============================] - 0s 3ms/step - loss: 7.4927 - mae: 7.4927\n",
      "Epoch 17/100\n",
      "2/2 [==============================] - 0s 3ms/step - loss: 7.5013 - mae: 7.5013\n",
      "Epoch 18/100\n",
      "2/2 [==============================] - 0s 3ms/step - loss: 7.4827 - mae: 7.4827\n",
      "Epoch 19/100\n",
      "2/2 [==============================] - 0s 2ms/step - loss: 7.4531 - mae: 7.4531\n",
      "Epoch 20/100\n",
      "2/2 [==============================] - 0s 2ms/step - loss: 7.4255 - mae: 7.4255\n",
      "Epoch 21/100\n",
      "2/2 [==============================] - 0s 2ms/step - loss: 7.4089 - mae: 7.4089\n",
      "Epoch 22/100\n",
      "2/2 [==============================] - 0s 3ms/step - loss: 7.3919 - mae: 7.3919\n",
      "Epoch 23/100\n",
      "2/2 [==============================] - 0s 4ms/step - loss: 7.4012 - mae: 7.4012\n",
      "Epoch 24/100\n",
      "2/2 [==============================] - 0s 2ms/step - loss: 7.3758 - mae: 7.3758\n",
      "Epoch 25/100\n",
      "2/2 [==============================] - 0s 2ms/step - loss: 7.3512 - mae: 7.3512\n",
      "Epoch 26/100\n",
      "2/2 [==============================] - 0s 2ms/step - loss: 7.3309 - mae: 7.3309\n",
      "Epoch 27/100\n",
      "2/2 [==============================] - 0s 3ms/step - loss: 7.3239 - mae: 7.3239\n",
      "Epoch 28/100\n",
      "2/2 [==============================] - 0s 3ms/step - loss: 7.3149 - mae: 7.3149\n",
      "Epoch 29/100\n",
      "2/2 [==============================] - 0s 3ms/step - loss: 7.3060 - mae: 7.3060\n",
      "Epoch 30/100\n",
      "2/2 [==============================] - 0s 2ms/step - loss: 7.2851 - mae: 7.2851\n",
      "Epoch 31/100\n",
      "2/2 [==============================] - 0s 2ms/step - loss: 7.2762 - mae: 7.2762\n",
      "Epoch 32/100\n",
      "2/2 [==============================] - 0s 2ms/step - loss: 7.2489 - mae: 7.2489\n",
      "Epoch 33/100\n",
      "2/2 [==============================] - 0s 3ms/step - loss: 7.2327 - mae: 7.2327\n",
      "Epoch 34/100\n",
      "2/2 [==============================] - 0s 2ms/step - loss: 7.2169 - mae: 7.2169\n",
      "Epoch 35/100\n",
      "2/2 [==============================] - 0s 3ms/step - loss: 7.2045 - mae: 7.2045\n",
      "Epoch 36/100\n",
      "2/2 [==============================] - 0s 2ms/step - loss: 7.1901 - mae: 7.1901\n",
      "Epoch 37/100\n",
      "2/2 [==============================] - 0s 1ms/step - loss: 7.2025 - mae: 7.2025\n",
      "Epoch 38/100\n",
      "2/2 [==============================] - 0s 3ms/step - loss: 7.2439 - mae: 7.2439\n",
      "Epoch 39/100\n",
      "2/2 [==============================] - 0s 1ms/step - loss: 7.2585 - mae: 7.2585\n",
      "Epoch 40/100\n",
      "2/2 [==============================] - 0s 3ms/step - loss: 7.2408 - mae: 7.2408\n",
      "Epoch 41/100\n",
      "2/2 [==============================] - 0s 2ms/step - loss: 7.1939 - mae: 7.1939\n",
      "Epoch 42/100\n",
      "2/2 [==============================] - 0s 2ms/step - loss: 7.1384 - mae: 7.1384\n",
      "Epoch 43/100\n",
      "2/2 [==============================] - 0s 2ms/step - loss: 7.0898 - mae: 7.0898\n",
      "Epoch 44/100\n",
      "2/2 [==============================] - 0s 2ms/step - loss: 7.0972 - mae: 7.0972\n",
      "Epoch 45/100\n",
      "2/2 [==============================] - 0s 2ms/step - loss: 7.0805 - mae: 7.0805\n",
      "Epoch 46/100\n",
      "2/2 [==============================] - 0s 4ms/step - loss: 7.0540 - mae: 7.0540\n",
      "Epoch 47/100\n",
      "2/2 [==============================] - 0s 4ms/step - loss: 7.0244 - mae: 7.0244\n",
      "Epoch 48/100\n",
      "2/2 [==============================] - 0s 3ms/step - loss: 7.0132 - mae: 7.0132\n",
      "Epoch 49/100\n",
      "2/2 [==============================] - 0s 2ms/step - loss: 7.0177 - mae: 7.0177\n",
      "Epoch 50/100\n",
      "2/2 [==============================] - 0s 3ms/step - loss: 7.0318 - mae: 7.0318\n",
      "Epoch 51/100\n",
      "2/2 [==============================] - 0s 2ms/step - loss: 7.0448 - mae: 7.0448\n",
      "Epoch 52/100\n",
      "2/2 [==============================] - 0s 1000us/step - loss: 7.0264 - mae: 7.0264\n",
      "Epoch 53/100\n",
      "2/2 [==============================] - 0s 2ms/step - loss: 6.9734 - mae: 6.9734\n",
      "Epoch 54/100\n",
      "2/2 [==============================] - 0s 2ms/step - loss: 6.9431 - mae: 6.9431\n",
      "Epoch 55/100\n",
      "2/2 [==============================] - 0s 2ms/step - loss: 6.9200 - mae: 6.9200\n",
      "Epoch 56/100\n",
      "2/2 [==============================] - 0s 2ms/step - loss: 6.8950 - mae: 6.8950\n",
      "Epoch 57/100\n",
      "2/2 [==============================] - 0s 1ms/step - loss: 6.8712 - mae: 6.8712\n",
      "Epoch 58/100\n",
      "2/2 [==============================] - 0s 3ms/step - loss: 6.8846 - mae: 6.8846\n",
      "Epoch 59/100\n",
      "2/2 [==============================] - 0s 1000us/step - loss: 6.9068 - mae: 6.9068\n",
      "Epoch 60/100\n",
      "2/2 [==============================] - 0s 3ms/step - loss: 6.9005 - mae: 6.9005\n",
      "Epoch 61/100\n",
      "2/2 [==============================] - 0s 2ms/step - loss: 6.8551 - mae: 6.8551\n",
      "Epoch 62/100\n",
      "2/2 [==============================] - 0s 3ms/step - loss: 6.8174 - mae: 6.8174\n",
      "Epoch 63/100\n",
      "2/2 [==============================] - 0s 2ms/step - loss: 6.7795 - mae: 6.7795\n",
      "Epoch 64/100\n",
      "2/2 [==============================] - 0s 3ms/step - loss: 6.8070 - mae: 6.8070\n",
      "Epoch 65/100\n",
      "2/2 [==============================] - 0s 2ms/step - loss: 6.8088 - mae: 6.8088\n",
      "Epoch 66/100\n",
      "2/2 [==============================] - 0s 2ms/step - loss: 6.7998 - mae: 6.7998\n",
      "Epoch 67/100\n",
      "2/2 [==============================] - 0s 2ms/step - loss: 6.7684 - mae: 6.7684\n",
      "Epoch 68/100\n",
      "2/2 [==============================] - 0s 3ms/step - loss: 6.7339 - mae: 6.7339\n",
      "Epoch 69/100\n",
      "2/2 [==============================] - 0s 2ms/step - loss: 6.7014 - mae: 6.7014\n",
      "Epoch 70/100\n",
      "2/2 [==============================] - 0s 2ms/step - loss: 6.6851 - mae: 6.6851\n",
      "Epoch 71/100\n",
      "2/2 [==============================] - 0s 2ms/step - loss: 6.6873 - mae: 6.6873\n",
      "Epoch 72/100\n",
      "2/2 [==============================] - 0s 2ms/step - loss: 6.7013 - mae: 6.7013\n",
      "Epoch 73/100\n",
      "2/2 [==============================] - 0s 3ms/step - loss: 6.7173 - mae: 6.7173\n",
      "Epoch 74/100\n",
      "2/2 [==============================] - 0s 2ms/step - loss: 6.7050 - mae: 6.7050\n",
      "Epoch 75/100\n",
      "2/2 [==============================] - 0s 2ms/step - loss: 6.6603 - mae: 6.6603\n",
      "Epoch 76/100\n",
      "2/2 [==============================] - 0s 2ms/step - loss: 6.6014 - mae: 6.6014\n",
      "Epoch 77/100\n",
      "2/2 [==============================] - 0s 2ms/step - loss: 6.5701 - mae: 6.5701\n",
      "Epoch 78/100\n",
      "2/2 [==============================] - 0s 2ms/step - loss: 6.5827 - mae: 6.5827\n",
      "Epoch 79/100\n",
      "2/2 [==============================] - 0s 3ms/step - loss: 6.6056 - mae: 6.6056\n",
      "Epoch 80/100\n",
      "2/2 [==============================] - 0s 1ms/step - loss: 6.5832 - mae: 6.5832\n",
      "Epoch 81/100\n",
      "2/2 [==============================] - 0s 3ms/step - loss: 6.5433 - mae: 6.5433\n",
      "Epoch 82/100\n",
      "2/2 [==============================] - 0s 2ms/step - loss: 6.5111 - mae: 6.5111\n",
      "Epoch 83/100\n",
      "2/2 [==============================] - 0s 2ms/step - loss: 6.4943 - mae: 6.4943\n",
      "Epoch 84/100\n",
      "2/2 [==============================] - 0s 2ms/step - loss: 6.4738 - mae: 6.4738\n",
      "Epoch 85/100\n",
      "2/2 [==============================] - 0s 2ms/step - loss: 6.4717 - mae: 6.4717\n",
      "Epoch 86/100\n",
      "2/2 [==============================] - 0s 2ms/step - loss: 6.4519 - mae: 6.4519\n",
      "Epoch 87/100\n",
      "2/2 [==============================] - 0s 3ms/step - loss: 6.4448 - mae: 6.4448\n",
      "Epoch 88/100\n",
      "2/2 [==============================] - 0s 2ms/step - loss: 6.4160 - mae: 6.4160\n",
      "Epoch 89/100\n",
      "2/2 [==============================] - 0s 2ms/step - loss: 6.4086 - mae: 6.4086\n",
      "Epoch 90/100\n",
      "2/2 [==============================] - 0s 3ms/step - loss: 6.4136 - mae: 6.4136\n",
      "Epoch 91/100\n",
      "2/2 [==============================] - 0s 2ms/step - loss: 6.4016 - mae: 6.4016\n",
      "Epoch 92/100\n",
      "2/2 [==============================] - 0s 3ms/step - loss: 6.3672 - mae: 6.3672\n",
      "Epoch 93/100\n",
      "2/2 [==============================] - 0s 4ms/step - loss: 6.3404 - mae: 6.3404\n",
      "Epoch 94/100\n",
      "2/2 [==============================] - 0s 2ms/step - loss: 6.3238 - mae: 6.3238\n",
      "Epoch 95/100\n",
      "2/2 [==============================] - 0s 3ms/step - loss: 6.3163 - mae: 6.3163\n",
      "Epoch 96/100\n",
      "2/2 [==============================] - 0s 2ms/step - loss: 6.3136 - mae: 6.3136\n",
      "Epoch 97/100\n",
      "2/2 [==============================] - 0s 4ms/step - loss: 6.2880 - mae: 6.2880\n",
      "Epoch 98/100\n",
      "2/2 [==============================] - 0s 5ms/step - loss: 6.2623 - mae: 6.2623\n",
      "Epoch 99/100\n",
      "2/2 [==============================] - 0s 4ms/step - loss: 6.2519 - mae: 6.2519\n",
      "Epoch 100/100\n",
      "2/2 [==============================] - 0s 3ms/step - loss: 6.2434 - mae: 6.2434\n"
     ]
    },
    {
     "data": {
      "text/plain": [
       "<keras.src.callbacks.History at 0x24698c7a290>"
      ]
     },
     "execution_count": 28,
     "metadata": {},
     "output_type": "execute_result"
    }
   ],
   "source": [
    "# Set random seed\n",
    "tf.random.set_seed(42)\n",
    "\n",
    "# 1. Create the model\n",
    "model_1 = tf.keras.Sequential([\n",
    "    tf.keras.layers.Dense(1)\n",
    "])\n",
    "\n",
    "# 2. Compile the model\n",
    "model.compile(loss=tf.losses.mae,\n",
    "              optimizer=tf.optimizers.Adam(learning_rate=0.01),\n",
    "              metrics=[\"mae\"])\n",
    "\n",
    "# 3. Fit the model\n",
    "model.fit(tf.expand_dims(X_train, axis = -1), y_train, epochs=100)"
   ]
  },
  {
   "cell_type": "code",
   "execution_count": 31,
   "metadata": {},
   "outputs": [],
   "source": [
    "# model plotting function\n",
    "\n",
    "def plot_prediction(train_data = X_train,\n",
    "                    test_data = X_test,\n",
    "                    train_labels = y_train,\n",
    "                    test_labels = y_test,\n",
    "                    predictions = y_pred):\n",
    "    \n",
    "    # Plot training data, testing data and compare predictions to ground truth labels\n",
    "    \n",
    "    plt.figure(figsize=(15,10))\n",
    "    \n",
    "    # Plot the training data in light green\n",
    "    plt.scatter(train_data, train_labels, c=\"light green\", label=\"Training Data\")\n",
    "    \n",
    "    # Plot the testing data in cyan\n",
    "    plt.scatter(test_data, test_labels, c=\"cyan\", label=\"Testing Data\")\n",
    "    \n",
    "    # plot the predictions in orange\n",
    "    plt.scatter(test_data, predictions, c=\"orange\", label = \"Predictions\")\n",
    "    \n",
    "    plt.legend()\n",
    "    plt.show()"
   ]
  }
 ],
 "metadata": {
  "kernelspec": {
   "display_name": "Python 3",
   "language": "python",
   "name": "python3"
  },
  "language_info": {
   "codemirror_mode": {
    "name": "ipython",
    "version": 3
   },
   "file_extension": ".py",
   "mimetype": "text/x-python",
   "name": "python",
   "nbconvert_exporter": "python",
   "pygments_lexer": "ipython3",
   "version": "3.11.3"
  },
  "orig_nbformat": 4
 },
 "nbformat": 4,
 "nbformat_minor": 2
}
