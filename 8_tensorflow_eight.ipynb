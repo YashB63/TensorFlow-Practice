{
 "cells": [
  {
   "cell_type": "code",
   "execution_count": 3,
   "metadata": {},
   "outputs": [],
   "source": [
    "import tensorflow as tf"
   ]
  },
  {
   "cell_type": "markdown",
   "metadata": {},
   "source": [
    "# Manipulating Tensors"
   ]
  },
  {
   "cell_type": "markdown",
   "metadata": {},
   "source": [
    "### Basic Operations"
   ]
  },
  {
   "cell_type": "code",
   "execution_count": 10,
   "metadata": {},
   "outputs": [
    {
     "data": {
      "text/plain": [
       "<tf.Tensor: shape=(2, 2), dtype=int32, numpy=\n",
       "array([[20, 17],\n",
       "       [13, 14]])>"
      ]
     },
     "execution_count": 10,
     "metadata": {},
     "output_type": "execute_result"
    }
   ],
   "source": [
    "# You can add values to a tensor using the addition operator\n",
    "tensor = tf.constant([[10,7], [3,4]])\n",
    "tensor + 10"
   ]
  },
  {
   "cell_type": "code",
   "execution_count": 11,
   "metadata": {},
   "outputs": [
    {
     "data": {
      "text/plain": [
       "<tf.Tensor: shape=(2, 2), dtype=int32, numpy=\n",
       "array([[20, 17],\n",
       "       [13, 14]])>"
      ]
     },
     "execution_count": 11,
     "metadata": {},
     "output_type": "execute_result"
    }
   ],
   "source": [
    "# original tensor is unchanged\n",
    "tensor\n",
    "tensor_new = tensor + 10\n",
    "tensor_new"
   ]
  },
  {
   "cell_type": "code",
   "execution_count": 12,
   "metadata": {},
   "outputs": [
    {
     "data": {
      "text/plain": [
       "<tf.Tensor: shape=(2, 2), dtype=int32, numpy=\n",
       "array([[10,  7],\n",
       "       [ 3,  4]])>"
      ]
     },
     "execution_count": 12,
     "metadata": {},
     "output_type": "execute_result"
    }
   ],
   "source": [
    "tensor"
   ]
  },
  {
   "cell_type": "code",
   "execution_count": 13,
   "metadata": {},
   "outputs": [
    {
     "data": {
      "text/plain": [
       "<tf.Tensor: shape=(2, 2), dtype=int32, numpy=\n",
       "array([[8, 5],\n",
       "       [1, 2]])>"
      ]
     },
     "execution_count": 13,
     "metadata": {},
     "output_type": "execute_result"
    }
   ],
   "source": [
    "# Substraction\n",
    "tensor_sub = tensor - 2\n",
    "tensor_sub"
   ]
  },
  {
   "cell_type": "code",
   "execution_count": 14,
   "metadata": {},
   "outputs": [
    {
     "data": {
      "text/plain": [
       "<tf.Tensor: shape=(2, 2), dtype=int32, numpy=\n",
       "array([[50, 35],\n",
       "       [15, 20]])>"
      ]
     },
     "execution_count": 14,
     "metadata": {},
     "output_type": "execute_result"
    }
   ],
   "source": [
    "# Multiplication\n",
    "tensor_mul = tensor * 5\n",
    "tensor_mul"
   ]
  },
  {
   "cell_type": "code",
   "execution_count": 16,
   "metadata": {},
   "outputs": [
    {
     "data": {
      "text/plain": [
       "<tf.Tensor: shape=(2, 2), dtype=float64, numpy=\n",
       "array([[5. , 3.5],\n",
       "       [1.5, 2. ]])>"
      ]
     },
     "execution_count": 16,
     "metadata": {},
     "output_type": "execute_result"
    }
   ],
   "source": [
    "# Division\n",
    "tensor_div = tensor / 2\n",
    "tensor_div"
   ]
  },
  {
   "cell_type": "code",
   "execution_count": 17,
   "metadata": {},
   "outputs": [
    {
     "data": {
      "text/plain": [
       "<tf.Tensor: shape=(2, 2), dtype=int32, numpy=\n",
       "array([[100,  70],\n",
       "       [ 30,  40]])>"
      ]
     },
     "execution_count": 17,
     "metadata": {},
     "output_type": "execute_result"
    }
   ],
   "source": [
    "# We can use the tensorflow built-in function too\n",
    "tf.multiply(tensor, 10)"
   ]
  },
  {
   "cell_type": "code",
   "execution_count": null,
   "metadata": {},
   "outputs": [],
   "source": [
    "# tf.math is a module in TensorFlow that provides various mathematical operations and functions \n",
    "# for performing computations on tensors. It contains a wide range of mathematical operations, \n",
    "# including basic arithmetic operations, mathematical functions, and advanced operations.\n",
    "\n",
    "\n",
    "# Here are some commonly used functionalities provided by tf.math:\n",
    "\n",
    "\n",
    "# Arithmetic operations: tf.math.add, tf.math.subtract, tf.math.multiply, tf.math.divide, etc. \n",
    "# These functions perform element-wise addition, subtraction, multiplication, and division on tensors.\n",
    "\n",
    "\n",
    "# Mathematical functions: tf.math.exp, tf.math.log, tf.math.sin, tf.math.cos, tf.math.sqrt, tf.math.pow, \n",
    "# tf.math.abs, etc. These functions apply element-wise mathematical operations like exponentiation, logarithm, \n",
    "# trigonometric functions, square root, absolute value, etc.\n",
    "\n",
    "\n",
    "# Reduction operations: tf.math.reduce_sum, tf.math.reduce_mean, tf.math.reduce_max, tf.math.reduce_min, etc. \n",
    "# These functions compute reductions along specific dimensions of a tensor, such as sum, mean, maximum, \n",
    "# minimum, etc.\n",
    "\n",
    "\n",
    "# Element-wise comparisons: tf.math.equal, tf.math.not_equal, tf.math.greater, tf.math.less, \n",
    "# tf.math.logical_and, tf.math.logical_or, etc. These functions perform element-wise comparisons \n",
    "# and return boolean tensors indicating the result of the comparison.\n",
    "\n",
    "\n",
    "# Other operations: tf.math.argmax, tf.math.argmin, tf.math.cumsum, tf.math.cumprod, tf.math.log_softmax, \n",
    "# tf.math.sigmoid, tf.math.softmax, tf.math.tensordot, etc. These functions perform operations like finding \n",
    "# indices of maximum or minimum values, computing cumulative sum or product, applying softmax or \n",
    "# sigmoid activation, computing tensor dot product, etc.\n",
    "\n",
    "\n",
    "# These are just a few examples of the operations available in tf.math. \n",
    "# The module provides a rich set of mathematical functions and operations that can be applied \n",
    "# to tensors in TensorFlow to perform various computations efficiently."
   ]
  },
  {
   "cell_type": "code",
   "execution_count": 18,
   "metadata": {},
   "outputs": [
    {
     "data": {
      "text/plain": [
       "<tf.Tensor: shape=(2, 2), dtype=int32, numpy=\n",
       "array([[10,  7],\n",
       "       [ 3,  4]])>"
      ]
     },
     "execution_count": 18,
     "metadata": {},
     "output_type": "execute_result"
    }
   ],
   "source": [
    "tensor # even after using tf.math function the original tensor is unchanged"
   ]
  }
 ],
 "metadata": {
  "kernelspec": {
   "display_name": "Python 3",
   "language": "python",
   "name": "python3"
  },
  "language_info": {
   "codemirror_mode": {
    "name": "ipython",
    "version": 3
   },
   "file_extension": ".py",
   "mimetype": "text/x-python",
   "name": "python",
   "nbconvert_exporter": "python",
   "pygments_lexer": "ipython3",
   "version": "3.11.3"
  },
  "orig_nbformat": 4
 },
 "nbformat": 4,
 "nbformat_minor": 2
}
