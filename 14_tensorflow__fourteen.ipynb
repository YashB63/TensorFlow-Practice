{
 "cells": [
  {
   "cell_type": "code",
   "execution_count": 1,
   "metadata": {},
   "outputs": [],
   "source": [
    "import tensorflow as tf\n",
    "import numpy as np"
   ]
  },
  {
   "cell_type": "code",
   "execution_count": 2,
   "metadata": {},
   "outputs": [
    {
     "data": {
      "text/plain": [
       "<tf.Tensor: shape=(50,), dtype=int32, numpy=\n",
       "array([74, 89, 85, 41, 58, 31, 93, 45, 22, 22, 64, 61, 16, 21, 39, 17, 71,\n",
       "       57,  1, 94, 57, 45,  3,  6, 92, 94, 92, 29, 80, 80, 70, 82, 90, 38,\n",
       "       97, 13, 95, 45,  5, 12, 59, 19, 80,  2, 29, 64, 90, 17, 82, 90])>"
      ]
     },
     "execution_count": 2,
     "metadata": {},
     "output_type": "execute_result"
    }
   ],
   "source": [
    "# Lets create a random tensor having values between 0 and 100 of size 50\n",
    "A = tf.constant(np.random.randint(0,100,size=50))\n",
    "A"
   ]
  },
  {
   "cell_type": "code",
   "execution_count": 3,
   "metadata": {},
   "outputs": [
    {
     "ename": "AttributeError",
     "evalue": "module 'tensorflow' has no attribute 'reduce_variance'",
     "output_type": "error",
     "traceback": [
      "\u001b[1;31m---------------------------------------------------------------------------\u001b[0m",
      "\u001b[1;31mAttributeError\u001b[0m                            Traceback (most recent call last)",
      "Cell \u001b[1;32mIn[3], line 2\u001b[0m\n\u001b[0;32m      1\u001b[0m \u001b[39m# Lets find the variance\u001b[39;00m\n\u001b[1;32m----> 2\u001b[0m tf\u001b[39m.\u001b[39;49mreduce_variance(A)\n",
      "\u001b[1;31mAttributeError\u001b[0m: module 'tensorflow' has no attribute 'reduce_variance'"
     ]
    }
   ],
   "source": [
    "# Lets find the variance\n",
    "tf.reduce_variance(A) # this doesn't work "
   ]
  },
  {
   "cell_type": "code",
   "execution_count": null,
   "metadata": {},
   "outputs": [],
   "source": [
    "# TensorFlow Probability (TFP) is a probabilistic programming library built on top of TensorFlow, \n",
    "# an open-source machine learning framework developed by Google. TFP provides a collection of tools and algorithms \n",
    "# for probabilistic modeling and statistical inference. It combines the capabilities of TensorFlow for efficient computation \n",
    "# with the flexibility and expressiveness of probabilistic programming.\n",
    "\n",
    "# Some key features of TensorFlow Probability include:\n",
    "\n",
    "# Probabilistic layers: TFP allows you to build models using probabilistic layers, which can be used to define complex, \n",
    "# deep probabilistic models. These layers can capture uncertainty in the input data and provide probabilistic outputs.\n",
    "\n",
    "# Distributions: TFP provides a wide range of probability distributions, such as normal, beta, gamma, and many others. \n",
    "# These distributions can be used to model uncertain quantities and can be combined to form more complex distributions.\n",
    "\n",
    "# Bayesian inference: TFP supports Bayesian inference methods, such as Markov chain Monte Carlo (MCMC) and variational inference. \n",
    "# These methods allow you to estimate the posterior distribution of model parameters given observed data.\n",
    "\n",
    "# Gradient-based optimization: TFP leverages TensorFlow's automatic differentiation capabilities to perform gradient-based optimization. \n",
    "# This allows you to train probabilistic models using techniques like maximum likelihood estimation or variational inference.\n",
    "\n",
    "# Integration with TensorFlow ecosystem: TFP seamlessly integrates with TensorFlow, allowing you to combine probabilistic modeling \n",
    "# with traditional deep learning techniques. You can build hybrid models that combine deterministic and probabilistic components.\n",
    "\n",
    "# Overall, TensorFlow Probability provides a powerful framework for probabilistic modeling and enables researchers and \n",
    "# practitioners to tackle a wide range of problems that involve uncertainty and probabilistic reasoning."
   ]
  },
  {
   "cell_type": "code",
   "execution_count": null,
   "metadata": {},
   "outputs": [],
   "source": [
    "# tfp.stats is a module within TensorFlow Probability (TFP) that provides various statistical functions and utilities. \n",
    "# It offers a collection of functions for computing statistics, probabilistic calculations, and other operations related \n",
    "# to probability distributions. Here are some commonly used functionalities provided by tfp.stats:\n",
    "\n",
    "# Summary statistics: tfp.stats includes functions to compute summary statistics of data, such as mean, variance, standard deviation, \n",
    "# minimum, maximum, median, mode, and quantiles.\n",
    "\n",
    "# Probability calculations: The module provides functions for evaluating the probability density function (PDF), \n",
    "# cumulative distribution function (CDF), survival function, and log-probability of various probability distributions. \n",
    "# These calculations are useful for performing statistical analysis and making probabilistic predictions.\n",
    "\n",
    "# Percentile computations: tfp.stats offers functions to compute percentiles of a dataset, allowing you to determine values below \n",
    "# which a certain percentage of the data falls.\n",
    "\n",
    "# Statistical tests: The module includes statistical tests such as t-tests, chi-square tests, Kolmogorov-Smirnov tests, and others. \n",
    "# These tests help evaluate hypotheses and assess the significance of observed differences or similarities in data.\n",
    "\n",
    "# Random samplers: tfp.stats provides functions to generate random samples from various probability distributions. \n",
    "# These samplers are useful for simulation studies and generating synthetic data.\n",
    "\n",
    "# Statistical metrics: The module offers functions to compute statistical metrics, such as the Kullback-Leibler divergence, \n",
    "# Bhattacharyya distance, and mutual information. These metrics are used to measure the similarity or dissimilarity between \n",
    "# probability distributions.\n",
    "\n",
    "# Linear regression: tfp.stats includes functions for performing linear regression, estimating regression coefficients, \n",
    "# and making predictions using linear models.\n",
    "\n",
    "# These are just some examples of the functionalities provided by tfp.stats. The module offers a wide range of statistical functions \n",
    "# and utilities to assist in data analysis, modeling, and inference within the TensorFlow Probability framework."
   ]
  },
  {
   "cell_type": "code",
   "execution_count": 5,
   "metadata": {},
   "outputs": [
    {
     "data": {
      "text/plain": [
       "<tf.Tensor: shape=(), dtype=int32, numpy=990>"
      ]
     },
     "execution_count": 5,
     "metadata": {},
     "output_type": "execute_result"
    }
   ],
   "source": [
    "# To find the variance of our tensor, we need to access tensorflow probability\n",
    "import tensorflow_probability as tfp\n",
    "tfp.stats.variance(A)"
   ]
  },
  {
   "cell_type": "code",
   "execution_count": 6,
   "metadata": {},
   "outputs": [
    {
     "ename": "AttributeError",
     "evalue": "module 'tensorflow' has no attribute 'reduce_std'",
     "output_type": "error",
     "traceback": [
      "\u001b[1;31m---------------------------------------------------------------------------\u001b[0m",
      "\u001b[1;31mAttributeError\u001b[0m                            Traceback (most recent call last)",
      "Cell \u001b[1;32mIn[6], line 2\u001b[0m\n\u001b[0;32m      1\u001b[0m \u001b[39m# Find the standard deviation\u001b[39;00m\n\u001b[1;32m----> 2\u001b[0m tf\u001b[39m.\u001b[39;49mreduce_std(A)\n",
      "\u001b[1;31mAttributeError\u001b[0m: module 'tensorflow' has no attribute 'reduce_std'"
     ]
    }
   ],
   "source": [
    "# Find the standard deviation\n",
    "tf.reduce_std(A)"
   ]
  },
  {
   "cell_type": "code",
   "execution_count": 8,
   "metadata": {},
   "outputs": [
    {
     "data": {
      "text/plain": [
       "<tf.Tensor: shape=(), dtype=float32, numpy=31.466402>"
      ]
     },
     "execution_count": 8,
     "metadata": {},
     "output_type": "execute_result"
    }
   ],
   "source": [
    "# tf.math.reduce_std(A) # thsi doesn't work too\n",
    "\n",
    "# So what we can do here is lets typecast it to float32\n",
    "tf.math.reduce_std(tf.cast(A, dtype=tf.float32))"
   ]
  }
 ],
 "metadata": {
  "kernelspec": {
   "display_name": "Python 3",
   "language": "python",
   "name": "python3"
  },
  "language_info": {
   "codemirror_mode": {
    "name": "ipython",
    "version": 3
   },
   "file_extension": ".py",
   "mimetype": "text/x-python",
   "name": "python",
   "nbconvert_exporter": "python",
   "pygments_lexer": "ipython3",
   "version": "3.11.3"
  },
  "orig_nbformat": 4
 },
 "nbformat": 4,
 "nbformat_minor": 2
}
