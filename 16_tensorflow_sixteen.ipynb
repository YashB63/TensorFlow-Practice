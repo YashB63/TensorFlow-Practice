{
 "cells": [
  {
   "cell_type": "code",
   "execution_count": 1,
   "metadata": {},
   "outputs": [],
   "source": [
    "import tensorflow as tf\n",
    "import numpy as np"
   ]
  },
  {
   "cell_type": "markdown",
   "metadata": {},
   "source": [
    "## Squeezing a tensor(removing all single dimensions)"
   ]
  },
  {
   "cell_type": "code",
   "execution_count": 2,
   "metadata": {},
   "outputs": [
    {
     "data": {
      "text/plain": [
       "<tf.Tensor: shape=(1, 1, 1, 1, 50), dtype=float32, numpy=\n",
       "array([[[[[0.4256767 , 0.09248567, 0.6984384 , 0.07398343, 0.7727158 ,\n",
       "           0.12432873, 0.63084745, 0.7984086 , 0.77095735, 0.6262394 ,\n",
       "           0.92460155, 0.9506029 , 0.4563607 , 0.77707946, 0.4713788 ,\n",
       "           0.38674247, 0.6453681 , 0.8662467 , 0.41191506, 0.75378084,\n",
       "           0.79064775, 0.71118295, 0.27561748, 0.21834934, 0.10369766,\n",
       "           0.38217592, 0.8144841 , 0.9480742 , 0.13587463, 0.9821708 ,\n",
       "           0.18929172, 0.18959296, 0.7567173 , 0.37537634, 0.6090721 ,\n",
       "           0.8657476 , 0.12620127, 0.05649912, 0.93892956, 0.00101888,\n",
       "           0.03675294, 0.27576196, 0.8683721 , 0.10478079, 0.46264243,\n",
       "           0.44159305, 0.16460931, 0.87192416, 0.23824787, 0.87063384]]]]],\n",
       "      dtype=float32)>"
      ]
     },
     "execution_count": 2,
     "metadata": {},
     "output_type": "execute_result"
    }
   ],
   "source": [
    "# Create a tensor to get started\n",
    "A = tf.constant(tf.random.uniform(shape=[50]), shape=(1,1,1,1,50))\n",
    "A"
   ]
  },
  {
   "cell_type": "code",
   "execution_count": 3,
   "metadata": {},
   "outputs": [
    {
     "data": {
      "text/plain": [
       "TensorShape([1, 1, 1, 1, 50])"
      ]
     },
     "execution_count": 3,
     "metadata": {},
     "output_type": "execute_result"
    }
   ],
   "source": [
    "A.shape"
   ]
  },
  {
   "cell_type": "code",
   "execution_count": 4,
   "metadata": {},
   "outputs": [
    {
     "data": {
      "text/plain": [
       "<tf.Tensor: shape=(50,), dtype=float32, numpy=\n",
       "array([0.4256767 , 0.09248567, 0.6984384 , 0.07398343, 0.7727158 ,\n",
       "       0.12432873, 0.63084745, 0.7984086 , 0.77095735, 0.6262394 ,\n",
       "       0.92460155, 0.9506029 , 0.4563607 , 0.77707946, 0.4713788 ,\n",
       "       0.38674247, 0.6453681 , 0.8662467 , 0.41191506, 0.75378084,\n",
       "       0.79064775, 0.71118295, 0.27561748, 0.21834934, 0.10369766,\n",
       "       0.38217592, 0.8144841 , 0.9480742 , 0.13587463, 0.9821708 ,\n",
       "       0.18929172, 0.18959296, 0.7567173 , 0.37537634, 0.6090721 ,\n",
       "       0.8657476 , 0.12620127, 0.05649912, 0.93892956, 0.00101888,\n",
       "       0.03675294, 0.27576196, 0.8683721 , 0.10478079, 0.46264243,\n",
       "       0.44159305, 0.16460931, 0.87192416, 0.23824787, 0.87063384],\n",
       "      dtype=float32)>"
      ]
     },
     "execution_count": 4,
     "metadata": {},
     "output_type": "execute_result"
    }
   ],
   "source": [
    "A_squeezed = tf.squeeze(A) # what squeeze does is it removes dimensions of size 1 from the shape of a tensor\n",
    "A_squeezed"
   ]
  },
  {
   "cell_type": "code",
   "execution_count": 5,
   "metadata": {},
   "outputs": [
    {
     "data": {
      "text/plain": [
       "TensorShape([50])"
      ]
     },
     "execution_count": 5,
     "metadata": {},
     "output_type": "execute_result"
    }
   ],
   "source": [
    "A_squeezed.shape"
   ]
  },
  {
   "cell_type": "markdown",
   "metadata": {},
   "source": [
    "### One Hot Encoding Tensors"
   ]
  },
  {
   "cell_type": "code",
   "execution_count": 6,
   "metadata": {},
   "outputs": [],
   "source": [
    "# One hot encoding is a technique used to represent categorical variables as binary vectors. \n",
    "# In this encoding scheme, each category is represented by a binary vector with a length equal \n",
    "# to the number of categories in the variable. The vector contains all zeros except for the index that \n",
    "# corresponds to the category, which is marked with a one.\n",
    "\n",
    "# Here's an example to illustrate the concept. Let's say we have a categorical variable \"Color\" with three categories: \n",
    "# \"Red,\" \"Green,\" and \"Blue.\" \n",
    "# We can perform one hot encoding on this variable as follows:\n",
    "\n",
    "# \"Red\" would be represented as [1, 0, 0]\n",
    "# \"Green\" would be represented as [0, 1, 0]\n",
    "# \"Blue\" would be represented as [0, 0, 1]\n",
    "# Each category is assigned a unique binary vector, and the length of the vector is equal to the number of categories. \n",
    "# One hot encoding ensures that there is no ordinal relationship or numerical value associated with the categories; \n",
    "# it simply represents the presence or absence of a category.\n",
    "\n",
    "# One hot encoding is commonly used in machine learning algorithms to handle categorical data since many algorithms operate \n",
    "# on numerical inputs. By converting categorical variables into numerical vectors, we can incorporate them into the models \n",
    "# and make them suitable for analysis or training."
   ]
  },
  {
   "cell_type": "code",
   "execution_count": 7,
   "metadata": {},
   "outputs": [
    {
     "data": {
      "text/plain": [
       "<tf.Tensor: shape=(4, 4), dtype=float32, numpy=\n",
       "array([[1., 0., 0., 0.],\n",
       "       [0., 1., 0., 0.],\n",
       "       [0., 0., 1., 0.],\n",
       "       [0., 0., 0., 1.]], dtype=float32)>"
      ]
     },
     "execution_count": 7,
     "metadata": {},
     "output_type": "execute_result"
    }
   ],
   "source": [
    "# Create a list of indices\n",
    "eg_list = [0,1,2,3] # could be red, green, blue, purple\n",
    "\n",
    "# one hot encode our list of indices\n",
    "tf.one_hot(eg_list, depth=4)"
   ]
  },
  {
   "cell_type": "code",
   "execution_count": 8,
   "metadata": {},
   "outputs": [
    {
     "data": {
      "text/plain": [
       "<tf.Tensor: shape=(4, 4), dtype=string, numpy=\n",
       "array([[b'Hi Guys!', b'Welcome to my stream.', b'Welcome to my stream.',\n",
       "        b'Welcome to my stream.'],\n",
       "       [b'Welcome to my stream.', b'Hi Guys!', b'Welcome to my stream.',\n",
       "        b'Welcome to my stream.'],\n",
       "       [b'Welcome to my stream.', b'Welcome to my stream.', b'Hi Guys!',\n",
       "        b'Welcome to my stream.'],\n",
       "       [b'Welcome to my stream.', b'Welcome to my stream.',\n",
       "        b'Welcome to my stream.', b'Hi Guys!']], dtype=object)>"
      ]
     },
     "execution_count": 8,
     "metadata": {},
     "output_type": "execute_result"
    }
   ],
   "source": [
    "# Specify custom values for one hot encoding\n",
    "tf.one_hot(eg_list, depth=4, on_value=\"Hi Guys!\", off_value=\"Welcome to my stream.\") # 0,1 ke jagah matrix mey new values aa jaayegi"
   ]
  }
 ],
 "metadata": {
  "kernelspec": {
   "display_name": "Python 3",
   "language": "python",
   "name": "python3"
  },
  "language_info": {
   "codemirror_mode": {
    "name": "ipython",
    "version": 3
   },
   "file_extension": ".py",
   "mimetype": "text/x-python",
   "name": "python",
   "nbconvert_exporter": "python",
   "pygments_lexer": "ipython3",
   "version": "3.11.3"
  },
  "orig_nbformat": 4
 },
 "nbformat": 4,
 "nbformat_minor": 2
}
