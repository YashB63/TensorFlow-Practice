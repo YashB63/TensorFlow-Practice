{
 "cells": [
  {
   "cell_type": "code",
   "execution_count": 10,
   "metadata": {},
   "outputs": [],
   "source": [
    "import tensorflow as tf\n",
    "import numpy as np\n",
    "import pandas as pd\n",
    "import matplotlib.pyplot as plt"
   ]
  },
  {
   "cell_type": "code",
   "execution_count": 11,
   "metadata": {},
   "outputs": [],
   "source": [
    "# Let's import a classification dataset\n",
    "from sklearn.datasets import make_circles\n",
    "\n",
    "# Set samples to 1000\n",
    "n_samples = 1000\n",
    "\n",
    "# Features and Labels\n",
    "X,y = make_circles(n_samples,\n",
    "                   noise=0.03,\n",
    "                   random_state=42)"
   ]
  },
  {
   "cell_type": "code",
   "execution_count": 12,
   "metadata": {},
   "outputs": [
    {
     "data": {
      "text/plain": [
       "1000"
      ]
     },
     "execution_count": 12,
     "metadata": {},
     "output_type": "execute_result"
    }
   ],
   "source": [
    "len(X)"
   ]
  },
  {
   "cell_type": "code",
   "execution_count": 13,
   "metadata": {},
   "outputs": [],
   "source": [
    "# Let's divide our dataset into training and testing sets\n",
    "X_train, y_train = X[:800], y[:800]\n",
    "X_test, y_test = X[800:], y[800:]"
   ]
  },
  {
   "cell_type": "code",
   "execution_count": 14,
   "metadata": {},
   "outputs": [
    {
     "name": "stdout",
     "output_type": "stream",
     "text": [
      "Epoch 1/20\n",
      "25/25 [==============================] - 0s 1ms/step - loss: 0.6880 - accuracy: 0.5400\n",
      "Epoch 2/20\n",
      "25/25 [==============================] - 0s 749us/step - loss: 0.6795 - accuracy: 0.5650\n",
      "Epoch 3/20\n",
      "25/25 [==============================] - 0s 713us/step - loss: 0.6631 - accuracy: 0.5913\n",
      "Epoch 4/20\n",
      "25/25 [==============================] - 0s 764us/step - loss: 0.6318 - accuracy: 0.6600\n",
      "Epoch 5/20\n",
      "25/25 [==============================] - 0s 851us/step - loss: 0.5897 - accuracy: 0.6988\n",
      "Epoch 6/20\n",
      "25/25 [==============================] - 0s 853us/step - loss: 0.5294 - accuracy: 0.7862\n",
      "Epoch 7/20\n",
      "25/25 [==============================] - 0s 709us/step - loss: 0.4897 - accuracy: 0.7875\n",
      "Epoch 8/20\n",
      "25/25 [==============================] - 0s 672us/step - loss: 0.4499 - accuracy: 0.8263\n",
      "Epoch 9/20\n",
      "25/25 [==============================] - 0s 687us/step - loss: 0.4093 - accuracy: 0.8400\n",
      "Epoch 10/20\n",
      "25/25 [==============================] - 0s 661us/step - loss: 0.3585 - accuracy: 0.8712\n",
      "Epoch 11/20\n",
      "25/25 [==============================] - 0s 1ms/step - loss: 0.3330 - accuracy: 0.8813\n",
      "Epoch 12/20\n",
      "25/25 [==============================] - 0s 919us/step - loss: 0.2184 - accuracy: 0.9488\n",
      "Epoch 13/20\n",
      "25/25 [==============================] - 0s 832us/step - loss: 0.1623 - accuracy: 0.9737\n",
      "Epoch 14/20\n",
      "25/25 [==============================] - 0s 793us/step - loss: 0.1150 - accuracy: 0.9912\n",
      "Epoch 15/20\n",
      "25/25 [==============================] - 0s 810us/step - loss: 0.0943 - accuracy: 0.9950\n",
      "Epoch 16/20\n",
      "25/25 [==============================] - 0s 713us/step - loss: 0.0786 - accuracy: 0.9975\n",
      "Epoch 17/20\n",
      "25/25 [==============================] - 0s 717us/step - loss: 0.0704 - accuracy: 0.9937\n",
      "Epoch 18/20\n",
      "25/25 [==============================] - 0s 753us/step - loss: 0.0624 - accuracy: 0.9950\n",
      "Epoch 19/20\n",
      "25/25 [==============================] - 0s 980us/step - loss: 0.0641 - accuracy: 0.9912\n",
      "Epoch 20/20\n",
      "25/25 [==============================] - 0s 906us/step - loss: 0.0527 - accuracy: 0.9925\n"
     ]
    },
    {
     "data": {
      "text/plain": [
       "<keras.src.callbacks.History at 0x18e59570b10>"
      ]
     },
     "execution_count": 14,
     "metadata": {},
     "output_type": "execute_result"
    }
   ],
   "source": [
    "# Let's build a model\n",
    "\n",
    "# Set random seed\n",
    "tf.random.set_seed(42)\n",
    "\n",
    "# 1. Create a model using Sequential API\n",
    "model = tf.keras.Sequential([\n",
    "    tf.keras.layers.Dense(4, activation=\"relu\"),\n",
    "    tf.keras.layers.Dense(4, activation=\"relu\"),\n",
    "    tf.keras.layers.Dense(1, activation=\"sigmoid\")\n",
    "])\n",
    "\n",
    "# 2. Compile the model\n",
    "model.compile(loss=\"binary_crossentropy\",\n",
    "              optimizer=tf.keras.optimizers.Adam(learning_rate=0.02),\n",
    "              metrics=['accuracy'])\n",
    "\n",
    "# 3. Fit the model\n",
    "model.fit(X_train, y_train, epochs=20, verbose=1)"
   ]
  },
  {
   "cell_type": "code",
   "execution_count": 15,
   "metadata": {},
   "outputs": [
    {
     "name": "stdout",
     "output_type": "stream",
     "text": [
      "7/7 [==============================] - 0s 1ms/step - loss: 0.0565 - accuracy: 0.9900\n",
      "The loss on test set: 0.05653473734855652\n",
      "Model accuracy on test set: 99.00%\n"
     ]
    }
   ],
   "source": [
    "# Let's evaluate the model\n",
    "loss, accuracy = model.evaluate(X_test, y_test)\n",
    "print(f\"The loss on test set: {loss}\")\n",
    "print(f\"Model accuracy on test set: {(accuracy*100):.2f}%\")"
   ]
  },
  {
   "cell_type": "code",
   "execution_count": null,
   "metadata": {},
   "outputs": [],
   "source": [
    "# Create a confusion matrix\n",
    "from sklearn.metrics import confusion_matrix\n",
    "\n",
    "# Make predictions\n",
    "y_preds = model.predict(X_test)\n",
    "\n",
    "# Create a confusion matrix\n",
    "confusion_matrix(y_test, y_preds)\n",
    "\n",
    "   # The above code will result in a error"
   ]
  },
  {
   "cell_type": "code",
   "execution_count": null,
   "metadata": {},
   "outputs": [
    {
     "name": "stdout",
     "output_type": "stream",
     "text": [
      "7/7 [==============================] - 0s 1ms/step\n"
     ]
    },
    {
     "data": {
      "text/plain": [
       "array([[0.97459275],\n",
       "       [0.97459275],\n",
       "       [0.97459275],\n",
       "       [0.97459275],\n",
       "       [0.04907397],\n",
       "       [0.00285016],\n",
       "       [0.93040955],\n",
       "       [0.00097606],\n",
       "       [0.97459275],\n",
       "       [0.02157443]], dtype=float32)"
      ]
     },
     "execution_count": 9,
     "metadata": {},
     "output_type": "execute_result"
    }
   ],
   "source": [
    "y_preds = model.predict(X_test)\n",
    "y_preds[:10]"
   ]
  },
  {
   "cell_type": "code",
   "execution_count": 17,
   "metadata": {},
   "outputs": [
    {
     "data": {
      "text/plain": [
       "array([1, 1, 1, 1, 0, 0, 1, 0, 1, 0], dtype=int64)"
      ]
     },
     "execution_count": 17,
     "metadata": {},
     "output_type": "execute_result"
    }
   ],
   "source": [
    "# View the first 10 labels\n",
    "y_test[:10]"
   ]
  },
  {
   "cell_type": "code",
   "execution_count": 18,
   "metadata": {},
   "outputs": [
    {
     "data": {
      "text/plain": [
       "<tf.Tensor: shape=(10, 1), dtype=float32, numpy=\n",
       "array([[1.],\n",
       "       [1.],\n",
       "       [1.],\n",
       "       [1.],\n",
       "       [1.],\n",
       "       [0.],\n",
       "       [1.],\n",
       "       [0.],\n",
       "       [1.],\n",
       "       [0.]], dtype=float32)>"
      ]
     },
     "execution_count": 18,
     "metadata": {},
     "output_type": "execute_result"
    }
   ],
   "source": [
    "# Convert prediction probabilities to binary format and view the first 10\n",
    "tf.round(y_preds)[:10]"
   ]
  },
  {
   "cell_type": "markdown",
   "metadata": {},
   "source": [
    "Wonderful! now we can use confusion_matrix function"
   ]
  },
  {
   "cell_type": "code",
   "execution_count": 19,
   "metadata": {},
   "outputs": [
    {
     "data": {
      "text/plain": [
       "array([[99,  2],\n",
       "       [ 0, 99]], dtype=int64)"
      ]
     },
     "execution_count": 19,
     "metadata": {},
     "output_type": "execute_result"
    }
   ],
   "source": [
    "from sklearn.metrics import confusion_matrix\n",
    "\n",
    "# Create a confusion matrix\n",
    "confusion_matrix(y_test, tf.round(y_preds))"
   ]
  },
  {
   "cell_type": "markdown",
   "metadata": {},
   "source": [
    "Alright, we can see the highest numbers are down the diagonal(from top left to bottom right) so this is a good sign, but the rest of the matrix doesn't really tell us much.\n",
    "\n",
    "How about we make a function to make our confusion matrix a little more visual?"
   ]
  },
  {
   "cell_type": "code",
   "execution_count": 20,
   "metadata": {},
   "outputs": [
    {
     "data": {
      "image/png": "[encoded data removed]",
      "text/plain": [
       "<Figure size 1000x1000 with 2 Axes>"
      ]
     },
     "metadata": {},
     "output_type": "display_data"
    }
   ],
   "source": [
    "import itertools\n",
    "\n",
    "figsize = (10,10)\n",
    "\n",
    "# Create a confusion matrix\n",
    "cm = confusion_matrix(y_test, tf.round(y_preds))\n",
    "cm_norm = cm.astype(\"float\") / cm.sum(axis=1)[:, np.newaxis] # normalize it \n",
    "n_classes = cm.shape[0]\n",
    "\n",
    "# Let's prettify it\n",
    "fig, ax = plt.subplots(figsize=figsize)\n",
    "# Create a matrix plot\n",
    "cax = ax.matshow(cm, cmap=plt.cm.Blues)\n",
    "fig.colorbar(cax)\n",
    "\n",
    "# Create classes\n",
    "classes = False\n",
    "\n",
    "if classes:\n",
    "    labels=classes\n",
    "else:\n",
    "    labels=np.arange(cm.shape[0])\n",
    "    \n",
    "# Label the axes\n",
    "ax.set(title=\"Confusion Matrix\",\n",
    "       xlabel=\"Predicted Label\",\n",
    "       ylabel=\"True Label\",\n",
    "       xticks=np.arange(n_classes),\n",
    "       yticks=np.arange(n_classes),\n",
    "       xticklabels=labels,\n",
    "       yticklabels=labels)\n",
    "\n",
    "# Set x-axis labels to bottom\n",
    "ax.xaxis.set_label_position(\"bottom\")\n",
    "ax.xaxis.tick_bottom()\n",
    "\n",
    "# Adjust label size\n",
    "ax.xaxis.label.set_size(20)\n",
    "ax.yaxis.label.set_size(20)\n",
    "ax.title.set_size(20)\n",
    "\n",
    "# Set threshold for different colors\n",
    "threshold = (cm.max() + cm.min()) / 2\n",
    "\n",
    "# Plot the text on each cell\n",
    "for i,j in itertools.product(range(cm.shape[0]), range(cm.shape[1])):\n",
    "    plt.text(j,i,f\"{cm[i,j]} ({cm_norm[i,j]*100:.1f}%)\",\n",
    "             horizontalalignment=\"center\",\n",
    "             color=\"white\" if cm[i,j] > threshold else \"black\",\n",
    "             size=15)"
   ]
  },
  {
   "cell_type": "markdown",
   "metadata": {},
   "source": [
    "That looks much better. It seems our model has made almost perfect predictionson the test set except for two faslse positives (top right corner)."
   ]
  },
  {
   "cell_type": "code",
   "execution_count": 21,
   "metadata": {},
   "outputs": [
    {
     "name": "stdout",
     "output_type": "stream",
     "text": [
      "0 0\n",
      "0 1\n",
      "1 0\n",
      "1 1\n"
     ]
    }
   ],
   "source": [
    "# What does itertools.product do? Combine two things into each combination\n",
    "import itertools\n",
    "for i,j in itertools.product(range(cm.shape[0]), range(cm.shape[1])):\n",
    "    print(i,j)"
   ]
  }
 ],
 "metadata": {
  "kernelspec": {
   "display_name": "Python 3",
   "language": "python",
   "name": "python3"
  },
  "language_info": {
   "codemirror_mode": {
    "name": "ipython",
    "version": 3
   },
   "file_extension": ".py",
   "mimetype": "text/x-python",
   "name": "python",
   "nbconvert_exporter": "python",
   "pygments_lexer": "ipython3",
   "version": "3.11.3"
  },
  "orig_nbformat": 4
 },
 "nbformat": 4,
 "nbformat_minor": 2
}
