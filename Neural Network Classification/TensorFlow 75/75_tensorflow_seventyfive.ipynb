{
 "cells": [
  {
   "cell_type": "markdown",
   "metadata": {},
   "source": [
    "## Evaluating and Improving our classification model"
   ]
  },
  {
   "cell_type": "markdown",
   "metadata": {},
   "source": [
    "If you answered the question previously, you might have picked up what we have been doing wrong\n",
    "\n",
    "We have been evaluating our model on the same data it was trained on.\n",
    "\n",
    "A better approach would be to split our data into training, validation(optional) and test sets.\n",
    "\n",
    "Once we have done that, we will train our model on the training set (let it find patterns in the data) and then see how well it learned the patterns by using it to predict values on the test set.\n",
    "\n",
    "Let's do it."
   ]
  },
  {
   "cell_type": "code",
   "execution_count": 1,
   "metadata": {},
   "outputs": [],
   "source": [
    "# Necessary imports \n",
    "import tensorflow as tf\n",
    "import numpy as np\n",
    "import pandas as pd\n",
    "import matplotlib.pyplot as plt"
   ]
  },
  {
   "cell_type": "code",
   "execution_count": 2,
   "metadata": {},
   "outputs": [],
   "source": [
    "# Let's create a classification dataset\n",
    "from sklearn.datasets import make_circles\n",
    "\n",
    "# Set samples to 1000\n",
    "n_samples = 1000\n",
    "\n",
    "# Features and Labels\n",
    "X,y = make_circles(n_samples,\n",
    "                   noise=0.03,\n",
    "                   random_state=42)"
   ]
  },
  {
   "cell_type": "code",
   "execution_count": 3,
   "metadata": {},
   "outputs": [
    {
     "data": {
      "text/plain": [
       "1000"
      ]
     },
     "execution_count": 3,
     "metadata": {},
     "output_type": "execute_result"
    }
   ],
   "source": [
    "# How many examples are there in the whole dataset?\n",
    "len(X)"
   ]
  },
  {
   "cell_type": "code",
   "execution_count": 4,
   "metadata": {},
   "outputs": [],
   "source": [
    "# Split the data into training and testing data\n",
    "\n",
    "X_train, y_train = X[:800], y[:800] # 80% of the data for the training set\n",
    "X_test, y_test = X[800:], y[800:] # 20% of the data for the test set"
   ]
  },
  {
   "cell_type": "code",
   "execution_count": 5,
   "metadata": {},
   "outputs": [
    {
     "data": {
      "text/plain": [
       "((800, 2), (200, 2))"
      ]
     },
     "execution_count": 5,
     "metadata": {},
     "output_type": "execute_result"
    }
   ],
   "source": [
    "# Check the shape of our data\n",
    "X_train.shape, X_test.shape # 800 examples in the training set, 200 examples in the test set"
   ]
  },
  {
   "cell_type": "markdown",
   "metadata": {},
   "source": [
    "Great, now we have got training and test sets, let's model the training data and evaluate what our model has learned on test set."
   ]
  },
  {
   "cell_type": "code",
   "execution_count": 6,
   "metadata": {},
   "outputs": [
    {
     "name": "stdout",
     "output_type": "stream",
     "text": [
      "Epoch 1/100\n",
      "25/25 [==============================] - 0s 812us/step - loss: 0.6960 - accuracy: 0.4863\n",
      "Epoch 2/100\n",
      "25/25 [==============================] - 0s 889us/step - loss: 0.6900 - accuracy: 0.5250\n",
      "Epoch 3/100\n",
      "25/25 [==============================] - 0s 792us/step - loss: 0.6846 - accuracy: 0.5375\n",
      "Epoch 4/100\n",
      "25/25 [==============================] - 0s 743us/step - loss: 0.6776 - accuracy: 0.5750\n",
      "Epoch 5/100\n",
      "25/25 [==============================] - 0s 741us/step - loss: 0.6699 - accuracy: 0.6087\n",
      "Epoch 6/100\n",
      "25/25 [==============================] - 0s 724us/step - loss: 0.6582 - accuracy: 0.5738\n",
      "Epoch 7/100\n",
      "25/25 [==============================] - 0s 754us/step - loss: 0.6435 - accuracy: 0.6562\n",
      "Epoch 8/100\n",
      "25/25 [==============================] - 0s 718us/step - loss: 0.6261 - accuracy: 0.7275\n",
      "Epoch 9/100\n",
      "25/25 [==============================] - 0s 678us/step - loss: 0.5995 - accuracy: 0.7325\n",
      "Epoch 10/100\n",
      "25/25 [==============================] - 0s 696us/step - loss: 0.5617 - accuracy: 0.7912\n",
      "Epoch 11/100\n",
      "25/25 [==============================] - 0s 696us/step - loss: 0.5205 - accuracy: 0.7950\n",
      "Epoch 12/100\n",
      "25/25 [==============================] - 0s 746us/step - loss: 0.4840 - accuracy: 0.8163\n",
      "Epoch 13/100\n",
      "25/25 [==============================] - 0s 711us/step - loss: 0.4480 - accuracy: 0.8075\n",
      "Epoch 14/100\n",
      "25/25 [==============================] - 0s 675us/step - loss: 0.4156 - accuracy: 0.8388\n",
      "Epoch 15/100\n",
      "25/25 [==============================] - 0s 797us/step - loss: 0.3961 - accuracy: 0.8487\n",
      "Epoch 16/100\n",
      "25/25 [==============================] - 0s 736us/step - loss: 0.3645 - accuracy: 0.8475\n",
      "Epoch 17/100\n",
      "25/25 [==============================] - 0s 762us/step - loss: 0.3373 - accuracy: 0.8725\n",
      "Epoch 18/100\n",
      "25/25 [==============================] - 0s 682us/step - loss: 0.3286 - accuracy: 0.8687\n",
      "Epoch 19/100\n",
      "25/25 [==============================] - 0s 699us/step - loss: 0.3089 - accuracy: 0.8850\n",
      "Epoch 20/100\n",
      "25/25 [==============================] - 0s 843us/step - loss: 0.3009 - accuracy: 0.8737\n",
      "Epoch 21/100\n",
      "25/25 [==============================] - 0s 707us/step - loss: 0.2699 - accuracy: 0.8888\n",
      "Epoch 22/100\n",
      "25/25 [==============================] - 0s 667us/step - loss: 0.2636 - accuracy: 0.8913\n",
      "Epoch 23/100\n",
      "25/25 [==============================] - 0s 643us/step - loss: 0.2479 - accuracy: 0.9125\n",
      "Epoch 24/100\n",
      "25/25 [==============================] - 0s 711us/step - loss: 0.2439 - accuracy: 0.9125\n",
      "Epoch 25/100\n",
      "25/25 [==============================] - 0s 714us/step - loss: 0.2373 - accuracy: 0.9112\n",
      "Epoch 26/100\n",
      "25/25 [==============================] - 0s 679us/step - loss: 0.2272 - accuracy: 0.9075\n",
      "Epoch 27/100\n",
      "25/25 [==============================] - 0s 679us/step - loss: 0.2165 - accuracy: 0.9225\n",
      "Epoch 28/100\n",
      "25/25 [==============================] - 0s 750us/step - loss: 0.2227 - accuracy: 0.9112\n",
      "Epoch 29/100\n",
      "25/25 [==============================] - 0s 708us/step - loss: 0.2032 - accuracy: 0.9287\n",
      "Epoch 30/100\n",
      "25/25 [==============================] - 0s 708us/step - loss: 0.1966 - accuracy: 0.9300\n",
      "Epoch 31/100\n",
      "25/25 [==============================] - 0s 708us/step - loss: 0.1900 - accuracy: 0.9325\n",
      "Epoch 32/100\n",
      "25/25 [==============================] - 0s 664us/step - loss: 0.1847 - accuracy: 0.9312\n",
      "Epoch 33/100\n",
      "25/25 [==============================] - 0s 712us/step - loss: 0.1740 - accuracy: 0.9413\n",
      "Epoch 34/100\n",
      "25/25 [==============================] - 0s 711us/step - loss: 0.1666 - accuracy: 0.9450\n",
      "Epoch 35/100\n",
      "25/25 [==============================] - 0s 674us/step - loss: 0.1628 - accuracy: 0.9538\n",
      "Epoch 36/100\n",
      "25/25 [==============================] - 0s 679us/step - loss: 0.1700 - accuracy: 0.9425\n",
      "Epoch 37/100\n",
      "25/25 [==============================] - 0s 667us/step - loss: 0.1617 - accuracy: 0.9538\n",
      "Epoch 38/100\n",
      "25/25 [==============================] - 0s 720us/step - loss: 0.1617 - accuracy: 0.9500\n",
      "Epoch 39/100\n",
      "25/25 [==============================] - 0s 716us/step - loss: 0.1525 - accuracy: 0.9550\n",
      "Epoch 40/100\n",
      "25/25 [==============================] - 0s 712us/step - loss: 0.1518 - accuracy: 0.9538\n",
      "Epoch 41/100\n",
      "25/25 [==============================] - 0s 682us/step - loss: 0.1370 - accuracy: 0.9688\n",
      "Epoch 42/100\n",
      "25/25 [==============================] - 0s 668us/step - loss: 0.1420 - accuracy: 0.9650\n",
      "Epoch 43/100\n",
      "25/25 [==============================] - 0s 727us/step - loss: 0.1270 - accuracy: 0.9750\n",
      "Epoch 44/100\n",
      "25/25 [==============================] - 0s 708us/step - loss: 0.1394 - accuracy: 0.9600\n",
      "Epoch 45/100\n",
      "25/25 [==============================] - 0s 1ms/step - loss: 0.1251 - accuracy: 0.9700\n",
      "Epoch 46/100\n",
      "25/25 [==============================] - 0s 905us/step - loss: 0.1188 - accuracy: 0.9775\n",
      "Epoch 47/100\n",
      "25/25 [==============================] - 0s 750us/step - loss: 0.1177 - accuracy: 0.9762\n",
      "Epoch 48/100\n",
      "25/25 [==============================] - 0s 811us/step - loss: 0.1190 - accuracy: 0.9712\n",
      "Epoch 49/100\n",
      "25/25 [==============================] - 0s 668us/step - loss: 0.1241 - accuracy: 0.9638\n",
      "Epoch 50/100\n",
      "25/25 [==============================] - 0s 752us/step - loss: 0.1049 - accuracy: 0.9837\n",
      "Epoch 51/100\n",
      "25/25 [==============================] - 0s 684us/step - loss: 0.1046 - accuracy: 0.9800\n",
      "Epoch 52/100\n",
      "25/25 [==============================] - 0s 689us/step - loss: 0.1111 - accuracy: 0.9700\n",
      "Epoch 53/100\n",
      "25/25 [==============================] - 0s 755us/step - loss: 0.1022 - accuracy: 0.9850\n",
      "Epoch 54/100\n",
      "25/25 [==============================] - 0s 712us/step - loss: 0.0996 - accuracy: 0.9837\n",
      "Epoch 55/100\n",
      "25/25 [==============================] - 0s 684us/step - loss: 0.0995 - accuracy: 0.9800\n",
      "Epoch 56/100\n",
      "25/25 [==============================] - 0s 667us/step - loss: 0.0963 - accuracy: 0.9825\n",
      "Epoch 57/100\n",
      "25/25 [==============================] - 0s 708us/step - loss: 0.0908 - accuracy: 0.9837\n",
      "Epoch 58/100\n",
      "25/25 [==============================] - 0s 719us/step - loss: 0.0844 - accuracy: 0.9862\n",
      "Epoch 59/100\n",
      "25/25 [==============================] - 0s 670us/step - loss: 0.0819 - accuracy: 0.9900\n",
      "Epoch 60/100\n",
      "25/25 [==============================] - 0s 644us/step - loss: 0.0835 - accuracy: 0.9887\n",
      "Epoch 61/100\n",
      "25/25 [==============================] - 0s 667us/step - loss: 0.0847 - accuracy: 0.9837\n",
      "Epoch 62/100\n",
      "25/25 [==============================] - 0s 716us/step - loss: 0.0906 - accuracy: 0.9775\n",
      "Epoch 63/100\n",
      "25/25 [==============================] - 0s 758us/step - loss: 0.0905 - accuracy: 0.9825\n",
      "Epoch 64/100\n",
      "25/25 [==============================] - 0s 712us/step - loss: 0.0779 - accuracy: 0.9875\n",
      "Epoch 65/100\n",
      "25/25 [==============================] - 0s 770us/step - loss: 0.0759 - accuracy: 0.9887\n",
      "Epoch 66/100\n",
      "25/25 [==============================] - 0s 743us/step - loss: 0.0740 - accuracy: 0.9862\n",
      "Epoch 67/100\n",
      "25/25 [==============================] - 0s 717us/step - loss: 0.0741 - accuracy: 0.9900\n",
      "Epoch 68/100\n",
      "25/25 [==============================] - 0s 717us/step - loss: 0.0707 - accuracy: 0.9862\n",
      "Epoch 69/100\n",
      "25/25 [==============================] - 0s 712us/step - loss: 0.0729 - accuracy: 0.9862\n",
      "Epoch 70/100\n",
      "25/25 [==============================] - 0s 755us/step - loss: 0.0756 - accuracy: 0.9825\n",
      "Epoch 71/100\n",
      "25/25 [==============================] - 0s 687us/step - loss: 0.0866 - accuracy: 0.9825\n",
      "Epoch 72/100\n",
      "25/25 [==============================] - 0s 670us/step - loss: 0.0772 - accuracy: 0.9837\n",
      "Epoch 73/100\n",
      "25/25 [==============================] - 0s 708us/step - loss: 0.0689 - accuracy: 0.9837\n",
      "Epoch 74/100\n",
      "25/25 [==============================] - 0s 720us/step - loss: 0.0762 - accuracy: 0.9837\n",
      "Epoch 75/100\n",
      "25/25 [==============================] - 0s 715us/step - loss: 0.0699 - accuracy: 0.9862\n",
      "Epoch 76/100\n",
      "25/25 [==============================] - 0s 708us/step - loss: 0.0643 - accuracy: 0.9887\n",
      "Epoch 77/100\n",
      "25/25 [==============================] - 0s 709us/step - loss: 0.0654 - accuracy: 0.9862\n",
      "Epoch 78/100\n",
      "25/25 [==============================] - 0s 716us/step - loss: 0.0652 - accuracy: 0.9825\n",
      "Epoch 79/100\n",
      "25/25 [==============================] - 0s 667us/step - loss: 0.0650 - accuracy: 0.9837\n",
      "Epoch 80/100\n",
      "25/25 [==============================] - 0s 684us/step - loss: 0.0634 - accuracy: 0.9887\n",
      "Epoch 81/100\n",
      "25/25 [==============================] - 0s 670us/step - loss: 0.0588 - accuracy: 0.9875\n",
      "Epoch 82/100\n",
      "25/25 [==============================] - 0s 711us/step - loss: 0.0645 - accuracy: 0.9850\n",
      "Epoch 83/100\n",
      "25/25 [==============================] - 0s 667us/step - loss: 0.0582 - accuracy: 0.9887\n",
      "Epoch 84/100\n",
      "25/25 [==============================] - 0s 750us/step - loss: 0.0569 - accuracy: 0.9887\n",
      "Epoch 85/100\n",
      "25/25 [==============================] - 0s 711us/step - loss: 0.0586 - accuracy: 0.9875\n",
      "Epoch 86/100\n",
      "25/25 [==============================] - 0s 832us/step - loss: 0.0539 - accuracy: 0.9887\n",
      "Epoch 87/100\n",
      "25/25 [==============================] - 0s 669us/step - loss: 0.0549 - accuracy: 0.9887\n",
      "Epoch 88/100\n",
      "25/25 [==============================] - 0s 715us/step - loss: 0.0578 - accuracy: 0.9862\n",
      "Epoch 89/100\n",
      "25/25 [==============================] - 0s 681us/step - loss: 0.0573 - accuracy: 0.9837\n",
      "Epoch 90/100\n",
      "25/25 [==============================] - 0s 708us/step - loss: 0.0530 - accuracy: 0.9900\n",
      "Epoch 91/100\n",
      "25/25 [==============================] - 0s 713us/step - loss: 0.0680 - accuracy: 0.9850\n",
      "Epoch 92/100\n",
      "25/25 [==============================] - 0s 681us/step - loss: 0.0854 - accuracy: 0.9712\n",
      "Epoch 93/100\n",
      "25/25 [==============================] - 0s 714us/step - loss: 0.0592 - accuracy: 0.9887\n",
      "Epoch 94/100\n",
      "25/25 [==============================] - 0s 676us/step - loss: 0.0521 - accuracy: 0.9912\n",
      "Epoch 95/100\n",
      "25/25 [==============================] - 0s 672us/step - loss: 0.0558 - accuracy: 0.9862\n",
      "Epoch 96/100\n",
      "25/25 [==============================] - 0s 710us/step - loss: 0.0544 - accuracy: 0.9875\n",
      "Epoch 97/100\n",
      "25/25 [==============================] - 0s 718us/step - loss: 0.0758 - accuracy: 0.9762\n",
      "Epoch 98/100\n",
      "25/25 [==============================] - 0s 685us/step - loss: 0.0566 - accuracy: 0.9887\n",
      "Epoch 99/100\n",
      "25/25 [==============================] - 0s 685us/step - loss: 0.0598 - accuracy: 0.9850\n",
      "Epoch 100/100\n",
      "25/25 [==============================] - 0s 708us/step - loss: 0.0614 - accuracy: 0.9862\n"
     ]
    }
   ],
   "source": [
    "# Let's build a model\n",
    "\n",
    "# Set random seed\n",
    "tf.random.set_seed(42)\n",
    "\n",
    "# 1. Create a model\n",
    "model = tf.keras.Sequential([\n",
    "    tf.keras.layers.Dense(4, activation=\"relu\"), # Hidden layer 1 using relu activation function\n",
    "    tf.keras.layers.Dense(4, activation=\"relu\"),\n",
    "    tf.keras.layers.Dense(1, activation=\"sigmoid\") # Output layer, using sigmoid for the activation function\n",
    "])\n",
    "\n",
    "# 2. Compile the model\n",
    "model.compile(loss=tf.keras.losses.binary_crossentropy,\n",
    "              optimizer=tf.keras.optimizers.Adam(learning_rate=0.01),\n",
    "              metrics=['accuracy'])\n",
    "\n",
    "# 3. Fit the model\n",
    "history = model.fit(X_train, y_train, epochs=100, verbose=1)"
   ]
  },
  {
   "cell_type": "code",
   "execution_count": 7,
   "metadata": {},
   "outputs": [
    {
     "name": "stdout",
     "output_type": "stream",
     "text": [
      "7/7 [==============================] - 0s 0s/step - loss: 0.0492 - accuracy: 0.9900\n",
      "Model loss on the test set: 0.04918625205755234\n",
      "Model accuracy on the test set: 99.00%\n"
     ]
    }
   ],
   "source": [
    "# Evaluate our model on the test set\n",
    "loss, accuracy = model.evaluate(X_test, y_test)\n",
    "print(f\"Model loss on the test set: {loss}\")\n",
    "print(f\"Model accuracy on the test set: {100*accuracy:.2f}%\")"
   ]
  },
  {
   "cell_type": "markdown",
   "metadata": {},
   "source": [
    "99% Accuracy? Nice!"
   ]
  }
 ],
 "metadata": {
  "kernelspec": {
   "display_name": "Python 3",
   "language": "python",
   "name": "python3"
  },
  "language_info": {
   "codemirror_mode": {
    "name": "ipython",
    "version": 3
   },
   "file_extension": ".py",
   "mimetype": "text/x-python",
   "name": "python",
   "nbconvert_exporter": "python",
   "pygments_lexer": "ipython3",
   "version": "3.11.3"
  },
  "orig_nbformat": 4
 },
 "nbformat": 4,
 "nbformat_minor": 2
}
