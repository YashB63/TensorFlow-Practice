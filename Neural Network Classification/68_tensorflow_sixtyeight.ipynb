{
 "cells": [
  {
   "cell_type": "code",
   "execution_count": 1,
   "metadata": {},
   "outputs": [],
   "source": [
    "import tensorflow as tf\n",
    "import pandas as pd\n",
    "import matplotlib.pyplot as plt"
   ]
  },
  {
   "cell_type": "code",
   "execution_count": 2,
   "metadata": {},
   "outputs": [
    {
     "data": {
      "text/plain": [
       "<tf.Tensor: shape=(200,), dtype=int32, numpy=\n",
       "array([  0,   5,  10,  15,  20,  25,  30,  35,  40,  45,  50,  55,  60,\n",
       "        65,  70,  75,  80,  85,  90,  95, 100, 105, 110, 115, 120, 125,\n",
       "       130, 135, 140, 145, 150, 155, 160, 165, 170, 175, 180, 185, 190,\n",
       "       195, 200, 205, 210, 215, 220, 225, 230, 235, 240, 245, 250, 255,\n",
       "       260, 265, 270, 275, 280, 285, 290, 295, 300, 305, 310, 315, 320,\n",
       "       325, 330, 335, 340, 345, 350, 355, 360, 365, 370, 375, 380, 385,\n",
       "       390, 395, 400, 405, 410, 415, 420, 425, 430, 435, 440, 445, 450,\n",
       "       455, 460, 465, 470, 475, 480, 485, 490, 495, 500, 505, 510, 515,\n",
       "       520, 525, 530, 535, 540, 545, 550, 555, 560, 565, 570, 575, 580,\n",
       "       585, 590, 595, 600, 605, 610, 615, 620, 625, 630, 635, 640, 645,\n",
       "       650, 655, 660, 665, 670, 675, 680, 685, 690, 695, 700, 705, 710,\n",
       "       715, 720, 725, 730, 735, 740, 745, 750, 755, 760, 765, 770, 775,\n",
       "       780, 785, 790, 795, 800, 805, 810, 815, 820, 825, 830, 835, 840,\n",
       "       845, 850, 855, 860, 865, 870, 875, 880, 885, 890, 895, 900, 905,\n",
       "       910, 915, 920, 925, 930, 935, 940, 945, 950, 955, 960, 965, 970,\n",
       "       975, 980, 985, 990, 995])>"
      ]
     },
     "execution_count": 2,
     "metadata": {},
     "output_type": "execute_result"
    }
   ],
   "source": [
    "# Let's create a regression dataset for our problem\n",
    "X_reg = tf.range(0, 1000, 5)\n",
    "X_reg"
   ]
  },
  {
   "cell_type": "code",
   "execution_count": 3,
   "metadata": {},
   "outputs": [
    {
     "data": {
      "text/plain": [
       "<tf.Tensor: shape=(200,), dtype=int32, numpy=\n",
       "array([ 100,  105,  110,  115,  120,  125,  130,  135,  140,  145,  150,\n",
       "        155,  160,  165,  170,  175,  180,  185,  190,  195,  200,  205,\n",
       "        210,  215,  220,  225,  230,  235,  240,  245,  250,  255,  260,\n",
       "        265,  270,  275,  280,  285,  290,  295,  300,  305,  310,  315,\n",
       "        320,  325,  330,  335,  340,  345,  350,  355,  360,  365,  370,\n",
       "        375,  380,  385,  390,  395,  400,  405,  410,  415,  420,  425,\n",
       "        430,  435,  440,  445,  450,  455,  460,  465,  470,  475,  480,\n",
       "        485,  490,  495,  500,  505,  510,  515,  520,  525,  530,  535,\n",
       "        540,  545,  550,  555,  560,  565,  570,  575,  580,  585,  590,\n",
       "        595,  600,  605,  610,  615,  620,  625,  630,  635,  640,  645,\n",
       "        650,  655,  660,  665,  670,  675,  680,  685,  690,  695,  700,\n",
       "        705,  710,  715,  720,  725,  730,  735,  740,  745,  750,  755,\n",
       "        760,  765,  770,  775,  780,  785,  790,  795,  800,  805,  810,\n",
       "        815,  820,  825,  830,  835,  840,  845,  850,  855,  860,  865,\n",
       "        870,  875,  880,  885,  890,  895,  900,  905,  910,  915,  920,\n",
       "        925,  930,  935,  940,  945,  950,  955,  960,  965,  970,  975,\n",
       "        980,  985,  990,  995, 1000, 1005, 1010, 1015, 1020, 1025, 1030,\n",
       "       1035, 1040, 1045, 1050, 1055, 1060, 1065, 1070, 1075, 1080, 1085,\n",
       "       1090, 1095])>"
      ]
     },
     "execution_count": 3,
     "metadata": {},
     "output_type": "execute_result"
    }
   ],
   "source": [
    "y_reg = X_reg + 100\n",
    "y_reg"
   ]
  },
  {
   "cell_type": "code",
   "execution_count": null,
   "metadata": {},
   "outputs": [],
   "source": [
    "len(X_reg), len(y_reg)"
   ]
  },
  {
   "cell_type": "code",
   "execution_count": 4,
   "metadata": {},
   "outputs": [],
   "source": [
    "# Split the data iinto training and testing data\n",
    "X_reg_train = X_reg[:150]\n",
    "X_reg_test = X_reg[150:]\n",
    "y_reg_train = y_reg[:150]\n",
    "y_reg_test = y_reg[150:]"
   ]
  },
  {
   "cell_type": "code",
   "execution_count": 9,
   "metadata": {},
   "outputs": [
    {
     "name": "stdout",
     "output_type": "stream",
     "text": [
      "Epoch 1/100\n",
      "5/5 [==============================] - 0s 2ms/step - loss: 453.4446 - mae: 453.4446\n",
      "Epoch 2/100\n",
      "5/5 [==============================] - 0s 1ms/step - loss: 320.2205 - mae: 320.2205\n",
      "Epoch 3/100\n",
      "5/5 [==============================] - 0s 1ms/step - loss: 191.2386 - mae: 191.2386\n",
      "Epoch 4/100\n",
      "5/5 [==============================] - 0s 1ms/step - loss: 64.0293 - mae: 64.0293\n",
      "Epoch 5/100\n",
      "5/5 [==============================] - 0s 1ms/step - loss: 81.4613 - mae: 81.4613\n",
      "Epoch 6/100\n",
      "5/5 [==============================] - 0s 1ms/step - loss: 93.3830 - mae: 93.3830\n",
      "Epoch 7/100\n",
      "5/5 [==============================] - 0s 1ms/step - loss: 57.4754 - mae: 57.4754\n",
      "Epoch 8/100\n",
      "5/5 [==============================] - 0s 1ms/step - loss: 50.6911 - mae: 50.6911\n",
      "Epoch 9/100\n",
      "5/5 [==============================] - 0s 1ms/step - loss: 48.2152 - mae: 48.2152\n",
      "Epoch 10/100\n",
      "5/5 [==============================] - 0s 1ms/step - loss: 45.3039 - mae: 45.3039\n",
      "Epoch 11/100\n",
      "5/5 [==============================] - 0s 1ms/step - loss: 46.4816 - mae: 46.4816\n",
      "Epoch 12/100\n",
      "5/5 [==============================] - 0s 1ms/step - loss: 42.4745 - mae: 42.4745\n",
      "Epoch 13/100\n",
      "5/5 [==============================] - 0s 1ms/step - loss: 42.3112 - mae: 42.3112\n",
      "Epoch 14/100\n",
      "5/5 [==============================] - 0s 1ms/step - loss: 41.6173 - mae: 41.6173\n",
      "Epoch 15/100\n",
      "5/5 [==============================] - 0s 1ms/step - loss: 41.9220 - mae: 41.9220\n",
      "Epoch 16/100\n",
      "5/5 [==============================] - 0s 1ms/step - loss: 41.6485 - mae: 41.6485\n",
      "Epoch 17/100\n",
      "5/5 [==============================] - 0s 1ms/step - loss: 41.8223 - mae: 41.8223\n",
      "Epoch 18/100\n",
      "5/5 [==============================] - 0s 1ms/step - loss: 41.2040 - mae: 41.2040\n",
      "Epoch 19/100\n",
      "5/5 [==============================] - 0s 1ms/step - loss: 41.2567 - mae: 41.2567\n",
      "Epoch 20/100\n",
      "5/5 [==============================] - 0s 1ms/step - loss: 41.1950 - mae: 41.1950\n",
      "Epoch 21/100\n",
      "5/5 [==============================] - 0s 1ms/step - loss: 41.3020 - mae: 41.3020\n",
      "Epoch 22/100\n",
      "5/5 [==============================] - 0s 909us/step - loss: 41.0984 - mae: 41.0984\n",
      "Epoch 23/100\n",
      "5/5 [==============================] - 0s 1ms/step - loss: 41.2833 - mae: 41.2833\n",
      "Epoch 24/100\n",
      "5/5 [==============================] - 0s 1ms/step - loss: 41.0227 - mae: 41.0227\n",
      "Epoch 25/100\n",
      "5/5 [==============================] - 0s 842us/step - loss: 41.1156 - mae: 41.1156\n",
      "Epoch 26/100\n",
      "5/5 [==============================] - 0s 1ms/step - loss: 41.1838 - mae: 41.1838\n",
      "Epoch 27/100\n",
      "5/5 [==============================] - 0s 1ms/step - loss: 40.9073 - mae: 40.9073\n",
      "Epoch 28/100\n",
      "5/5 [==============================] - 0s 793us/step - loss: 41.2349 - mae: 41.2349\n",
      "Epoch 29/100\n",
      "5/5 [==============================] - 0s 1ms/step - loss: 41.0806 - mae: 41.0806\n",
      "Epoch 30/100\n",
      "5/5 [==============================] - 0s 2ms/step - loss: 40.9406 - mae: 40.9406\n",
      "Epoch 31/100\n",
      "5/5 [==============================] - 0s 2ms/step - loss: 41.4763 - mae: 41.4763\n",
      "Epoch 32/100\n",
      "5/5 [==============================] - 0s 1ms/step - loss: 41.0848 - mae: 41.0848\n",
      "Epoch 33/100\n",
      "5/5 [==============================] - 0s 1ms/step - loss: 41.1557 - mae: 41.1557\n",
      "Epoch 34/100\n",
      "5/5 [==============================] - 0s 1ms/step - loss: 41.3596 - mae: 41.3596\n",
      "Epoch 35/100\n",
      "5/5 [==============================] - 0s 1ms/step - loss: 40.6895 - mae: 40.6895\n",
      "Epoch 36/100\n",
      "5/5 [==============================] - 0s 1ms/step - loss: 41.1800 - mae: 41.1800\n",
      "Epoch 37/100\n",
      "5/5 [==============================] - 0s 1ms/step - loss: 40.7230 - mae: 40.7230\n",
      "Epoch 38/100\n",
      "5/5 [==============================] - 0s 1ms/step - loss: 40.4518 - mae: 40.4518\n",
      "Epoch 39/100\n",
      "5/5 [==============================] - 0s 1ms/step - loss: 40.8380 - mae: 40.8380\n",
      "Epoch 40/100\n",
      "5/5 [==============================] - 0s 1ms/step - loss: 40.5727 - mae: 40.5727\n",
      "Epoch 41/100\n",
      "5/5 [==============================] - 0s 1ms/step - loss: 40.4960 - mae: 40.4960\n",
      "Epoch 42/100\n",
      "5/5 [==============================] - 0s 1ms/step - loss: 40.4230 - mae: 40.4230\n",
      "Epoch 43/100\n",
      "5/5 [==============================] - 0s 1ms/step - loss: 40.6197 - mae: 40.6197\n",
      "Epoch 44/100\n",
      "5/5 [==============================] - 0s 1ms/step - loss: 40.2875 - mae: 40.2875\n",
      "Epoch 45/100\n",
      "5/5 [==============================] - 0s 1ms/step - loss: 40.5678 - mae: 40.5678\n",
      "Epoch 46/100\n",
      "5/5 [==============================] - 0s 1ms/step - loss: 40.6536 - mae: 40.6536\n",
      "Epoch 47/100\n",
      "5/5 [==============================] - 0s 1ms/step - loss: 40.3128 - mae: 40.3128\n",
      "Epoch 48/100\n",
      "5/5 [==============================] - 0s 1ms/step - loss: 40.4156 - mae: 40.4156\n",
      "Epoch 49/100\n",
      "5/5 [==============================] - 0s 1ms/step - loss: 40.8857 - mae: 40.8857\n",
      "Epoch 50/100\n",
      "5/5 [==============================] - 0s 1ms/step - loss: 40.3566 - mae: 40.3566\n",
      "Epoch 51/100\n",
      "5/5 [==============================] - 0s 1ms/step - loss: 40.8711 - mae: 40.8711\n",
      "Epoch 52/100\n",
      "5/5 [==============================] - 0s 2ms/step - loss: 41.3650 - mae: 41.3650\n",
      "Epoch 53/100\n",
      "5/5 [==============================] - 0s 2ms/step - loss: 41.1197 - mae: 41.1197\n",
      "Epoch 54/100\n",
      "5/5 [==============================] - 0s 1ms/step - loss: 41.1943 - mae: 41.1943\n",
      "Epoch 55/100\n",
      "5/5 [==============================] - 0s 1ms/step - loss: 41.4500 - mae: 41.4500\n",
      "Epoch 56/100\n",
      "5/5 [==============================] - 0s 2ms/step - loss: 42.0529 - mae: 42.0529\n",
      "Epoch 57/100\n",
      "5/5 [==============================] - 0s 1ms/step - loss: 40.9343 - mae: 40.9343\n",
      "Epoch 58/100\n",
      "5/5 [==============================] - 0s 1ms/step - loss: 40.3376 - mae: 40.3376\n",
      "Epoch 59/100\n",
      "5/5 [==============================] - 0s 1ms/step - loss: 41.0108 - mae: 41.0108\n",
      "Epoch 60/100\n",
      "5/5 [==============================] - 0s 1ms/step - loss: 40.1580 - mae: 40.1580\n",
      "Epoch 61/100\n",
      "5/5 [==============================] - 0s 802us/step - loss: 39.7991 - mae: 39.7991\n",
      "Epoch 62/100\n",
      "5/5 [==============================] - 0s 1ms/step - loss: 40.8481 - mae: 40.8481\n",
      "Epoch 63/100\n",
      "5/5 [==============================] - 0s 854us/step - loss: 39.8041 - mae: 39.8041\n",
      "Epoch 64/100\n",
      "5/5 [==============================] - 0s 1ms/step - loss: 39.7919 - mae: 39.7919\n",
      "Epoch 65/100\n",
      "5/5 [==============================] - 0s 1ms/step - loss: 40.1268 - mae: 40.1268\n",
      "Epoch 66/100\n",
      "5/5 [==============================] - 0s 1ms/step - loss: 40.2681 - mae: 40.2681\n",
      "Epoch 67/100\n",
      "5/5 [==============================] - 0s 1ms/step - loss: 40.1310 - mae: 40.1310\n",
      "Epoch 68/100\n",
      "5/5 [==============================] - 0s 779us/step - loss: 39.8025 - mae: 39.8025\n",
      "Epoch 69/100\n",
      "5/5 [==============================] - 0s 820us/step - loss: 40.0954 - mae: 40.0954\n",
      "Epoch 70/100\n",
      "5/5 [==============================] - 0s 1ms/step - loss: 40.3589 - mae: 40.3589\n",
      "Epoch 71/100\n",
      "5/5 [==============================] - 0s 769us/step - loss: 41.0943 - mae: 41.0943\n",
      "Epoch 72/100\n",
      "5/5 [==============================] - 0s 1ms/step - loss: 39.2855 - mae: 39.2855\n",
      "Epoch 73/100\n",
      "5/5 [==============================] - 0s 1ms/step - loss: 40.1148 - mae: 40.1148\n",
      "Epoch 74/100\n",
      "5/5 [==============================] - 0s 1ms/step - loss: 39.4682 - mae: 39.4682\n",
      "Epoch 75/100\n",
      "5/5 [==============================] - 0s 853us/step - loss: 40.1442 - mae: 40.1442\n",
      "Epoch 76/100\n",
      "5/5 [==============================] - 0s 1ms/step - loss: 39.8917 - mae: 39.8917\n",
      "Epoch 77/100\n",
      "5/5 [==============================] - 0s 1ms/step - loss: 39.0436 - mae: 39.0436\n",
      "Epoch 78/100\n",
      "5/5 [==============================] - 0s 838us/step - loss: 39.7528 - mae: 39.7528\n",
      "Epoch 79/100\n",
      "5/5 [==============================] - 0s 1ms/step - loss: 39.4584 - mae: 39.4584\n",
      "Epoch 80/100\n",
      "5/5 [==============================] - 0s 883us/step - loss: 38.9245 - mae: 38.9245\n",
      "Epoch 81/100\n",
      "5/5 [==============================] - 0s 1ms/step - loss: 39.3284 - mae: 39.3284\n",
      "Epoch 82/100\n",
      "5/5 [==============================] - 0s 1ms/step - loss: 39.3859 - mae: 39.3859\n",
      "Epoch 83/100\n",
      "5/5 [==============================] - 0s 1ms/step - loss: 39.0509 - mae: 39.0509\n",
      "Epoch 84/100\n",
      "5/5 [==============================] - 0s 840us/step - loss: 39.0591 - mae: 39.0591\n",
      "Epoch 85/100\n",
      "5/5 [==============================] - 0s 1ms/step - loss: 39.0152 - mae: 39.0152\n",
      "Epoch 86/100\n",
      "5/5 [==============================] - 0s 1ms/step - loss: 38.8797 - mae: 38.8797\n",
      "Epoch 87/100\n",
      "5/5 [==============================] - 0s 1ms/step - loss: 38.8399 - mae: 38.8399\n",
      "Epoch 88/100\n",
      "5/5 [==============================] - 0s 1ms/step - loss: 38.8956 - mae: 38.8956\n",
      "Epoch 89/100\n",
      "5/5 [==============================] - 0s 1ms/step - loss: 38.6999 - mae: 38.6999\n",
      "Epoch 90/100\n",
      "5/5 [==============================] - 0s 1ms/step - loss: 38.5954 - mae: 38.5954\n",
      "Epoch 91/100\n",
      "5/5 [==============================] - 0s 1ms/step - loss: 38.5247 - mae: 38.5247\n",
      "Epoch 92/100\n",
      "5/5 [==============================] - 0s 1ms/step - loss: 38.5046 - mae: 38.5046\n",
      "Epoch 93/100\n",
      "5/5 [==============================] - 0s 1ms/step - loss: 39.0968 - mae: 39.0968\n",
      "Epoch 94/100\n",
      "5/5 [==============================] - 0s 1ms/step - loss: 38.6152 - mae: 38.6152\n",
      "Epoch 95/100\n",
      "5/5 [==============================] - 0s 1ms/step - loss: 38.4454 - mae: 38.4454\n",
      "Epoch 96/100\n",
      "5/5 [==============================] - 0s 1ms/step - loss: 38.8628 - mae: 38.8628\n",
      "Epoch 97/100\n",
      "5/5 [==============================] - 0s 1ms/step - loss: 38.4094 - mae: 38.4094\n",
      "Epoch 98/100\n",
      "5/5 [==============================] - 0s 947us/step - loss: 38.7740 - mae: 38.7740\n",
      "Epoch 99/100\n",
      "5/5 [==============================] - 0s 1ms/step - loss: 38.7132 - mae: 38.7132\n",
      "Epoch 100/100\n",
      "5/5 [==============================] - 0s 1ms/step - loss: 38.1210 - mae: 38.1210\n"
     ]
    },
    {
     "data": {
      "text/plain": [
       "<keras.src.callbacks.History at 0x1eb12599810>"
      ]
     },
     "execution_count": 9,
     "metadata": {},
     "output_type": "execute_result"
    }
   ],
   "source": [
    "# Let's build a model\n",
    "\n",
    "# Set random seed\n",
    "tf.random.set_seed(42)\n",
    "\n",
    "# 1. Create a model\n",
    "model = tf.keras.Sequential([\n",
    "    tf.keras.layers.Dense(100),\n",
    "    tf.keras.layers.Dense(10),\n",
    "    tf.keras.layers.Dense(1)\n",
    "])  \n",
    "\n",
    "# 2. Compile the model, this time with a regression specific loss function\n",
    "model.compile(loss=tf.keras.losses.mae,\n",
    "              optimizer=tf.keras.optimizers.Adam(),\n",
    "              metrics=['mae'])\n",
    "\n",
    "# 3. Fit the model\n",
    "model.fit(tf.expand_dims(X_reg_train, axis= -1), y_reg_train, epochs=100)"
   ]
  },
  {
   "cell_type": "code",
   "execution_count": 11,
   "metadata": {},
   "outputs": [
    {
     "name": "stdout",
     "output_type": "stream",
     "text": [
      "2/2 [==============================] - 0s 1ms/step\n"
     ]
    },
    {
     "data": {
      "text/plain": [
       "<matplotlib.legend.Legend at 0x1eb147f40d0>"
      ]
     },
     "execution_count": 11,
     "metadata": {},
     "output_type": "execute_result"
    },
    {
     "data": {
      "image/png": "[encoded data removed]",
      "text/plain": [
       "<Figure size 1400x1000 with 1 Axes>"
      ]
     },
     "metadata": {},
     "output_type": "display_data"
    }
   ],
   "source": [
    "# Make predictions with our trained model\n",
    "y_reg_preds = model.predict(X_reg_test)\n",
    "\n",
    "# Plot the model's predictions against our regression data\n",
    "plt.figure(figsize=(14,10))\n",
    "plt.scatter(X_reg_train, y_reg_train, c=\"orange\", label=\"Training Data\")\n",
    "plt.scatter(X_reg_test, y_reg_test, c=\"cyan\", label=\"Test Data\")\n",
    "plt.scatter(X_reg_test, y_reg_preds, c=\"m\", label=\"Predictions\")\n",
    "plt.legend()"
   ]
  }
 ],
 "metadata": {
  "kernelspec": {
   "display_name": "Python 3",
   "language": "python",
   "name": "python3"
  },
  "language_info": {
   "codemirror_mode": {
    "name": "ipython",
    "version": 3
   },
   "file_extension": ".py",
   "mimetype": "text/x-python",
   "name": "python",
   "nbconvert_exporter": "python",
   "pygments_lexer": "ipython3",
   "version": "3.11.3"
  },
  "orig_nbformat": 4
 },
 "nbformat": 4,
 "nbformat_minor": 2
}
