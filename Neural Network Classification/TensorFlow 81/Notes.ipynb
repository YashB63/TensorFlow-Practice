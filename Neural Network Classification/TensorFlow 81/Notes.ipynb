{
 "cells": [
  {
   "cell_type": "markdown",
   "metadata": {},
   "source": [
    "It looks like we need to get our predictions to binary format (0 or 1).\n",
    "\n",
    "But you might be wondering, what format hey are currently in?\n",
    "\n",
    "In their current format(9.8526357e-01), they are in a form called prediction probabilities.\n",
    "\n",
    "You'll see this often with the outputs of neural networks. Often they won't be exact values but more a probability of how likely they are to be one value or another.\n",
    "\n",
    "So one of the steps you will often see after making predictions with a neural network is converting the prediction probabilities into labels.\n",
    "\n",
    "In our case, since our ground trutth labels (y_test) are binary (0 or 1), we can convert the predicion probabiliies using their binary form tf.round()"
   ]
  }
 ],
 "metadata": {
  "language_info": {
   "name": "python"
  },
  "orig_nbformat": 4
 },
 "nbformat": 4,
 "nbformat_minor": 2
}
