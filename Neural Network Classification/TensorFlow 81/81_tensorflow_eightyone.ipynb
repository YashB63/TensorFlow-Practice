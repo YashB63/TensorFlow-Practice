{
 "cells": [
  {
   "cell_type": "code",
   "execution_count": 1,
   "metadata": {},
   "outputs": [],
   "source": [
    "import tensorflow as tf\n",
    "import numpy as np\n",
    "import pandas as pd\n",
    "import matplotlib.pyplot as plt"
   ]
  },
  {
   "cell_type": "code",
   "execution_count": 2,
   "metadata": {},
   "outputs": [],
   "source": [
    "# Let's create a classification dataset\n",
    "from sklearn.datasets import make_circles\n",
    "\n",
    "# Set n_samples to 1000\n",
    "n_samples = 1000\n",
    "\n",
    "# Feaures and Labels\n",
    "X,y = make_circles(n_samples,\n",
    "                   noise=0.03,\n",
    "                   random_state=42)"
   ]
  },
  {
   "cell_type": "code",
   "execution_count": 3,
   "metadata": {},
   "outputs": [
    {
     "data": {
      "text/plain": [
       "(array([[ 0.75424625,  0.23148074],\n",
       "        [-0.75615888,  0.15325888],\n",
       "        [-0.81539193,  0.17328203],\n",
       "        ...,\n",
       "        [-0.13690036, -0.81001183],\n",
       "        [ 0.67036156, -0.76750154],\n",
       "        [ 0.28105665,  0.96382443]]),\n",
       " array([1, 1, 1, 1, 0, 1, 1, 1, 1, 0], dtype=int64))"
      ]
     },
     "execution_count": 3,
     "metadata": {},
     "output_type": "execute_result"
    }
   ],
   "source": [
    "X, y[:10]"
   ]
  },
  {
   "cell_type": "code",
   "execution_count": 4,
   "metadata": {},
   "outputs": [
    {
     "data": {
      "text/plain": [
       "1000"
      ]
     },
     "execution_count": 4,
     "metadata": {},
     "output_type": "execute_result"
    }
   ],
   "source": [
    "len(X)"
   ]
  },
  {
   "cell_type": "code",
   "execution_count": 5,
   "metadata": {},
   "outputs": [],
   "source": [
    "# Split the datset into training and testing data\n",
    "X_train, y_train = X[:800], y[:800]\n",
    "X_test, y_test = X[800:], y[800:]"
   ]
  },
  {
   "cell_type": "code",
   "execution_count": 6,
   "metadata": {},
   "outputs": [
    {
     "name": "stdout",
     "output_type": "stream",
     "text": [
      "Epoch 1/20\n",
      "25/25 [==============================] - 0s 875us/step - loss: 0.6929 - accuracy: 0.5013\n",
      "Epoch 2/20\n",
      "25/25 [==============================] - 0s 699us/step - loss: 0.6824 - accuracy: 0.5475\n",
      "Epoch 3/20\n",
      "25/25 [==============================] - 0s 708us/step - loss: 0.6678 - accuracy: 0.5675\n",
      "Epoch 4/20\n",
      "25/25 [==============================] - 0s 667us/step - loss: 0.6421 - accuracy: 0.6112\n",
      "Epoch 5/20\n",
      "25/25 [==============================] - 0s 709us/step - loss: 0.5906 - accuracy: 0.7125\n",
      "Epoch 6/20\n",
      "25/25 [==============================] - 0s 792us/step - loss: 0.4984 - accuracy: 0.7912\n",
      "Epoch 7/20\n",
      "25/25 [==============================] - 0s 751us/step - loss: 0.4512 - accuracy: 0.8175\n",
      "Epoch 8/20\n",
      "25/25 [==============================] - 0s 708us/step - loss: 0.4052 - accuracy: 0.8363\n",
      "Epoch 9/20\n",
      "25/25 [==============================] - 0s 708us/step - loss: 0.3536 - accuracy: 0.8875\n",
      "Epoch 10/20\n",
      "25/25 [==============================] - 0s 750us/step - loss: 0.2955 - accuracy: 0.9400\n",
      "Epoch 11/20\n",
      "25/25 [==============================] - 0s 750us/step - loss: 0.2731 - accuracy: 0.9300\n",
      "Epoch 12/20\n",
      "25/25 [==============================] - 0s 753us/step - loss: 0.2450 - accuracy: 0.9362\n",
      "Epoch 13/20\n",
      "25/25 [==============================] - 0s 708us/step - loss: 0.2279 - accuracy: 0.9275\n",
      "Epoch 14/20\n",
      "25/25 [==============================] - 0s 709us/step - loss: 0.2127 - accuracy: 0.9337\n",
      "Epoch 15/20\n",
      "25/25 [==============================] - 0s 750us/step - loss: 0.2010 - accuracy: 0.9438\n",
      "Epoch 16/20\n",
      "25/25 [==============================] - 0s 708us/step - loss: 0.1627 - accuracy: 0.9638\n",
      "Epoch 17/20\n",
      "25/25 [==============================] - 0s 667us/step - loss: 0.1539 - accuracy: 0.9675\n",
      "Epoch 18/20\n",
      "25/25 [==============================] - 0s 716us/step - loss: 0.1504 - accuracy: 0.9638\n",
      "Epoch 19/20\n",
      "25/25 [==============================] - 0s 750us/step - loss: 0.1408 - accuracy: 0.9638\n",
      "Epoch 20/20\n",
      "25/25 [==============================] - 0s 708us/step - loss: 0.1293 - accuracy: 0.9700\n"
     ]
    },
    {
     "data": {
      "text/plain": [
       "<keras.src.callbacks.History at 0x1f46f02a190>"
      ]
     },
     "execution_count": 6,
     "metadata": {},
     "output_type": "execute_result"
    }
   ],
   "source": [
    "# Let's build a model\n",
    "\n",
    "# Set random seed\n",
    "tf.random.set_seed(42)\n",
    "\n",
    "# 1. Create a model using Sequential API\n",
    "model = tf.keras.Sequential([\n",
    "    tf.keras.layers.Dense(4, activation=\"relu\"),\n",
    "    tf.keras.layers.Dense(4, activation=\"relu\"),\n",
    "    tf.keras.layers.Dense(1, activation=\"sigmoid\")\n",
    "])\n",
    "\n",
    "# 2. Compile the model\n",
    "model.compile(loss=\"binary_crossentropy\",\n",
    "              optimizer=tf.keras.optimizers.Adam(learning_rate=0.02),\n",
    "              metrics=['accuracy'])\n",
    "\n",
    "# 3.  Fit the model\n",
    "model.fit(X_train, y_train, epochs=20, verbose=1)"
   ]
  },
  {
   "cell_type": "code",
   "execution_count": 7,
   "metadata": {},
   "outputs": [
    {
     "name": "stdout",
     "output_type": "stream",
     "text": [
      "7/7 [==============================] - 0s 1ms/step - loss: 0.1437 - accuracy: 0.9550\n",
      "Model loss on test set: 0.1436844766139984\n",
      "Model accuracy on test set 95.50%\n"
     ]
    }
   ],
   "source": [
    "# Check the accuracy of our model\n",
    "loss, accuracy = model.evaluate(X_test, y_test)\n",
    "print(f\"Model loss on test set: {loss}\")\n",
    "print(f\"Model accuracy on test set {(accuracy*100):.2f}%\")"
   ]
  },
  {
   "cell_type": "code",
   "execution_count": null,
   "metadata": {},
   "outputs": [],
   "source": [
    "# Create a confusion matrix\n",
    "from sklearn.metrics import confusion_matrix\n",
    "\n",
    "# Make predictions\n",
    "y_preds = model.predict(X_test)\n",
    "\n",
    "# Create confusion matrix\n",
    "confusion_matrix(y_test, y_preds)"
   ]
  },
  {
   "cell_type": "markdown",
   "metadata": {},
   "source": [
    "The above code will result in a error \n",
    "\n",
    "It seems our predictions aren't in the format they need to be."
   ]
  },
  {
   "cell_type": "code",
   "execution_count": 9,
   "metadata": {},
   "outputs": [
    {
     "data": {
      "text/plain": [
       "array([[0.91204727],\n",
       "       [0.9821358 ],\n",
       "       [0.9915107 ],\n",
       "       [0.9792727 ],\n",
       "       [0.7554331 ],\n",
       "       [0.14507754],\n",
       "       [0.86407834],\n",
       "       [0.11832591],\n",
       "       [0.9744899 ],\n",
       "       [0.02278617]], dtype=float32)"
      ]
     },
     "execution_count": 9,
     "metadata": {},
     "output_type": "execute_result"
    }
   ],
   "source": [
    "# View the first 10 predicions\n",
    "y_preds[:10]"
   ]
  },
  {
   "cell_type": "markdown",
   "metadata": {},
   "source": [
    "What about our test labels?"
   ]
  },
  {
   "cell_type": "code",
   "execution_count": 10,
   "metadata": {},
   "outputs": [
    {
     "data": {
      "text/plain": [
       "array([1, 1, 1, 1, 0, 0, 1, 0, 1, 0], dtype=int64)"
      ]
     },
     "execution_count": 10,
     "metadata": {},
     "output_type": "execute_result"
    }
   ],
   "source": [
    "# View the first 10 test labels\n",
    "y_test[:10]"
   ]
  }
 ],
 "metadata": {
  "kernelspec": {
   "display_name": "Python 3",
   "language": "python",
   "name": "python3"
  },
  "language_info": {
   "codemirror_mode": {
    "name": "ipython",
    "version": 3
   },
   "file_extension": ".py",
   "mimetype": "text/x-python",
   "name": "python",
   "nbconvert_exporter": "python",
   "pygments_lexer": "ipython3",
   "version": "3.11.3"
  },
  "orig_nbformat": 4
 },
 "nbformat": 4,
 "nbformat_minor": 2
}
