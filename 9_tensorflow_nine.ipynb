{
 "cells": [
  {
   "cell_type": "code",
   "execution_count": 2,
   "metadata": {},
   "outputs": [],
   "source": [
    "import tensorflow as tf"
   ]
  },
  {
   "cell_type": "markdown",
   "metadata": {},
   "source": [
    "# Matrix Multiplication\n",
    "\n",
    "### In Machine Learning, Matrix multiplication is one of the most common tensor operations."
   ]
  },
  {
   "cell_type": "code",
   "execution_count": 3,
   "metadata": {},
   "outputs": [],
   "source": [
    "# Matrix multiplication is a fundamental operation in linear algebra that involves multiplying two matrices\n",
    "# to obtain a new matrix. It is defined as follows:\n",
    "\n",
    "\n",
    "# Given two matrices A and B, where A has dimensions (m x n) and B has dimensions (n x p), \n",
    "# the resulting matrix C obtained from matrix multiplication has dimensions (m x p). \n",
    "# Each element in the resulting matrix C is computed by taking the dot product of a row from matrix A \n",
    "# and a column from matrix B.\n",
    "\n",
    "\n",
    "# To illustrate the process of matrix multiplication, let's consider an example:\n",
    "\n",
    "# Given matrices A and B:\n",
    "\n",
    "# A = [[a11, a12, a13],\n",
    "#      [a21, a22, a23]]\n",
    "\n",
    "# B = [[b11, b12],\n",
    "#      [b21, b22],\n",
    "#      [b31, b32]]\n",
    "\n",
    "\n",
    "# Matrix can be computed as:\n",
    "\n",
    "# C = [[a11*b11 + a12*b21 + a13*b31, a11*b12 + a12*b22 + a13*b32],\n",
    "#      [a21*b11 + a22*b21 + a23*b31, a21*b12 + a22*b22 + a23*b32]]\n",
    "\n",
    "\n",
    "# In this example, matrix A has dimensions (2 x 3), and matrix B has dimensions (3 x 2). \n",
    "# After performing the matrix multiplication, the resulting matrix C has dimensions (2 x 2).\n",
    "\n",
    "\n",
    "# It's important to note that for matrix multiplication to be valid, \n",
    "# the number of columns in the first matrix (A) must be equal to the number of rows in the second matrix (B). \n",
    "# The resulting matrix will have dimensions equal to the number of rows in the first matrix (A) \n",
    "# and the number of columns in the second matrix (B)."
   ]
  },
  {
   "cell_type": "code",
   "execution_count": 6,
   "metadata": {},
   "outputs": [],
   "source": [
    "# In TensorFlow, tf.linalg is a module that provides a collection of linear algebra operations \n",
    "# for working with tensors. It offers a wide range of functions to perform common linear algebra computations \n",
    "# efficiently.\n",
    "\n",
    "# Here are some of the functionalities provided by tf.linalg:\n",
    "\n",
    "# Matrix operations: tf.linalg.matmul, tf.linalg.matrix_transpose, tf.linalg.matrix_inverse, \n",
    "# tf.linalg.matrix_solve, etc. These functions allow you to perform matrix multiplication, matrix transposition,\n",
    "# matrix inversion, and matrix solving operations, respectively.\n",
    "\n",
    "# Decompositions: tf.linalg.cholesky, tf.linalg.qr, tf.linalg.svd, tf.linalg.eig, etc. \n",
    "# These functions compute various matrix decompositions, such as Cholesky decomposition, QR decomposition, \n",
    "# singular value decomposition (SVD), and eigenvalue decomposition.\n",
    "\n",
    "# Norms and determinants: tf.linalg.norm, tf.linalg.matrix_determinant, tf.linalg.vector_norm, etc. \n",
    "# These functions calculate norms of tensors, determinants of matrices, and vector norms.\n",
    "\n",
    "# Solvers: tf.linalg.solvers, tf.linalg.LinearOperator, etc. These components provide functionality for \n",
    "# solving linear systems of equations and linear operators.\n",
    "\n",
    "# Other utilities: tf.linalg.diag, tf.linalg.eye, tf.linalg.band_part, tf.linalg.tensor_diag, etc. \n",
    "# These functions generate matrices with specific structures, such as diagonal matrices, identity matrices, \n",
    "# and banded matrices.\n",
    "\n",
    "# These are just a few examples of the operations and utilities available in the tf.linalg module. \n",
    "# It offers a comprehensive set of linear algebra functions that enable efficient computation and manipulation \n",
    "# of tensors in TensorFlow, especially in tasks involving linear transformations, matrix operations, \n",
    "# and numerical computations in machine learning and scientific computing."
   ]
  },
  {
   "cell_type": "code",
   "execution_count": 7,
   "metadata": {},
   "outputs": [],
   "source": [
    "# In TensorFlow, tf.linalg.matmul is a function that computes the matrix multiplication of two tensors. \n",
    "# It is part of the tf.linalg module, which provides linear algebra operations for tensors.\n",
    "\n",
    "# The tf.linalg.matmul function supports matrix multiplication between tensors of arbitrary dimensions, \n",
    "# as long as the dimensions align properly for matrix multiplication. The function takes two arguments, \n",
    "# the first being the left-hand-side tensor (A), and the second being the right-hand-side tensor (B).\n",
    "\n",
    "# It's important to ensure that the dimensions of the input matrices align properly for matrix multiplication. \n",
    "# Specifically, the number of columns in the left-hand-side tensor (A) must be equal to the number of rows \n",
    "# in the right-hand-side tensor (B) for the multiplication to be valid."
   ]
  },
  {
   "cell_type": "code",
   "execution_count": 8,
   "metadata": {},
   "outputs": [],
   "source": [
    "# In TensorFlow, the tf.matmul() function is used for matrix multiplication of two tensors. \n",
    "# It is a general-purpose matrix multiplication operation that can handle tensors of various dimensions.\n",
    "\n",
    "# It's important to note that tf.matmul() follows the rules of matrix multiplication, \n",
    "# where the number of columns in the left-hand-side tensor (A) must match the number of rows in \n",
    "# the right-hand-side tensor (B) for the multiplication to be valid. The function also supports broadcasting \n",
    "# for compatible dimensions.\n",
    "\n",
    "# Besides matrix multiplication, tf.matmul() can handle other tensor types, \n",
    "# such as batches of matrices or higher-dimensional tensors. It performs matrix multiplication along \n",
    "# the last two dimensions of the input tensors and broadcasts the remaining dimensions when applicable.\n",
    "\n",
    "# The tf.matmul() function is a versatile operation used in various deep learning tasks, \n",
    "# such as computing linear transformations, implementing neural networks, and performing tensor \n",
    "# contractions in tensor algebra."
   ]
  },
  {
   "cell_type": "code",
   "execution_count": 9,
   "metadata": {},
   "outputs": [
    {
     "data": {
      "text/plain": [
       "<tf.Tensor: shape=(2, 2), dtype=int32, numpy=\n",
       "array([[10,  7],\n",
       "       [ 3,  4]])>"
      ]
     },
     "execution_count": 9,
     "metadata": {},
     "output_type": "execute_result"
    }
   ],
   "source": [
    "tensor = tf.constant([[10,7],\n",
    "                      [3,4]])\n",
    "tensor"
   ]
  },
  {
   "cell_type": "code",
   "execution_count": 15,
   "metadata": {},
   "outputs": [
    {
     "data": {
      "text/plain": [
       "<tf.Tensor: shape=(2, 2), dtype=int32, numpy=\n",
       "array([[121,  98],\n",
       "       [ 42,  37]])>"
      ]
     },
     "execution_count": 15,
     "metadata": {},
     "output_type": "execute_result"
    }
   ],
   "source": [
    "tf.matmul(tensor, tensor) # matrix multiplication"
   ]
  },
  {
   "cell_type": "code",
   "execution_count": 12,
   "metadata": {},
   "outputs": [
    {
     "data": {
      "text/plain": [
       "<tf.Tensor: shape=(2, 2), dtype=int32, numpy=\n",
       "array([[10,  7],\n",
       "       [ 3,  4]])>"
      ]
     },
     "execution_count": 12,
     "metadata": {},
     "output_type": "execute_result"
    }
   ],
   "source": [
    "tensor"
   ]
  },
  {
   "cell_type": "code",
   "execution_count": 11,
   "metadata": {},
   "outputs": [
    {
     "data": {
      "text/plain": [
       "<tf.Tensor: shape=(2, 2), dtype=int32, numpy=\n",
       "array([[100,  49],\n",
       "       [  9,  16]])>"
      ]
     },
     "execution_count": 11,
     "metadata": {},
     "output_type": "execute_result"
    }
   ],
   "source": [
    "tensor * tensor # What happens here is elements are getting multiplied elemment wise"
   ]
  },
  {
   "cell_type": "code",
   "execution_count": 13,
   "metadata": {},
   "outputs": [
    {
     "data": {
      "text/plain": [
       "<tf.Tensor: shape=(2, 2), dtype=int32, numpy=\n",
       "array([[121,  98],\n",
       "       [ 42,  37]])>"
      ]
     },
     "execution_count": 13,
     "metadata": {},
     "output_type": "execute_result"
    }
   ],
   "source": [
    "# Now if you want to multiply matrices via python operator use @ operator\n",
    "tensor @ tensor"
   ]
  },
  {
   "cell_type": "code",
   "execution_count": 16,
   "metadata": {},
   "outputs": [],
   "source": [
    "x = tf.matmul(tensor, tensor)\n",
    "y = tensor @ tensor"
   ]
  },
  {
   "cell_type": "code",
   "execution_count": 21,
   "metadata": {},
   "outputs": [
    {
     "data": {
      "text/plain": [
       "<tf.Tensor: shape=(2, 2), dtype=bool, numpy=\n",
       "array([[ True,  True],\n",
       "       [ True,  True]])>"
      ]
     },
     "execution_count": 21,
     "metadata": {},
     "output_type": "execute_result"
    }
   ],
   "source": [
    "x == y"
   ]
  },
  {
   "cell_type": "code",
   "execution_count": 23,
   "metadata": {},
   "outputs": [
    {
     "data": {
      "text/plain": [
       "(<tf.Tensor: shape=(3, 2), dtype=int32, numpy=\n",
       " array([[1, 2],\n",
       "        [3, 4],\n",
       "        [5, 6]])>,\n",
       " <tf.Tensor: shape=(3, 2), dtype=int32, numpy=\n",
       " array([[ 7,  8],\n",
       "        [ 9, 10],\n",
       "        [11, 12]])>)"
      ]
     },
     "execution_count": 23,
     "metadata": {},
     "output_type": "execute_result"
    }
   ],
   "source": [
    "# Create a (3,2) tensor\n",
    "X = tf.constant([[1,2],\n",
    "                 [3,4],\n",
    "                 [5,6]])\n",
    "\n",
    "# Create another (3,2) tensor\n",
    "Y = tf.constant([[7,8],\n",
    "                 [9,10],\n",
    "                 [11,12]])\n",
    "\n",
    "X,Y"
   ]
  },
  {
   "cell_type": "code",
   "execution_count": 26,
   "metadata": {},
   "outputs": [],
   "source": [
    "# Try to matrix multiply tensors of same shape\n",
    "# X @ Y # error: matrix size incompatible\n",
    "# tf.matmul(X, Y) # error: matrix size incomaptible"
   ]
  }
 ],
 "metadata": {
  "kernelspec": {
   "display_name": "Python 3",
   "language": "python",
   "name": "python3"
  },
  "language_info": {
   "codemirror_mode": {
    "name": "ipython",
    "version": 3
   },
   "file_extension": ".py",
   "mimetype": "text/x-python",
   "name": "python",
   "nbconvert_exporter": "python",
   "pygments_lexer": "ipython3",
   "version": "3.11.3"
  },
  "orig_nbformat": 4
 },
 "nbformat": 4,
 "nbformat_minor": 2
}
